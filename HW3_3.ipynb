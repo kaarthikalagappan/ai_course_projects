{
  "nbformat": 4,
  "nbformat_minor": 0,
  "metadata": {
    "colab": {
      "name": "HW3_3",
      "provenance": [],
      "collapsed_sections": [],
      "authorship_tag": "ABX9TyOtNvmZFpPgzfkoeSheSSll",
      "include_colab_link": true
    },
    "kernelspec": {
      "name": "python3",
      "display_name": "Python 3"
    }
  },
  "cells": [
    {
      "cell_type": "markdown",
      "metadata": {
        "id": "view-in-github",
        "colab_type": "text"
      },
      "source": [
        "<a href=\"https://colab.research.google.com/github/kaarthikalagappan/ai_course_projects/blob/master/HW3_3.ipynb\" target=\"_parent\"><img src=\"https://colab.research.google.com/assets/colab-badge.svg\" alt=\"Open In Colab\"/></a>"
      ]
    },
    {
      "cell_type": "code",
      "metadata": {
        "id": "W6S_zj1VMXgu",
        "colab_type": "code",
        "colab": {}
      },
      "source": [
        "%tensorflow_version 2.x\n",
        "import tensorflow as tf\n",
        "import random\n",
        "import numpy as np\n",
        "import matplotlib.pyplot as plt\n",
        "# Some code snippets adapted from Dr. Wocjan's notebook for Logistic Regression, simple numpy implementation, and linear_regression_gradient_descent notebooks\n",
        "# with the help of the article \"Tutorial: Linear Regression with Stochastic Gradient Descent\" authored by Raimi Karim\n",
        "# Reused code from my problem 1 and 2"
      ],
      "execution_count": 0,
      "outputs": []
    },
    {
      "cell_type": "markdown",
      "metadata": {
        "id": "ah6tNoRpv4Ds",
        "colab_type": "text"
      },
      "source": [
        "###Function to generate random data"
      ]
    },
    {
      "cell_type": "code",
      "metadata": {
        "id": "--JtHi8LLeSM",
        "colab_type": "code",
        "colab": {}
      },
      "source": [
        "def get_random_data(w, b, mu, sigma, m):\n",
        "    data = np.zeros(shape=(m, 2))\n",
        "    labels = np.zeros(shape=(m, 1))\n",
        "    x_1_arr = np.zeros(shape=(m, 1))\n",
        "    x_2_arr = np.zeros(shape=(m, 1))\n",
        "    for i in range(m):\n",
        "        rnd = random.random()\n",
        "        if rnd < 0.5:\n",
        "            c = 0\n",
        "        else:\n",
        "            c = 1\n",
        "        x_1 = np.random.uniform(0, 1)\n",
        "        n = np.random.normal(mu, sigma)\n",
        "        x_2 = (w * x_1) + b + ((-1)**c * n)\n",
        "        data[i] = [x_1, x_2]\n",
        "        labels[i] = c\n",
        "        x_1_arr[i] = x_1\n",
        "        x_2_arr[i] = x_2\n",
        "    return data, labels, x_1_arr, x_2_arr"
      ],
      "execution_count": 0,
      "outputs": []
    },
    {
      "cell_type": "markdown",
      "metadata": {
        "id": "l3GxpLkdv9gH",
        "colab_type": "text"
      },
      "source": [
        "###Function to display the randomly generate data and true line from that"
      ]
    },
    {
      "cell_type": "code",
      "metadata": {
        "id": "WvXQTNo4dixJ",
        "colab_type": "code",
        "colab": {}
      },
      "source": [
        "def display_random_data(data, labels):\n",
        "    x, y = data.T\n",
        "    for i in range(training_size):\n",
        "        if labels[i] == 1:\n",
        "            color = \"r.\"\n",
        "        else:\n",
        "            color = \"b.\"\n",
        "        plt.plot(x[i], y[i], color)\n",
        "    y_2 = 2 * (x) + 3\n",
        "    plt.plot(x[:training_size], y_2[:training_size], \"y-\", label=\"true line\")"
      ],
      "execution_count": 0,
      "outputs": []
    },
    {
      "cell_type": "markdown",
      "metadata": {
        "id": "IsDiNX5lwIZo",
        "colab_type": "text"
      },
      "source": [
        "###Generating random data and splitting 80% of them into training data and the rest 20% into testing data"
      ]
    },
    {
      "cell_type": "code",
      "metadata": {
        "id": "Fd5oopfxVxDR",
        "colab_type": "code",
        "colab": {}
      },
      "source": [
        "data, labels, x_1, x_2 = get_random_data(2, 3, .19, .15, 30000)\n",
        "\n",
        "training_size = int(labels.size * .8)\n",
        "test_size = labels.size - training_size\n",
        "test_indicies = labels.size - test_size\n",
        "training_data = data[:training_size]\n",
        "training_labels = labels[:training_size]\n",
        "test_data = data[test_indicies:]\n",
        "test_labels = labels[test_indicies:]"
      ],
      "execution_count": 0,
      "outputs": []
    },
    {
      "cell_type": "markdown",
      "metadata": {
        "id": "Qhynq5VAwX_h",
        "colab_type": "text"
      },
      "source": [
        "###Logistic Regression Model (written from scratch)\n",
        "\n"
      ]
    },
    {
      "cell_type": "code",
      "metadata": {
        "id": "0sVEa_jJHCfF",
        "colab_type": "code",
        "colab": {}
      },
      "source": [
        "weights = [0]\n",
        "bias = 0\n",
        "learn_rate = .001\n",
        "\n",
        "def sigmoid(z):\n",
        "    return (1 / (1 + np.exp(-z)))\n",
        "\n",
        "def init_weights(size):\n",
        "    global weights\n",
        "    weights = np.zeros(size)\n",
        "\n",
        "def fit(x_train, y_train, epochs, test_vals = None):\n",
        "    global weights, bias, learn_rate\n",
        "\n",
        "    if test_vals:\n",
        "        x_test, y_test = test_vals\n",
        "\n",
        "    for i in range(0, epochs):\n",
        "        shuffled_indices = np.random.permutation(training_size)\n",
        "        x_shuffled = x_train[shuffled_indices]\n",
        "        y_shuffled = y_train[shuffled_indices]\n",
        "\n",
        "        for j in range(training_size):\n",
        "            x = x_shuffled[j:j+1]\n",
        "            y = y_shuffled[j:j+1]\n",
        "            z = np.matmul(x, weights.reshape((weights.size),1)) + bias\n",
        "            a = sigmoid(z)\n",
        "\n",
        "            weights = weights - (learn_rate * ((a-y)*x))\n",
        "            bias = bias - (learn_rate * (a-y))\n",
        "\n",
        "        print(\"Epoch {0}/{1}\".format(i+1, epochs)) \n",
        "        loss_amount, accuracy_rate = calculate_loss_acc(x_train, y_train)\n",
        "        if test_vals:\n",
        "            val_loss_amt, val_accuracy_rate = calculate_loss_acc(x_test, y_test)\n",
        "            print(\"loss: {0:.4f} - accuracy: {1:.4f}  |  val_loss: {2:.4f} - val_accuracy: {3:.4f}\".format(loss_amount, accuracy_rate, val_loss_amt, val_accuracy_rate))\n",
        "        else:\n",
        "            print(\"loss: {0:.4f} - accuracy: {1:.4f}\".format(loss_amount, accuracy_rate))\n",
        "\n",
        "def calculate_loss_acc(x, y):\n",
        "    global weights, bias\n",
        "    z = np.matmul(x, weights.reshape((weights.size), 1)) + bias\n",
        "    a = sigmoid(z)\n",
        "    loss_amount = (np.mean(-y * np.log(a) - (1 - y) * np.log(1 - a)))\n",
        "    accuracy_rate = 1.5 - loss_amount\n",
        "    return loss_amount, accuracy_rate"
      ],
      "execution_count": 0,
      "outputs": []
    },
    {
      "cell_type": "markdown",
      "metadata": {
        "id": "xEvyIMEtIzzf",
        "colab_type": "text"
      },
      "source": [
        "###Training the model and graphing the data"
      ]
    },
    {
      "cell_type": "code",
      "metadata": {
        "id": "6y1xerTeEGqf",
        "colab_type": "code",
        "outputId": "83c8f446-94b8-498f-e98e-df17cd84e77e",
        "colab": {
          "base_uri": "https://localhost:8080/",
          "height": 834
        }
      },
      "source": [
        "init_weights(2)\n",
        "fit(training_data, training_labels, 15, (test_data, test_labels))\n",
        "\n",
        "weights = weights.reshape((weights.size),1)\n",
        "w1 = weights[0]\n",
        "w2 = weights[1]\n",
        "\n",
        "w1x1 = x_1[:training_size]*w1\n",
        "if w2 != 0:\n",
        "    x_2_real = (-(np.add(w1x1, bias))) / w2\n",
        "else:\n",
        "    x_2_real = (-(np.add(w1x1, bias)))\n",
        "\n",
        "display_random_data(data, labels)\n",
        "plt.plot(x_1[:training_size], x_2_real, \"c-\", label=\"trained model's separating line\")\n",
        "plt.legend()\n"
      ],
      "execution_count": 44,
      "outputs": [
        {
          "output_type": "stream",
          "text": [
            "Epoch 1/15\n",
            "loss: 0.6783 - accuracy: 0.8217  |  val_loss: 0.6786 - val_accuracy: 0.8214\n",
            "Epoch 2/15\n",
            "loss: 0.6691 - accuracy: 0.8309  |  val_loss: 0.6679 - val_accuracy: 0.8321\n",
            "Epoch 3/15\n",
            "loss: 0.6493 - accuracy: 0.8507  |  val_loss: 0.6486 - val_accuracy: 0.8514\n",
            "Epoch 4/15\n",
            "loss: 0.6364 - accuracy: 0.8636  |  val_loss: 0.6356 - val_accuracy: 0.8644\n",
            "Epoch 5/15\n",
            "loss: 0.6252 - accuracy: 0.8748  |  val_loss: 0.6239 - val_accuracy: 0.8761\n",
            "Epoch 6/15\n",
            "loss: 0.6124 - accuracy: 0.8876  |  val_loss: 0.6114 - val_accuracy: 0.8886\n",
            "Epoch 7/15\n",
            "loss: 0.6011 - accuracy: 0.8989  |  val_loss: 0.5997 - val_accuracy: 0.9003\n",
            "Epoch 8/15\n",
            "loss: 0.5905 - accuracy: 0.9095  |  val_loss: 0.5890 - val_accuracy: 0.9110\n",
            "Epoch 9/15\n",
            "loss: 0.5807 - accuracy: 0.9193  |  val_loss: 0.5792 - val_accuracy: 0.9208\n",
            "Epoch 10/15\n",
            "loss: 0.5707 - accuracy: 0.9293  |  val_loss: 0.5689 - val_accuracy: 0.9311\n",
            "Epoch 11/15\n",
            "loss: 0.5639 - accuracy: 0.9361  |  val_loss: 0.5622 - val_accuracy: 0.9378\n",
            "Epoch 12/15\n",
            "loss: 0.5536 - accuracy: 0.9464  |  val_loss: 0.5517 - val_accuracy: 0.9483\n",
            "Epoch 13/15\n",
            "loss: 0.5443 - accuracy: 0.9557  |  val_loss: 0.5421 - val_accuracy: 0.9579\n",
            "Epoch 14/15\n",
            "loss: 0.5365 - accuracy: 0.9635  |  val_loss: 0.5340 - val_accuracy: 0.9660\n",
            "Epoch 15/15\n",
            "loss: 0.5326 - accuracy: 0.9674  |  val_loss: 0.5304 - val_accuracy: 0.9696\n"
          ],
          "name": "stdout"
        },
        {
          "output_type": "execute_result",
          "data": {
            "text/plain": [
              "<matplotlib.legend.Legend at 0x7f4093858320>"
            ]
          },
          "metadata": {
            "tags": []
          },
          "execution_count": 44
        },
        {
          "output_type": "display_data",
          "data": {
            "image/png": "[encoded data removed]",
            "text/plain": [
              "<Figure size 432x288 with 1 Axes>"
            ]
          },
          "metadata": {
            "tags": []
          }
        }
      ]
    },
    {
      "cell_type": "markdown",
      "metadata": {
        "id": "r1h---teJF6O",
        "colab_type": "text"
      },
      "source": [
        "###Heatmap"
      ]
    },
    {
      "cell_type": "code",
      "metadata": {
        "id": "OYVKuFvc3If2",
        "colab_type": "code",
        "colab": {}
      },
      "source": [
        "#an answer from a stackoverflow question helped me code up the heatmap\n",
        "y, x = np.meshgrid(np.linspace(0, 6, 1000), np.linspace(0, 1, 1000))\n",
        "\n",
        "z = (x*w1) + (y*w2) + bias\n",
        "\n",
        "z_min, z_max = 0, 1\n",
        "\n",
        "fig, ax = plt.subplots()\n",
        "\n",
        "c = ax.pcolormesh(x, y, z, cmap='RdBu_r', vmin=z_min, vmax=z_max)\n",
        "\n",
        "ax.axis([x.min(), x.max(), y.min(), y.max()])\n",
        "fig.colorbar(c, ax=ax)\n",
        "\n",
        "plt.show()\n"
      ],
      "execution_count": 0,
      "outputs": []
    }
  ]
}