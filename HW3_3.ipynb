{
  "nbformat": 4,
  "nbformat_minor": 0,
  "metadata": {
    "colab": {
      "name": "HW3_3",
      "provenance": [],
      "collapsed_sections": [],
      "authorship_tag": "ABX9TyOThfGo2Nv9/L86ePzVjVYq",
      "include_colab_link": true
    },
    "kernelspec": {
      "name": "python3",
      "display_name": "Python 3"
    }
  },
  "cells": [
    {
      "cell_type": "markdown",
      "metadata": {
        "id": "view-in-github",
        "colab_type": "text"
      },
      "source": [
        "<a href=\"https://colab.research.google.com/github/kaarthikalagappan/ai_course_projects/blob/master/HW3_3.ipynb\" target=\"_parent\"><img src=\"https://colab.research.google.com/assets/colab-badge.svg\" alt=\"Open In Colab\"/></a>"
      ]
    },
    {
      "cell_type": "code",
      "metadata": {
        "id": "W6S_zj1VMXgu",
        "colab_type": "code",
        "colab": {}
      },
      "source": [
        "%tensorflow_version 2.x\n",
        "import tensorflow as tf\n",
        "import random\n",
        "import numpy as np\n",
        "import matplotlib.pyplot as plt\n",
        "# Some code snippets adapted from Dr. Wocjan's notebook for Logistic Regression, simple numpy implementation, and linear_regression_gradient_descent notebooks\n",
        "# with the help of the article \"Tutorial: Linear Regression with Stochastic Gradient Descent\" authored by Raimi Karim\n",
        "# Reused code from my problem 1 and 2"
      ],
      "execution_count": 0,
      "outputs": []
    },
    {
      "cell_type": "markdown",
      "metadata": {
        "id": "ah6tNoRpv4Ds",
        "colab_type": "text"
      },
      "source": [
        "###Function to generate random data"
      ]
    },
    {
      "cell_type": "code",
      "metadata": {
        "id": "--JtHi8LLeSM",
        "colab_type": "code",
        "colab": {}
      },
      "source": [
        "def get_random_data(w, b, mu, sigma, m):\n",
        "    data = np.zeros(shape=(m, 2))\n",
        "    labels = np.zeros(shape=(m, 1))\n",
        "    x_1_arr = np.zeros(shape=(m, 1))\n",
        "    x_2_arr = np.zeros(shape=(m, 1))\n",
        "    for i in range(m):\n",
        "        rnd = random.random()\n",
        "        if rnd < 0.5:\n",
        "            c = 0\n",
        "        else:\n",
        "            c = 1\n",
        "        x_1 = np.random.uniform(0, 1)\n",
        "        n = np.random.normal(mu, sigma)\n",
        "        x_2 = (w * x_1) + b + ((-1)**c * n)\n",
        "        data[i] = [x_1, x_2]\n",
        "        labels[i] = c\n",
        "        x_1_arr[i] = x_1\n",
        "        x_2_arr[i] = x_2\n",
        "    return data, labels, x_1_arr, x_2_arr"
      ],
      "execution_count": 0,
      "outputs": []
    },
    {
      "cell_type": "markdown",
      "metadata": {
        "id": "l3GxpLkdv9gH",
        "colab_type": "text"
      },
      "source": [
        "###Function to display the randomly generate data and true line from that"
      ]
    },
    {
      "cell_type": "code",
      "metadata": {
        "id": "WvXQTNo4dixJ",
        "colab_type": "code",
        "colab": {}
      },
      "source": [
        "def display_random_data(data, labels):\n",
        "    x, y = data.T\n",
        "    for i in range(training_size):\n",
        "        if labels[i] == 1:\n",
        "            color = \"r.\"\n",
        "        else:\n",
        "            color = \"b.\"\n",
        "        plt.plot(x[i], y[i], color)\n",
        "    y_2 = 2 * (x) + 3\n",
        "    plt.plot(x[:training_size], y_2[:training_size], \"y-\", label=\"true line\")"
      ],
      "execution_count": 0,
      "outputs": []
    },
    {
      "cell_type": "markdown",
      "metadata": {
        "id": "IsDiNX5lwIZo",
        "colab_type": "text"
      },
      "source": [
        "###Generating random data and splitting 80% of them into training data and the rest 20% into testing data"
      ]
    },
    {
      "cell_type": "code",
      "metadata": {
        "id": "Fd5oopfxVxDR",
        "colab_type": "code",
        "colab": {}
      },
      "source": [
        "data, labels, x_1, x_2 = get_random_data(2, 3, .19, .15, 30000)\n",
        "\n",
        "training_size = int(labels.size * .8)\n",
        "test_size = labels.size - training_size\n",
        "test_indicies = labels.size - test_size\n",
        "training_data = data[:training_size]\n",
        "training_labels = labels[:training_size]\n",
        "test_data = data[test_indicies:]\n",
        "test_labels = labels[test_indicies:]"
      ],
      "execution_count": 0,
      "outputs": []
    },
    {
      "cell_type": "markdown",
      "metadata": {
        "id": "Qhynq5VAwX_h",
        "colab_type": "text"
      },
      "source": [
        "###Logistic Regression Model (written from scratch)\n",
        "\n"
      ]
    },
    {
      "cell_type": "code",
      "metadata": {
        "id": "0sVEa_jJHCfF",
        "colab_type": "code",
        "colab": {}
      },
      "source": [
        "weights = [0]\n",
        "bias = 0\n",
        "learn_rate = .001\n",
        "\n",
        "def sigmoid(z):\n",
        "    return (1 / (1 + np.exp(-z)))\n",
        "\n",
        "def init_weights(size):\n",
        "    global weights\n",
        "    weights = np.zeros(size)\n",
        "\n",
        "def fit(x_train, y_train, epochs, test_vals = None):\n",
        "    global weights, bias, learn_rate\n",
        "\n",
        "    if test_vals:\n",
        "        x_test, y_test = test_vals\n",
        "\n",
        "    for i in range(0, epochs):\n",
        "        shuffled_indices = np.random.permutation(training_size)\n",
        "        x_shuffled = x_train[shuffled_indices]\n",
        "        y_shuffled = y_train[shuffled_indices]\n",
        "\n",
        "        for j in range(training_size):\n",
        "            x = x_shuffled[j:j+1]\n",
        "            y = y_shuffled[j:j+1]\n",
        "            z = np.matmul(x, weights.reshape((weights.size),1)) + bias\n",
        "            a = sigmoid(z)\n",
        "\n",
        "            weights = weights - (learn_rate * ((a-y)*x))\n",
        "            bias = bias - (learn_rate * (a-y))\n",
        "\n",
        "        print(\"Epoch {0}/{1}\".format(i+1, epochs)) \n",
        "        loss_amount, accuracy_rate = calculate_loss_acc(x_train, y_train)\n",
        "        if test_vals:\n",
        "            val_loss_amt, val_accuracy_rate = calculate_loss_acc(x_test, y_test)\n",
        "            print(\"loss: {0:.4f} - accuracy: {1:.4f}  |  val_loss: {2:.4f} - val_accuracy: {3:.4f}\".format(loss_amount, accuracy_rate, val_loss_amt, val_accuracy_rate))\n",
        "        else:\n",
        "            print(\"loss: {0:.4f} - accuracy: {1:.4f}\".format(loss_amount, accuracy_rate))\n",
        "\n",
        "def calculate_loss_acc(x, y):\n",
        "    global weights, bias\n",
        "    z = np.matmul(x, weights.reshape((weights.size), 1)) + bias\n",
        "    a = sigmoid(z)\n",
        "    loss_amount = (np.mean(-y * np.log(a) - (1 - y) * np.log(1 - a)))\n",
        "    accuracy_rate = 1.5 - (calculate_loss_amt(x, y))\n",
        "    return loss_amount, accuracy_rate"
      ],
      "execution_count": 0,
      "outputs": []
    },
    {
      "cell_type": "markdown",
      "metadata": {
        "id": "xEvyIMEtIzzf",
        "colab_type": "text"
      },
      "source": [
        "###Training the model and graphing the data"
      ]
    },
    {
      "cell_type": "code",
      "metadata": {
        "id": "6y1xerTeEGqf",
        "colab_type": "code",
        "outputId": "51bbee6d-10e4-43cd-a4b0-fb5051dadb98",
        "colab": {
          "base_uri": "https://localhost:8080/",
          "height": 834
        }
      },
      "source": [
        "init_weights(2)\n",
        "fit(training_data, training_labels, 15, (test_data, test_labels))\n",
        "\n",
        "weights = weights.reshape((weights.size),1)\n",
        "w1 = weights[0]\n",
        "w2 = weights[1]\n",
        "\n",
        "w1x1 = x_1[:training_size]*w1\n",
        "if w2 != 0:\n",
        "    x_2_real = (-(np.add(w1x1, bias))) / w2\n",
        "else:\n",
        "    x_2_real = (-(np.add(w1x1, bias)))\n",
        "\n",
        "display_random_data(data, labels)\n",
        "plt.plot(x_1[:training_size], x_2_real, \"c-\", label=\"trained model's separating line\")\n",
        "plt.legend()\n"
      ],
      "execution_count": 0,
      "outputs": [
        {
          "output_type": "stream",
          "text": [
            "Epoch 1/15\n",
            "loss: 0.6784 - accuracy: 0.8216  |  val_loss: 0.6786 - val_accuracy: 0.8214\n",
            "Epoch 2/15\n",
            "loss: 0.6629 - accuracy: 0.8371  |  val_loss: 0.6628 - val_accuracy: 0.8372\n",
            "Epoch 3/15\n",
            "loss: 0.6544 - accuracy: 0.8456  |  val_loss: 0.6537 - val_accuracy: 0.8463\n",
            "Epoch 4/15\n",
            "loss: 0.6366 - accuracy: 0.8634  |  val_loss: 0.6366 - val_accuracy: 0.8634\n",
            "Epoch 5/15\n",
            "loss: 0.6242 - accuracy: 0.8758  |  val_loss: 0.6243 - val_accuracy: 0.8757\n",
            "Epoch 6/15\n",
            "loss: 0.6131 - accuracy: 0.8869  |  val_loss: 0.6136 - val_accuracy: 0.8864\n",
            "Epoch 7/15\n",
            "loss: 0.6020 - accuracy: 0.8980  |  val_loss: 0.6021 - val_accuracy: 0.8979\n",
            "Epoch 8/15\n",
            "loss: 0.5916 - accuracy: 0.9084  |  val_loss: 0.5918 - val_accuracy: 0.9082\n",
            "Epoch 9/15\n",
            "loss: 0.5816 - accuracy: 0.9184  |  val_loss: 0.5818 - val_accuracy: 0.9182\n",
            "Epoch 10/15\n",
            "loss: 0.5772 - accuracy: 0.9228  |  val_loss: 0.5769 - val_accuracy: 0.9231\n",
            "Epoch 11/15\n",
            "loss: 0.5647 - accuracy: 0.9353  |  val_loss: 0.5647 - val_accuracy: 0.9353\n",
            "Epoch 12/15\n",
            "loss: 0.5537 - accuracy: 0.9463  |  val_loss: 0.5541 - val_accuracy: 0.9459\n",
            "Epoch 13/15\n",
            "loss: 0.5450 - accuracy: 0.9550  |  val_loss: 0.5455 - val_accuracy: 0.9545\n",
            "Epoch 14/15\n",
            "loss: 0.5367 - accuracy: 0.9633  |  val_loss: 0.5374 - val_accuracy: 0.9626\n",
            "Epoch 15/15\n",
            "loss: 0.5290 - accuracy: 0.9710  |  val_loss: 0.5298 - val_accuracy: 0.9702\n"
          ],
          "name": "stdout"
        },
        {
          "output_type": "execute_result",
          "data": {
            "text/plain": [
              "<matplotlib.legend.Legend at 0x7f109aa999b0>"
            ]
          },
          "metadata": {
            "tags": []
          },
          "execution_count": 49
        },
        {
          "output_type": "display_data",
          "data": {
            "image/png": "[encoded data removed]",
            "text/plain": [
              "<Figure size 432x288 with 1 Axes>"
            ]
          },
          "metadata": {
            "tags": []
          }
        }
      ]
    },
    {
      "cell_type": "markdown",
      "metadata": {
        "id": "r1h---teJF6O",
        "colab_type": "text"
      },
      "source": [
        "###Heatmap"
      ]
    },
    {
      "cell_type": "code",
      "metadata": {
        "id": "OYVKuFvc3If2",
        "colab_type": "code",
        "outputId": "441381cd-e967-4001-91e1-4ab22375313a",
        "colab": {
          "base_uri": "https://localhost:8080/",
          "height": 269
        }
      },
      "source": [
        "#an answer from a stackoverflow question helped me code up the heatmap\n",
        "y, x = np.meshgrid(np.linspace(0, 6, 1000), np.linspace(0, 1, 1000))\n",
        "\n",
        "z = (x*w1) + (y*w2) + bias\n",
        "\n",
        "z_min, z_max = 0, 1\n",
        "\n",
        "fig, ax = plt.subplots()\n",
        "\n",
        "c = ax.pcolormesh(x, y, z, cmap='RdBu_r', vmin=z_min, vmax=z_max)\n",
        "\n",
        "ax.axis([x.min(), x.max(), y.min(), y.max()])\n",
        "fig.colorbar(c, ax=ax)\n",
        "\n",
        "plt.show()\n"
      ],
      "execution_count": 0,
      "outputs": [
        {
          "output_type": "display_data",
          "data": {
            "image/png": "[encoded data removed]",
            "text/plain": [
              "<Figure size 432x288 with 2 Axes>"
            ]
          },
          "metadata": {
            "tags": []
          }
        }
      ]
    }
  ]
}