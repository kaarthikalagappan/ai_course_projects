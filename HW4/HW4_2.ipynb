{
  "nbformat": 4,
  "nbformat_minor": 0,
  "metadata": {
    "colab": {
      "name": "HW4_2.ipynb",
      "provenance": [],
      "collapsed_sections": [],
      "authorship_tag": "ABX9TyNT60FbtPJZ2pmjrVkTkYW6",
      "include_colab_link": true
    },
    "kernelspec": {
      "name": "python3",
      "display_name": "Python 3"
    }
  },
  "cells": [
    {
      "cell_type": "markdown",
      "metadata": {
        "id": "view-in-github",
        "colab_type": "text"
      },
      "source": [
        "<a href=\"https://colab.research.google.com/github/kaarthikalagappan/ai_course_projects/blob/master/HW4_2.ipynb\" target=\"_parent\"><img src=\"https://colab.research.google.com/assets/colab-badge.svg\" alt=\"Open In Colab\"/></a>"
      ]
    },
    {
      "cell_type": "code",
      "metadata": {
        "id": "tcqyKgOp3l9i",
        "colab_type": "code",
        "colab": {}
      },
      "source": [
        "import numpy as np\n"
      ],
      "execution_count": 0,
      "outputs": []
    },
    {
      "cell_type": "code",
      "metadata": {
        "id": "49rLLJmN2zDR",
        "colab_type": "code",
        "colab": {}
      },
      "source": [
        "class CustomException(Exception):\n",
        "    pass\n",
        "\n",
        "class Incompatible(Exception):\n",
        "    def __init__(self, msg):\n",
        "        # Error message is stored in msg\n",
        "        self.msg = msg\n",
        "debug = False"
      ],
      "execution_count": 0,
      "outputs": []
    },
    {
      "cell_type": "code",
      "metadata": {
        "id": "TqrPg3zJxvMy",
        "colab_type": "code",
        "colab": {}
      },
      "source": [
        "def maxpooling2d(input_mat, s):\n",
        "    \n",
        "    if debug:\n",
        "        print(\"maxpool window: \" + str(s))\n",
        "        print(\"input matrix shape: \" + str(input_mat.shape))\n",
        "        print(\"input matrix: \\n\" + str(input_mat))\n",
        "\n",
        "    if(input_mat.ndim <= 2):\n",
        "        (height,width) = input_mat.shape\n",
        "        channels = 1\n",
        "    else:\n",
        "        (height,width,channels) = input_mat.shape\n",
        "\n",
        "    if(height != width):\n",
        "        raise Incompatible(\"Input is not a square matrix\")\n",
        "    if(height < s):\n",
        "        raise Incompatible(\"Maxpool window is bigger than input matrix\")\n",
        "\n",
        "    #if it's always going to be square matricies\n",
        "    output_size = int(np.floor((min(height,width))/s))\n",
        "\n",
        "    output_mat = np.zeros((output_size, output_size))\n",
        "    for h in range(output_size):\n",
        "        for w in range(output_size):\n",
        "            if channels > 1:\n",
        "                for c in range(channels):\n",
        "                    max_value = input_mat[h*s:h*s+s, w*s:w*s+s, c].max()\n",
        "                    output_mat[h][w] = output_mat[h][w]+max_value\n",
        "            else:\n",
        "                max_value = input_mat[h*s:h*s+s, w*s:w*s+s].max()\n",
        "                output_mat[h][w] = max_value\n",
        "    \n",
        "    if debug:\n",
        "        print(\"\\noutput matrix shape: \" + str(output_mat.shape))\n",
        "        print(str(output_mat))\n",
        "    return output_mat\n"
      ],
      "execution_count": 0,
      "outputs": []
    },
    {
      "cell_type": "markdown",
      "metadata": {
        "id": "jb9eio3Nt-pm",
        "colab_type": "text"
      },
      "source": [
        "## Testing it"
      ]
    },
    {
      "cell_type": "code",
      "metadata": {
        "id": "dZHTmdyv4X_f",
        "colab_type": "code",
        "outputId": "fc753b90-07ef-4c87-c186-adc44c62fed0",
        "colab": {
          "base_uri": "https://localhost:8080/",
          "height": 219
        }
      },
      "source": [
        "input_mat = np.array([[1,1,1,0,0], [0,1,1,1,0], [0,0,1,1,1], [0,0,1,1,0], [0,1,1,0,0]])\n",
        "debug = True\n",
        "output_mat = maxpooling2d(input_mat, 4)\n"
      ],
      "execution_count": 28,
      "outputs": [
        {
          "output_type": "stream",
          "text": [
            "maxpool window: 4\n",
            "input matrix shape: (5, 5)\n",
            "input matrix: \n",
            "[[1 1 1 0 0]\n",
            " [0 1 1 1 0]\n",
            " [0 0 1 1 1]\n",
            " [0 0 1 1 0]\n",
            " [0 1 1 0 0]]\n",
            "\n",
            "output matrix shape: (1, 1)\n",
            "[[1.]]\n"
          ],
          "name": "stdout"
        }
      ]
    },
    {
      "cell_type": "code",
      "metadata": {
        "id": "2rbYTZt95NFw",
        "colab_type": "code",
        "outputId": "461fb604-5f8a-4dec-fe1b-84b0c524f0b7",
        "colab": {
          "base_uri": "https://localhost:8080/",
          "height": 237
        }
      },
      "source": [
        "input_mat = np.array([[1,1,1,0,0], [0,1,1,1,0], [0,0,1,1,1], [0,0,1,1,0], [0,1,1,0,0]])\n",
        "debug = True\n",
        "output_mat = maxpooling2d(input_mat, 2)\n"
      ],
      "execution_count": 29,
      "outputs": [
        {
          "output_type": "stream",
          "text": [
            "maxpool window: 2\n",
            "input matrix shape: (5, 5)\n",
            "input matrix: \n",
            "[[1 1 1 0 0]\n",
            " [0 1 1 1 0]\n",
            " [0 0 1 1 1]\n",
            " [0 0 1 1 0]\n",
            " [0 1 1 0 0]]\n",
            "\n",
            "output matrix shape: (2, 2)\n",
            "[[1. 1.]\n",
            " [0. 1.]]\n"
          ],
          "name": "stdout"
        }
      ]
    },
    {
      "cell_type": "code",
      "metadata": {
        "id": "vjMdGo2O604E",
        "colab_type": "code",
        "outputId": "362b577f-403a-48c4-db0b-f2c40222e459",
        "colab": {
          "base_uri": "https://localhost:8080/",
          "height": 237
        }
      },
      "source": [
        "input_mat = np.array([[1,2,3,4,0], [4,3,2,1,0], [9,8,7,6,0], [9,8,7,6,0], [5,4,6,7,0]])\n",
        "debug = True\n",
        "output_mat = maxpooling2d(input_mat, 2)\n"
      ],
      "execution_count": 30,
      "outputs": [
        {
          "output_type": "stream",
          "text": [
            "maxpool window: 2\n",
            "input matrix shape: (5, 5)\n",
            "input matrix: \n",
            "[[1 2 3 4 0]\n",
            " [4 3 2 1 0]\n",
            " [9 8 7 6 0]\n",
            " [9 8 7 6 0]\n",
            " [5 4 6 7 0]]\n",
            "\n",
            "output matrix shape: (2, 2)\n",
            "[[4. 4.]\n",
            " [9. 7.]]\n"
          ],
          "name": "stdout"
        }
      ]
    },
    {
      "cell_type": "code",
      "metadata": {
        "id": "Gr5aWVNOCj0k",
        "colab_type": "code",
        "outputId": "70d812b4-6088-44d4-b0e7-2e69a8ab874d",
        "colab": {
          "base_uri": "https://localhost:8080/",
          "height": 256
        }
      },
      "source": [
        "input_mat = np.array([[1,2,3,4,0,1], [4,3,2,1,0,7], [9,8,7,6,0,5], [9,8,7,6,0,3], [5,4,6,7,0,1], [12,0,34,55,31,2]])\n",
        "debug = True\n",
        "output_mat = maxpooling2d(input_mat, 3)\n"
      ],
      "execution_count": 31,
      "outputs": [
        {
          "output_type": "stream",
          "text": [
            "maxpool window: 3\n",
            "input matrix shape: (6, 6)\n",
            "input matrix: \n",
            "[[ 1  2  3  4  0  1]\n",
            " [ 4  3  2  1  0  7]\n",
            " [ 9  8  7  6  0  5]\n",
            " [ 9  8  7  6  0  3]\n",
            " [ 5  4  6  7  0  1]\n",
            " [12  0 34 55 31  2]]\n",
            "\n",
            "output matrix shape: (2, 2)\n",
            "[[ 9.  7.]\n",
            " [34. 55.]]\n"
          ],
          "name": "stdout"
        }
      ]
    },
    {
      "cell_type": "markdown",
      "metadata": {
        "id": "epPOOOmUpJJh",
        "colab_type": "text"
      },
      "source": [
        "### Test Cases from the TAs"
      ]
    },
    {
      "cell_type": "code",
      "metadata": {
        "id": "7Q0IRKMTd6dZ",
        "colab_type": "code",
        "outputId": "9a20a9f2-b8ce-4d30-de75-3051f6fe809e",
        "colab": {
          "base_uri": "https://localhost:8080/",
          "height": 430
        }
      },
      "source": [
        "import skimage.measure\n",
        "\n",
        "input_mat = []\n",
        "expected_mat = []\n",
        "s = []\n",
        "debug = False\n",
        "input_mat.append(np.array([[1, 2, 1, 2],\n",
        "                      [2, 4, 2, 1],\n",
        "                      [1, 2, 4, 2],\n",
        "                      [2, 1, 2, 1]]))\n",
        "s.append(2)\n",
        "\n",
        "expected_mat.append(np.array([[4, 2],\n",
        "                                [2, 4]]))\n",
        "\n",
        "# Note: This test case is not a square matrix, so an error will be raised\n",
        "input_mat.append(np.array([[1, 2, 1, 2, 4, 5],\n",
        "                      [2, 4, 2, 1, 0, 3],\n",
        "                      [1, 2, 4, 2, 4, 5],\n",
        "                      [2, 1, 2, 1, 2, 1],\n",
        "                      [1, 1, 2, 3, 1, 2]]))\n",
        "s.append(2)\n",
        "\n",
        "expected_mat.append([[4, 2, 5],\n",
        " [2, 4, 5],\n",
        " [1, 3, 2]])\n",
        "\n",
        "\n",
        "for i in range(len(input_mat)):\n",
        "  # uncomment top line and comment second line to test code\n",
        "  output_mat = maxpooling2d(input_mat[i], s[i])\n",
        "#   output_mat = skimage.measure.block_reduce(input_mat[i], (s[i],s[i]), np.max)\n",
        "\n",
        "  print(output_mat)\n",
        "\n",
        "  if np.array_equal(output_mat, expected_mat[i]):\n",
        "    print(\"Correct output!\")\n",
        "  else:\n",
        "    print(\"Incorrect output!\")\n"
      ],
      "execution_count": 32,
      "outputs": [
        {
          "output_type": "stream",
          "text": [
            "[[4. 2.]\n",
            " [2. 4.]]\n",
            "Correct output!\n"
          ],
          "name": "stdout"
        },
        {
          "output_type": "error",
          "ename": "Incompatible",
          "evalue": "ignored",
          "traceback": [
            "\u001b[0;31m---------------------------------------------------------------------------\u001b[0m",
            "\u001b[0;31mIncompatible\u001b[0m                              Traceback (most recent call last)",
            "\u001b[0;32m<ipython-input-32-b0592e3ee9f3>\u001b[0m in \u001b[0;36m<module>\u001b[0;34m()\u001b[0m\n\u001b[1;32m     29\u001b[0m \u001b[0;32mfor\u001b[0m \u001b[0mi\u001b[0m \u001b[0;32min\u001b[0m \u001b[0mrange\u001b[0m\u001b[0;34m(\u001b[0m\u001b[0mlen\u001b[0m\u001b[0;34m(\u001b[0m\u001b[0minput_mat\u001b[0m\u001b[0;34m)\u001b[0m\u001b[0;34m)\u001b[0m\u001b[0;34m:\u001b[0m\u001b[0;34m\u001b[0m\u001b[0;34m\u001b[0m\u001b[0m\n\u001b[1;32m     30\u001b[0m   \u001b[0;31m# uncomment top line and comment second line to test code\u001b[0m\u001b[0;34m\u001b[0m\u001b[0;34m\u001b[0m\u001b[0;34m\u001b[0m\u001b[0m\n\u001b[0;32m---> 31\u001b[0;31m   \u001b[0moutput_mat\u001b[0m \u001b[0;34m=\u001b[0m \u001b[0mmaxpooling2d\u001b[0m\u001b[0;34m(\u001b[0m\u001b[0minput_mat\u001b[0m\u001b[0;34m[\u001b[0m\u001b[0mi\u001b[0m\u001b[0;34m]\u001b[0m\u001b[0;34m,\u001b[0m \u001b[0ms\u001b[0m\u001b[0;34m[\u001b[0m\u001b[0mi\u001b[0m\u001b[0;34m]\u001b[0m\u001b[0;34m)\u001b[0m\u001b[0;34m\u001b[0m\u001b[0;34m\u001b[0m\u001b[0m\n\u001b[0m\u001b[1;32m     32\u001b[0m \u001b[0;31m#   output_mat = skimage.measure.block_reduce(input_mat[i], (s[i],s[i]), np.max)\u001b[0m\u001b[0;34m\u001b[0m\u001b[0;34m\u001b[0m\u001b[0;34m\u001b[0m\u001b[0m\n\u001b[1;32m     33\u001b[0m \u001b[0;34m\u001b[0m\u001b[0m\n",
            "\u001b[0;32m<ipython-input-27-7a0c0c4f32e7>\u001b[0m in \u001b[0;36mmaxpooling2d\u001b[0;34m(input_mat, s)\u001b[0m\n\u001b[1;32m     13\u001b[0m \u001b[0;34m\u001b[0m\u001b[0m\n\u001b[1;32m     14\u001b[0m     \u001b[0;32mif\u001b[0m\u001b[0;34m(\u001b[0m\u001b[0mheight\u001b[0m \u001b[0;34m!=\u001b[0m \u001b[0mwidth\u001b[0m\u001b[0;34m)\u001b[0m\u001b[0;34m:\u001b[0m\u001b[0;34m\u001b[0m\u001b[0;34m\u001b[0m\u001b[0m\n\u001b[0;32m---> 15\u001b[0;31m         \u001b[0;32mraise\u001b[0m \u001b[0mIncompatible\u001b[0m\u001b[0;34m(\u001b[0m\u001b[0;34m\"Input is not a square matrix\"\u001b[0m\u001b[0;34m)\u001b[0m\u001b[0;34m\u001b[0m\u001b[0;34m\u001b[0m\u001b[0m\n\u001b[0m\u001b[1;32m     16\u001b[0m     \u001b[0;32mif\u001b[0m\u001b[0;34m(\u001b[0m\u001b[0mheight\u001b[0m \u001b[0;34m<\u001b[0m \u001b[0ms\u001b[0m\u001b[0;34m)\u001b[0m\u001b[0;34m:\u001b[0m\u001b[0;34m\u001b[0m\u001b[0;34m\u001b[0m\u001b[0m\n\u001b[1;32m     17\u001b[0m         \u001b[0;32mraise\u001b[0m \u001b[0mIncompatible\u001b[0m\u001b[0;34m(\u001b[0m\u001b[0;34m\"Maxpool window is bigger than input matrix\"\u001b[0m\u001b[0;34m)\u001b[0m\u001b[0;34m\u001b[0m\u001b[0;34m\u001b[0m\u001b[0m\n",
            "\u001b[0;31mIncompatible\u001b[0m: Input is not a square matrix"
          ]
        }
      ]
    }
  ]
}
