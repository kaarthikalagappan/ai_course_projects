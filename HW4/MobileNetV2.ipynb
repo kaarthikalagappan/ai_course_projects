{
  "nbformat": 4,
  "nbformat_minor": 0,
  "metadata": {
    "colab": {
      "name": "MobileNetV2.ipynb",
      "provenance": [],
      "include_colab_link": true
    },
    "kernelspec": {
      "name": "python3",
      "display_name": "Python 3"
    },
    "accelerator": "GPU"
  },
  "cells": [
    {
      "cell_type": "markdown",
      "metadata": {
        "id": "view-in-github",
        "colab_type": "text"
      },
      "source": [
        "<a href=\"https://colab.research.google.com/github/kaarthikalagappan/ai_course_projects/blob/master/MobileNetV2.ipynb\" target=\"_parent\"><img src=\"https://colab.research.google.com/assets/colab-badge.svg\" alt=\"Open In Colab\"/></a>"
      ]
    },
    {
      "cell_type": "markdown",
      "metadata": {
        "id": "KSrgMJ5vKFzQ",
        "colab_type": "text"
      },
      "source": [
        "# Fine-tuning MobileNetV2 (Adapted from Dr. Wocjan's notebook)"
      ]
    },
    {
      "cell_type": "markdown",
      "metadata": {
        "id": "TIW7bZaAK-Hf",
        "colab_type": "text"
      },
      "source": [
        "This is based on section 5.3 *Using a pretrained convnet* of the book *Deep learning with Python* by Francois Chollet. I have made several changes to the code. I use the data that is already provided by Google. I don't download the data from Kaggle as in the deep learning book."
      ]
    },
    {
      "cell_type": "markdown",
      "metadata": {
        "id": "nsBq__dVo2pj",
        "colab_type": "text"
      },
      "source": [
        "## Feature extraction"
      ]
    },
    {
      "cell_type": "markdown",
      "metadata": {
        "id": "0g6ETAM9o54M",
        "colab_type": "text"
      },
      "source": [
        "Feature extraction consists of using the representations learned by a previous network to extract interesting features from new samples. These features are then run through a new classifier, which is trained from scratch.\n",
        "\n",
        "We will use here the convolutional base of the VGG16 model to extract the features. We will feed these features to a densely connected classifier with dropout. We will fine-tune some layers."
      ]
    },
    {
      "cell_type": "markdown",
      "metadata": {
        "id": "BqIG8QHMLNOn",
        "colab_type": "text"
      },
      "source": [
        "## Download the data"
      ]
    },
    {
      "cell_type": "markdown",
      "metadata": {
        "id": "t3I1jd7cKV6_",
        "colab_type": "text"
      },
      "source": [
        "Download the example data, a zip. of 2,000 JPG pictures of cats and dogs and extract it locally in ```/tmp```.\n",
        "\n"
      ]
    },
    {
      "cell_type": "code",
      "metadata": {
        "id": "JWjprHEXJ5Qi",
        "colab_type": "code",
        "outputId": "13888087-6d82-414e-d913-403a7a8e3eed",
        "colab": {
          "base_uri": "https://localhost:8080/",
          "height": 219
        }
      },
      "source": [
        "!wget --no-check-certificate \\\n",
        "    https://storage.googleapis.com/mledu-datasets/cats_and_dogs_filtered.zip \\\n",
        "    -O /tmp/cats_and_dogs_filtered.zip"
      ],
      "execution_count": 20,
      "outputs": [
        {
          "output_type": "stream",
          "text": [
            "--2020-04-19 23:14:31--  https://storage.googleapis.com/mledu-datasets/cats_and_dogs_filtered.zip\n",
            "Resolving storage.googleapis.com (storage.googleapis.com)... 172.217.194.128, 2404:6800:4003:c04::80\n",
            "Connecting to storage.googleapis.com (storage.googleapis.com)|172.217.194.128|:443... connected.\n",
            "HTTP request sent, awaiting response... 200 OK\n",
            "Length: 68606236 (65M) [application/zip]\n",
            "Saving to: ‘/tmp/cats_and_dogs_filtered.zip’\n",
            "\n",
            "/tmp/cats_and_dogs_ 100%[===================>]  65.43M  92.9MB/s    in 0.7s    \n",
            "\n",
            "2020-04-19 23:14:32 (92.9 MB/s) - ‘/tmp/cats_and_dogs_filtered.zip’ saved [68606236/68606236]\n",
            "\n"
          ],
          "name": "stdout"
        }
      ]
    },
    {
      "cell_type": "code",
      "metadata": {
        "id": "WvoHtdA-K6Rw",
        "colab_type": "code",
        "colab": {}
      },
      "source": [
        "import os\n",
        "import zipfile\n",
        "\n",
        "local_zip = '/tmp/cats_and_dogs_filtered.zip'\n",
        "zip_ref = zipfile.ZipFile(local_zip, 'r')\n",
        "zip_ref.extractall('/tmp')\n",
        "zip_ref.close()"
      ],
      "execution_count": 0,
      "outputs": []
    },
    {
      "cell_type": "markdown",
      "metadata": {
        "id": "shZiOBnJMyy_",
        "colab_type": "text"
      },
      "source": [
        "Note that the data provided by Google does not have a test set."
      ]
    },
    {
      "cell_type": "code",
      "metadata": {
        "id": "dL8ikM89LlsH",
        "colab_type": "code",
        "colab": {}
      },
      "source": [
        "base_dir = '/tmp/cats_and_dogs_filtered'\n",
        "train_dir = os.path.join(base_dir, 'train')\n",
        "validation_dir = os.path.join(base_dir, 'validation')\n",
        "\n",
        "# Directory with our training cat pictures\n",
        "train_cats_dir = os.path.join(train_dir, 'cats')\n",
        "\n",
        "# Directory with our training dog pictures\n",
        "train_dogs_dir = os.path.join(train_dir, 'dogs')\n",
        "\n",
        "# Directory with our validation cat pictures\n",
        "validation_cats_dir = os.path.join(validation_dir, 'cats')\n",
        "\n",
        "# Directory with our validation dog pictures\n",
        "validation_dogs_dir = os.path.join(validation_dir, 'dogs')"
      ],
      "execution_count": 0,
      "outputs": []
    },
    {
      "cell_type": "markdown",
      "metadata": {
        "id": "inyP8bcdXnn-",
        "colab_type": "text"
      },
      "source": [
        "## Build network with MobileNetV2 convolution base and custom densely connected layers"
      ]
    },
    {
      "cell_type": "markdown",
      "metadata": {
        "id": "kQ48W5T9rHWu",
        "colab_type": "text"
      },
      "source": [
        "### Load the convolutional base"
      ]
    },
    {
      "cell_type": "code",
      "metadata": {
        "id": "Y0FgtANCXm_H",
        "colab_type": "code",
        "outputId": "4bef3641-f58b-4c98-f5df-1a46edbd5ddc",
        "colab": {
          "base_uri": "https://localhost:8080/",
          "height": 74
        }
      },
      "source": [
        "from keras.applications import MobileNetV2\n",
        "\n",
        "conv_base = MobileNetV2(\n",
        "    weights='imagenet', \n",
        "    include_top=False, \n",
        "    input_shape=(150, 150, 3))"
      ],
      "execution_count": 23,
      "outputs": [
        {
          "output_type": "stream",
          "text": [
            "/usr/local/lib/python3.6/dist-packages/keras_applications/mobilenet_v2.py:294: UserWarning: `input_shape` is undefined or non-square, or `rows` is not in [96, 128, 160, 192, 224]. Weights for input shape (224, 224) will be loaded as the default.\n",
            "  warnings.warn('`input_shape` is undefined or non-square, '\n"
          ],
          "name": "stderr"
        }
      ]
    },
    {
      "cell_type": "markdown",
      "metadata": {
        "id": "D6OBHOO9q1ou",
        "colab_type": "text"
      },
      "source": [
        "### Freeze the convolutional base"
      ]
    },
    {
      "cell_type": "code",
      "metadata": {
        "id": "UleRo4Dpq6Ld",
        "colab_type": "code",
        "colab": {}
      },
      "source": [
        "conv_base.trainable = False"
      ],
      "execution_count": 0,
      "outputs": []
    },
    {
      "cell_type": "markdown",
      "metadata": {
        "id": "Qfx6PqhPrb7Q",
        "colab_type": "text"
      },
      "source": [
        "### Concatenate the convolutional base and densely connected layers"
      ]
    },
    {
      "cell_type": "code",
      "metadata": {
        "id": "qUpmocDAO3xm",
        "colab_type": "code",
        "colab": {}
      },
      "source": [
        "from keras import layers\n",
        "from keras import models\n",
        "from keras import optimizers\n",
        "\n",
        "model = models.Sequential()\n",
        "model.add(conv_base)\n",
        "model.add(layers.Flatten())\n",
        "model.add(layers.Dense(256, activation='relu'))\n",
        "#model.add(layers.Dropout(0.1))\n",
        "model.add(layers.Dense(1, activation='sigmoid'))"
      ],
      "execution_count": 0,
      "outputs": []
    },
    {
      "cell_type": "code",
      "metadata": {
        "id": "Fh6gZSeAjF7c",
        "colab_type": "code",
        "outputId": "83d27cfe-7d93-4595-f425-8cce10d5d738",
        "colab": {
          "base_uri": "https://localhost:8080/",
          "height": 311
        }
      },
      "source": [
        "model.summary()"
      ],
      "execution_count": 26,
      "outputs": [
        {
          "output_type": "stream",
          "text": [
            "Model: \"sequential_2\"\n",
            "_________________________________________________________________\n",
            "Layer (type)                 Output Shape              Param #   \n",
            "=================================================================\n",
            "mobilenetv2_1.00_224 (Model) (None, 5, 5, 1280)        2257984   \n",
            "_________________________________________________________________\n",
            "flatten_2 (Flatten)          (None, 32000)             0         \n",
            "_________________________________________________________________\n",
            "dense_3 (Dense)              (None, 256)               8192256   \n",
            "_________________________________________________________________\n",
            "dense_4 (Dense)              (None, 1)                 257       \n",
            "=================================================================\n",
            "Total params: 10,450,497\n",
            "Trainable params: 8,192,513\n",
            "Non-trainable params: 2,257,984\n",
            "_________________________________________________________________\n"
          ],
          "name": "stdout"
        }
      ]
    },
    {
      "cell_type": "markdown",
      "metadata": {
        "id": "eZjBiddhi5Qj",
        "colab_type": "text"
      },
      "source": [
        "## Train the model end to end with frozen convolutional base"
      ]
    },
    {
      "cell_type": "code",
      "metadata": {
        "id": "tfAQlC2Oi41L",
        "colab_type": "code",
        "outputId": "7624b91f-0775-459b-b533-72db4f55b515",
        "colab": {
          "base_uri": "https://localhost:8080/",
          "height": 1000
        }
      },
      "source": [
        "from keras.preprocessing.image import ImageDataGenerator\n",
        "from keras import optimizers\n",
        "\n",
        "# data augmentation\n",
        "\n",
        "train_datagen = ImageDataGenerator(\n",
        "    rescale=1./255, \n",
        "    rotation_range=40,\n",
        "    width_shift_range=0.2,\n",
        "    height_shift_range=0.2,\n",
        "    shear_range=0.2,\n",
        "    zoom_range=0.2,\n",
        "    horizontal_flip=True,\n",
        "    fill_mode='nearest'\n",
        ")\n",
        "\n",
        "train_generator = train_datagen.flow_from_directory(\n",
        "    train_dir,\n",
        "    target_size=(150, 150),\n",
        "    batch_size=20,\n",
        "    class_mode='binary')\n",
        "\n",
        "validation_datagen = ImageDataGenerator(rescale=1./255)\n",
        "\n",
        "validation_generator = validation_datagen.flow_from_directory(\n",
        "    validation_dir,\n",
        "    target_size=(150, 150),\n",
        "    batch_size=20,\n",
        "    class_mode='binary')\n",
        "\n",
        "# compile model\n",
        "\n",
        "model.compile(\n",
        "    loss='binary_crossentropy', \n",
        "    optimizer=optimizers.RMSprop(lr=2e-5), \n",
        "    metrics=['acc'])\n",
        "\n",
        "# train\n",
        "\n",
        "history = model.fit_generator(\n",
        "    train_generator,\n",
        "    steps_per_epoch=100,\n",
        "    epochs=30,\n",
        "    validation_data=validation_generator,\n",
        "    validation_steps=50\n",
        ")"
      ],
      "execution_count": 27,
      "outputs": [
        {
          "output_type": "stream",
          "text": [
            "Found 2000 images belonging to 2 classes.\n",
            "Found 1000 images belonging to 2 classes.\n",
            "Epoch 1/30\n",
            "100/100 [==============================] - 20s 203ms/step - loss: 0.4422 - acc: 0.7900 - val_loss: 0.0997 - val_acc: 0.9150\n",
            "Epoch 2/30\n",
            "100/100 [==============================] - 17s 169ms/step - loss: 0.3223 - acc: 0.8650 - val_loss: 0.1298 - val_acc: 0.9440\n",
            "Epoch 3/30\n",
            "100/100 [==============================] - 17s 170ms/step - loss: 0.2974 - acc: 0.8745 - val_loss: 0.1014 - val_acc: 0.9230\n",
            "Epoch 4/30\n",
            "100/100 [==============================] - 17s 170ms/step - loss: 0.2761 - acc: 0.8875 - val_loss: 0.0869 - val_acc: 0.9300\n",
            "Epoch 5/30\n",
            "100/100 [==============================] - 17s 172ms/step - loss: 0.2798 - acc: 0.8805 - val_loss: 0.5950 - val_acc: 0.8960\n",
            "Epoch 6/30\n",
            "100/100 [==============================] - 17s 171ms/step - loss: 0.2495 - acc: 0.8895 - val_loss: 0.0017 - val_acc: 0.9260\n",
            "Epoch 7/30\n",
            "100/100 [==============================] - 17s 170ms/step - loss: 0.2540 - acc: 0.8920 - val_loss: 0.2454 - val_acc: 0.9360\n",
            "Epoch 8/30\n",
            "100/100 [==============================] - 18s 175ms/step - loss: 0.2338 - acc: 0.9050 - val_loss: 0.0276 - val_acc: 0.9160\n",
            "Epoch 9/30\n",
            "100/100 [==============================] - 17s 170ms/step - loss: 0.2310 - acc: 0.9025 - val_loss: 0.5105 - val_acc: 0.9070\n",
            "Epoch 10/30\n",
            "100/100 [==============================] - 17s 171ms/step - loss: 0.2385 - acc: 0.9015 - val_loss: 0.3091 - val_acc: 0.9130\n",
            "Epoch 11/30\n",
            "100/100 [==============================] - 17s 172ms/step - loss: 0.2343 - acc: 0.9020 - val_loss: 1.8184 - val_acc: 0.9160\n",
            "Epoch 12/30\n",
            "100/100 [==============================] - 17s 170ms/step - loss: 0.2417 - acc: 0.8925 - val_loss: 0.2350 - val_acc: 0.8910\n",
            "Epoch 13/30\n",
            "100/100 [==============================] - 17s 170ms/step - loss: 0.2306 - acc: 0.9100 - val_loss: 0.4765 - val_acc: 0.8990\n",
            "Epoch 14/30\n",
            "100/100 [==============================] - 17s 172ms/step - loss: 0.2121 - acc: 0.9145 - val_loss: 0.2467 - val_acc: 0.9190\n",
            "Epoch 15/30\n",
            "100/100 [==============================] - 17s 171ms/step - loss: 0.2115 - acc: 0.9165 - val_loss: 0.2415 - val_acc: 0.9270\n",
            "Epoch 16/30\n",
            "100/100 [==============================] - 17s 170ms/step - loss: 0.1985 - acc: 0.9200 - val_loss: 0.0092 - val_acc: 0.8960\n",
            "Epoch 17/30\n",
            "100/100 [==============================] - 17s 172ms/step - loss: 0.2003 - acc: 0.9220 - val_loss: 0.0737 - val_acc: 0.9200\n",
            "Epoch 18/30\n",
            "100/100 [==============================] - 17s 171ms/step - loss: 0.2215 - acc: 0.9090 - val_loss: 1.4331 - val_acc: 0.8920\n",
            "Epoch 19/30\n",
            "100/100 [==============================] - 17s 172ms/step - loss: 0.2416 - acc: 0.9035 - val_loss: 0.3846 - val_acc: 0.8830\n",
            "Epoch 20/30\n",
            "100/100 [==============================] - 17s 172ms/step - loss: 0.2079 - acc: 0.9205 - val_loss: 0.1683 - val_acc: 0.9040\n",
            "Epoch 21/30\n",
            "100/100 [==============================] - 17s 173ms/step - loss: 0.2164 - acc: 0.9130 - val_loss: 1.2438 - val_acc: 0.9010\n",
            "Epoch 22/30\n",
            "100/100 [==============================] - 17s 173ms/step - loss: 0.1750 - acc: 0.9275 - val_loss: 0.3167 - val_acc: 0.8860\n",
            "Epoch 23/30\n",
            "100/100 [==============================] - 17s 172ms/step - loss: 0.1775 - acc: 0.9270 - val_loss: 0.6029 - val_acc: 0.9150\n",
            "Epoch 24/30\n",
            "100/100 [==============================] - 17s 174ms/step - loss: 0.1930 - acc: 0.9210 - val_loss: 0.1319 - val_acc: 0.8830\n",
            "Epoch 25/30\n",
            "100/100 [==============================] - 17s 172ms/step - loss: 0.1824 - acc: 0.9265 - val_loss: 0.0293 - val_acc: 0.9030\n",
            "Epoch 26/30\n",
            "100/100 [==============================] - 17s 175ms/step - loss: 0.1757 - acc: 0.9300 - val_loss: 0.3455 - val_acc: 0.9240\n",
            "Epoch 27/30\n",
            "100/100 [==============================] - 17s 172ms/step - loss: 0.1881 - acc: 0.9295 - val_loss: 0.8797 - val_acc: 0.9190\n",
            "Epoch 28/30\n",
            "100/100 [==============================] - 17s 175ms/step - loss: 0.1847 - acc: 0.9235 - val_loss: 0.6950 - val_acc: 0.9030\n",
            "Epoch 29/30\n",
            "100/100 [==============================] - 17s 173ms/step - loss: 0.1874 - acc: 0.9310 - val_loss: 2.9788e-04 - val_acc: 0.9030\n",
            "Epoch 30/30\n",
            "100/100 [==============================] - 17s 172ms/step - loss: 0.1624 - acc: 0.9375 - val_loss: 0.8311 - val_acc: 0.8950\n"
          ],
          "name": "stdout"
        }
      ]
    },
    {
      "cell_type": "markdown",
      "metadata": {
        "id": "xqRc_vHKc92U",
        "colab_type": "text"
      },
      "source": [
        "## Display curves of loss and accuracy during training"
      ]
    },
    {
      "cell_type": "code",
      "metadata": {
        "id": "ybWwdzz9bwuQ",
        "colab_type": "code",
        "outputId": "868d00bf-77d5-4fb4-eabd-1b6986610ba9",
        "colab": {
          "base_uri": "https://localhost:8080/",
          "height": 545
        }
      },
      "source": [
        "%matplotlib inline\n",
        "\n",
        "import matplotlib.pyplot as plt\n",
        "\n",
        "acc = history.history['acc']\n",
        "val_acc = history.history['val_acc']\n",
        "\n",
        "loss = history.history['loss']\n",
        "val_loss = history.history['val_loss']\n",
        "\n",
        "epochs = range(1, len(acc) + 1)\n",
        "\n",
        "# training and validation accuracy\n",
        "\n",
        "plt.plot(epochs, acc, 'bo', label='training acc')\n",
        "plt.plot(epochs, val_acc, 'b', label='validation acc')\n",
        "plt.title('training and validation accuracy')\n",
        "plt.legend()\n",
        "\n",
        "plt.figure()\n",
        "\n",
        "# training and validation loss\n",
        "\n",
        "plt.plot(epochs, loss, 'bo', label='training loss')\n",
        "plt.plot(epochs, val_loss, 'b', label='validation loss')\n",
        "plt.title('training and validation loss')\n",
        "plt.legend()\n",
        "\n",
        "plt.show()"
      ],
      "execution_count": 28,
      "outputs": [
        {
          "output_type": "display_data",
          "data": {
            "image/png": "[encoded data removed]",
            "text/plain": [
              "<Figure size 432x288 with 1 Axes>"
            ]
          },
          "metadata": {
            "tags": [],
            "needs_background": "light"
          }
        },
        {
          "output_type": "display_data",
          "data": {
            "image/png": "[encoded data removed]",
            "text/plain": [
              "<Figure size 432x288 with 1 Axes>"
            ]
          },
          "metadata": {
            "tags": [],
            "needs_background": "light"
          }
        }
      ]
    },
    {
      "cell_type": "markdown",
      "metadata": {
        "id": "lOWsxpey8lN0",
        "colab_type": "text"
      },
      "source": [
        "## Fine-tuning"
      ]
    },
    {
      "cell_type": "code",
      "metadata": {
        "id": "PwkVMx8N8qMw",
        "colab_type": "code",
        "outputId": "1ec74671-639b-4908-f6b3-6d45abcebe25",
        "colab": {
          "base_uri": "https://localhost:8080/",
          "height": 35
        }
      },
      "source": [
        "conv_base.trainable = True\n",
        "\n",
        "set_trainable = False\n",
        "for layer in conv_base.layers:\n",
        "#   print(layer.name)\n",
        "  if layer.name == 'block_16_expand':\n",
        "    print(\"yes\")\n",
        "    set_trainable = True\n",
        "  if set_trainable:\n",
        "    layer.trainable = True\n",
        "  else:\n",
        "    layer.trainable = False"
      ],
      "execution_count": 29,
      "outputs": [
        {
          "output_type": "stream",
          "text": [
            "yes\n"
          ],
          "name": "stdout"
        }
      ]
    },
    {
      "cell_type": "code",
      "metadata": {
        "id": "DyN-J7rs9cvo",
        "colab_type": "code",
        "outputId": "01b7700b-ba19-46bf-9463-7ea9a0159671",
        "colab": {
          "base_uri": "https://localhost:8080/",
          "height": 1000
        }
      },
      "source": [
        "# compile model\n",
        "\n",
        "model.compile(\n",
        "    loss='binary_crossentropy',\n",
        "    #\n",
        "    # choose a smaller learning rate\n",
        "    #\n",
        "    optimizer=optimizers.RMSprop(lr=1e-5), \n",
        "    metrics=['acc'])\n",
        "\n",
        "# train\n",
        "\n",
        "history = model.fit_generator(\n",
        "    train_generator,\n",
        "    steps_per_epoch=100,\n",
        "    epochs=100,\n",
        "    validation_data=validation_generator,\n",
        "    validation_steps=50)"
      ],
      "execution_count": 30,
      "outputs": [
        {
          "output_type": "stream",
          "text": [
            "Epoch 1/100\n",
            "100/100 [==============================] - 22s 222ms/step - loss: 0.1637 - acc: 0.9340 - val_loss: 0.0555 - val_acc: 0.9130\n",
            "Epoch 2/100\n",
            "100/100 [==============================] - 18s 179ms/step - loss: 0.1737 - acc: 0.9350 - val_loss: 0.5623 - val_acc: 0.9400\n",
            "Epoch 3/100\n",
            "100/100 [==============================] - 18s 179ms/step - loss: 0.1527 - acc: 0.9435 - val_loss: 0.2195 - val_acc: 0.9330\n",
            "Epoch 4/100\n",
            "100/100 [==============================] - 18s 177ms/step - loss: 0.1480 - acc: 0.9400 - val_loss: 0.3150 - val_acc: 0.9490\n",
            "Epoch 5/100\n",
            "100/100 [==============================] - 18s 178ms/step - loss: 0.1625 - acc: 0.9360 - val_loss: 0.0224 - val_acc: 0.9550\n",
            "Epoch 6/100\n",
            "100/100 [==============================] - 18s 178ms/step - loss: 0.1514 - acc: 0.9415 - val_loss: 0.1440 - val_acc: 0.9560\n",
            "Epoch 7/100\n",
            "100/100 [==============================] - 18s 181ms/step - loss: 0.1586 - acc: 0.9375 - val_loss: 0.0142 - val_acc: 0.9570\n",
            "Epoch 8/100\n",
            "100/100 [==============================] - 18s 177ms/step - loss: 0.1621 - acc: 0.9375 - val_loss: 0.0103 - val_acc: 0.9570\n",
            "Epoch 9/100\n",
            "100/100 [==============================] - 18s 179ms/step - loss: 0.1404 - acc: 0.9470 - val_loss: 0.2862 - val_acc: 0.9590\n",
            "Epoch 10/100\n",
            "100/100 [==============================] - 18s 179ms/step - loss: 0.1323 - acc: 0.9475 - val_loss: 0.0110 - val_acc: 0.9560\n",
            "Epoch 11/100\n",
            "100/100 [==============================] - 18s 178ms/step - loss: 0.1458 - acc: 0.9455 - val_loss: 0.0017 - val_acc: 0.9560\n",
            "Epoch 12/100\n",
            "100/100 [==============================] - 18s 178ms/step - loss: 0.1384 - acc: 0.9425 - val_loss: 0.3133 - val_acc: 0.9560\n",
            "Epoch 13/100\n",
            "100/100 [==============================] - 18s 179ms/step - loss: 0.1313 - acc: 0.9465 - val_loss: 0.0247 - val_acc: 0.9550\n",
            "Epoch 14/100\n",
            "100/100 [==============================] - 18s 177ms/step - loss: 0.1354 - acc: 0.9485 - val_loss: 0.1744 - val_acc: 0.9530\n",
            "Epoch 15/100\n",
            "100/100 [==============================] - 18s 176ms/step - loss: 0.1729 - acc: 0.9310 - val_loss: 0.0780 - val_acc: 0.9520\n",
            "Epoch 16/100\n",
            "100/100 [==============================] - 18s 177ms/step - loss: 0.1558 - acc: 0.9440 - val_loss: 0.0537 - val_acc: 0.9390\n",
            "Epoch 17/100\n",
            "100/100 [==============================] - 18s 176ms/step - loss: 0.1296 - acc: 0.9510 - val_loss: 0.1200 - val_acc: 0.9490\n",
            "Epoch 18/100\n",
            "100/100 [==============================] - 18s 177ms/step - loss: 0.1241 - acc: 0.9535 - val_loss: 0.2384 - val_acc: 0.9400\n",
            "Epoch 19/100\n",
            "100/100 [==============================] - 18s 175ms/step - loss: 0.1426 - acc: 0.9465 - val_loss: 0.1485 - val_acc: 0.9450\n",
            "Epoch 20/100\n",
            "100/100 [==============================] - 18s 177ms/step - loss: 0.1444 - acc: 0.9470 - val_loss: 0.3877 - val_acc: 0.9370\n",
            "Epoch 21/100\n",
            "100/100 [==============================] - 18s 177ms/step - loss: 0.1424 - acc: 0.9490 - val_loss: 0.2671 - val_acc: 0.9510\n",
            "Epoch 22/100\n",
            "100/100 [==============================] - 18s 175ms/step - loss: 0.1354 - acc: 0.9515 - val_loss: 0.1613 - val_acc: 0.9360\n",
            "Epoch 23/100\n",
            "100/100 [==============================] - 18s 176ms/step - loss: 0.1339 - acc: 0.9510 - val_loss: 0.3503 - val_acc: 0.9380\n",
            "Epoch 24/100\n",
            "100/100 [==============================] - 18s 177ms/step - loss: 0.1389 - acc: 0.9490 - val_loss: 0.3731 - val_acc: 0.9440\n",
            "Epoch 25/100\n",
            "100/100 [==============================] - 18s 178ms/step - loss: 0.1352 - acc: 0.9425 - val_loss: 0.0573 - val_acc: 0.9350\n",
            "Epoch 26/100\n",
            "100/100 [==============================] - 18s 177ms/step - loss: 0.1368 - acc: 0.9510 - val_loss: 0.0716 - val_acc: 0.9430\n",
            "Epoch 27/100\n",
            "100/100 [==============================] - 18s 177ms/step - loss: 0.1373 - acc: 0.9440 - val_loss: 0.1821 - val_acc: 0.9470\n",
            "Epoch 28/100\n",
            "100/100 [==============================] - 18s 177ms/step - loss: 0.1119 - acc: 0.9545 - val_loss: 0.2640 - val_acc: 0.9420\n",
            "Epoch 29/100\n",
            "100/100 [==============================] - 18s 177ms/step - loss: 0.1251 - acc: 0.9515 - val_loss: 0.0905 - val_acc: 0.9310\n",
            "Epoch 30/100\n",
            "100/100 [==============================] - 18s 179ms/step - loss: 0.1178 - acc: 0.9545 - val_loss: 0.1103 - val_acc: 0.9140\n",
            "Epoch 31/100\n",
            "100/100 [==============================] - 18s 179ms/step - loss: 0.1238 - acc: 0.9500 - val_loss: 0.1450 - val_acc: 0.9440\n",
            "Epoch 32/100\n",
            "100/100 [==============================] - 18s 177ms/step - loss: 0.1229 - acc: 0.9525 - val_loss: 0.3487 - val_acc: 0.9310\n",
            "Epoch 33/100\n",
            "100/100 [==============================] - 18s 176ms/step - loss: 0.1267 - acc: 0.9495 - val_loss: 0.0509 - val_acc: 0.9400\n",
            "Epoch 34/100\n",
            "100/100 [==============================] - 18s 178ms/step - loss: 0.1217 - acc: 0.9550 - val_loss: 0.2055 - val_acc: 0.9420\n",
            "Epoch 35/100\n",
            "100/100 [==============================] - 18s 176ms/step - loss: 0.1186 - acc: 0.9520 - val_loss: 0.0450 - val_acc: 0.9400\n",
            "Epoch 36/100\n",
            "100/100 [==============================] - 18s 178ms/step - loss: 0.0967 - acc: 0.9650 - val_loss: 0.1169 - val_acc: 0.9320\n",
            "Epoch 37/100\n",
            "100/100 [==============================] - 18s 176ms/step - loss: 0.1326 - acc: 0.9550 - val_loss: 0.2846 - val_acc: 0.9300\n",
            "Epoch 38/100\n",
            "100/100 [==============================] - 18s 178ms/step - loss: 0.0954 - acc: 0.9635 - val_loss: 0.2001 - val_acc: 0.9320\n",
            "Epoch 39/100\n",
            "100/100 [==============================] - 18s 179ms/step - loss: 0.1308 - acc: 0.9530 - val_loss: 0.1862 - val_acc: 0.9200\n",
            "Epoch 40/100\n",
            "100/100 [==============================] - 18s 177ms/step - loss: 0.1075 - acc: 0.9610 - val_loss: 0.3127 - val_acc: 0.9380\n",
            "Epoch 41/100\n",
            "100/100 [==============================] - 18s 177ms/step - loss: 0.1139 - acc: 0.9585 - val_loss: 0.1770 - val_acc: 0.9360\n",
            "Epoch 42/100\n",
            "100/100 [==============================] - 18s 178ms/step - loss: 0.1035 - acc: 0.9610 - val_loss: 0.0648 - val_acc: 0.9310\n",
            "Epoch 43/100\n",
            "100/100 [==============================] - 18s 180ms/step - loss: 0.1149 - acc: 0.9595 - val_loss: 0.2081 - val_acc: 0.9340\n",
            "Epoch 44/100\n",
            "100/100 [==============================] - 18s 177ms/step - loss: 0.1016 - acc: 0.9610 - val_loss: 0.0579 - val_acc: 0.9410\n",
            "Epoch 45/100\n",
            "100/100 [==============================] - 18s 178ms/step - loss: 0.1012 - acc: 0.9605 - val_loss: 0.1007 - val_acc: 0.9380\n",
            "Epoch 46/100\n",
            "100/100 [==============================] - 18s 178ms/step - loss: 0.1099 - acc: 0.9615 - val_loss: 0.1277 - val_acc: 0.9370\n",
            "Epoch 47/100\n",
            "100/100 [==============================] - 18s 178ms/step - loss: 0.1228 - acc: 0.9620 - val_loss: 0.0017 - val_acc: 0.9360\n",
            "Epoch 48/100\n",
            "100/100 [==============================] - 18s 181ms/step - loss: 0.1044 - acc: 0.9610 - val_loss: 0.0929 - val_acc: 0.9360\n",
            "Epoch 49/100\n",
            "100/100 [==============================] - 18s 178ms/step - loss: 0.1152 - acc: 0.9555 - val_loss: 0.0884 - val_acc: 0.9370\n",
            "Epoch 50/100\n",
            "100/100 [==============================] - 18s 177ms/step - loss: 0.0973 - acc: 0.9675 - val_loss: 0.1382 - val_acc: 0.9350\n",
            "Epoch 51/100\n",
            "100/100 [==============================] - 18s 177ms/step - loss: 0.1067 - acc: 0.9585 - val_loss: 0.1191 - val_acc: 0.9330\n",
            "Epoch 52/100\n",
            "100/100 [==============================] - 18s 178ms/step - loss: 0.0918 - acc: 0.9625 - val_loss: 0.3010 - val_acc: 0.9340\n",
            "Epoch 53/100\n",
            "100/100 [==============================] - 18s 178ms/step - loss: 0.0937 - acc: 0.9670 - val_loss: 0.2224 - val_acc: 0.9330\n",
            "Epoch 54/100\n",
            "100/100 [==============================] - 18s 178ms/step - loss: 0.1165 - acc: 0.9590 - val_loss: 0.0149 - val_acc: 0.9310\n",
            "Epoch 55/100\n",
            "100/100 [==============================] - 18s 180ms/step - loss: 0.1032 - acc: 0.9580 - val_loss: 0.2708 - val_acc: 0.9230\n",
            "Epoch 56/100\n",
            "100/100 [==============================] - 18s 179ms/step - loss: 0.0996 - acc: 0.9635 - val_loss: 0.1269 - val_acc: 0.9370\n",
            "Epoch 57/100\n",
            "100/100 [==============================] - 18s 181ms/step - loss: 0.1319 - acc: 0.9515 - val_loss: 0.0133 - val_acc: 0.9340\n",
            "Epoch 58/100\n",
            "100/100 [==============================] - 18s 178ms/step - loss: 0.0981 - acc: 0.9655 - val_loss: 0.1013 - val_acc: 0.9450\n",
            "Epoch 59/100\n",
            "100/100 [==============================] - 18s 177ms/step - loss: 0.1060 - acc: 0.9580 - val_loss: 0.1237 - val_acc: 0.9370\n",
            "Epoch 60/100\n",
            "100/100 [==============================] - 18s 177ms/step - loss: 0.0987 - acc: 0.9585 - val_loss: 0.1351 - val_acc: 0.9410\n",
            "Epoch 61/100\n",
            "100/100 [==============================] - 18s 179ms/step - loss: 0.0943 - acc: 0.9655 - val_loss: 0.2681 - val_acc: 0.9380\n",
            "Epoch 62/100\n",
            "100/100 [==============================] - 18s 180ms/step - loss: 0.1071 - acc: 0.9690 - val_loss: 0.8447 - val_acc: 0.9390\n",
            "Epoch 63/100\n",
            "100/100 [==============================] - 18s 177ms/step - loss: 0.0763 - acc: 0.9690 - val_loss: 0.5677 - val_acc: 0.9330\n",
            "Epoch 64/100\n",
            "100/100 [==============================] - 18s 179ms/step - loss: 0.1128 - acc: 0.9585 - val_loss: 0.2379 - val_acc: 0.9350\n",
            "Epoch 65/100\n",
            "100/100 [==============================] - 18s 178ms/step - loss: 0.1024 - acc: 0.9665 - val_loss: 0.0428 - val_acc: 0.9390\n",
            "Epoch 66/100\n",
            "100/100 [==============================] - 18s 182ms/step - loss: 0.0954 - acc: 0.9665 - val_loss: 0.0116 - val_acc: 0.9380\n",
            "Epoch 67/100\n",
            "100/100 [==============================] - 18s 178ms/step - loss: 0.0863 - acc: 0.9685 - val_loss: 0.0065 - val_acc: 0.9360\n",
            "Epoch 68/100\n",
            "100/100 [==============================] - 18s 178ms/step - loss: 0.0935 - acc: 0.9650 - val_loss: 0.1170 - val_acc: 0.9400\n",
            "Epoch 69/100\n",
            "100/100 [==============================] - 18s 177ms/step - loss: 0.0901 - acc: 0.9680 - val_loss: 0.0182 - val_acc: 0.9390\n",
            "Epoch 70/100\n",
            "100/100 [==============================] - 18s 177ms/step - loss: 0.0973 - acc: 0.9640 - val_loss: 0.0415 - val_acc: 0.9420\n",
            "Epoch 71/100\n",
            "100/100 [==============================] - 18s 176ms/step - loss: 0.1066 - acc: 0.9635 - val_loss: 0.0387 - val_acc: 0.9420\n",
            "Epoch 72/100\n",
            "100/100 [==============================] - 18s 175ms/step - loss: 0.0821 - acc: 0.9690 - val_loss: 0.1142 - val_acc: 0.9290\n",
            "Epoch 73/100\n",
            "100/100 [==============================] - 18s 176ms/step - loss: 0.0825 - acc: 0.9670 - val_loss: 0.0528 - val_acc: 0.9390\n",
            "Epoch 74/100\n",
            "100/100 [==============================] - 17s 175ms/step - loss: 0.0780 - acc: 0.9735 - val_loss: 0.1131 - val_acc: 0.9380\n",
            "Epoch 75/100\n",
            "100/100 [==============================] - 18s 178ms/step - loss: 0.0818 - acc: 0.9715 - val_loss: 0.0261 - val_acc: 0.9400\n",
            "Epoch 76/100\n",
            "100/100 [==============================] - 18s 177ms/step - loss: 0.0836 - acc: 0.9685 - val_loss: 0.1637 - val_acc: 0.9350\n",
            "Epoch 77/100\n",
            "100/100 [==============================] - 18s 176ms/step - loss: 0.0901 - acc: 0.9685 - val_loss: 0.1392 - val_acc: 0.9390\n",
            "Epoch 78/100\n",
            "100/100 [==============================] - 17s 175ms/step - loss: 0.0888 - acc: 0.9700 - val_loss: 0.1861 - val_acc: 0.9360\n",
            "Epoch 79/100\n",
            "100/100 [==============================] - 18s 176ms/step - loss: 0.0895 - acc: 0.9670 - val_loss: 0.3312 - val_acc: 0.9380\n",
            "Epoch 80/100\n",
            "100/100 [==============================] - 18s 177ms/step - loss: 0.0976 - acc: 0.9710 - val_loss: 0.1518 - val_acc: 0.9350\n",
            "Epoch 81/100\n",
            "100/100 [==============================] - 18s 175ms/step - loss: 0.0725 - acc: 0.9770 - val_loss: 0.5921 - val_acc: 0.9300\n",
            "Epoch 82/100\n",
            "100/100 [==============================] - 18s 178ms/step - loss: 0.0853 - acc: 0.9695 - val_loss: 0.0642 - val_acc: 0.9370\n",
            "Epoch 83/100\n",
            "100/100 [==============================] - 18s 179ms/step - loss: 0.0876 - acc: 0.9675 - val_loss: 0.2145 - val_acc: 0.9360\n",
            "Epoch 84/100\n",
            "100/100 [==============================] - 18s 177ms/step - loss: 0.0798 - acc: 0.9720 - val_loss: 0.0683 - val_acc: 0.9360\n",
            "Epoch 85/100\n",
            "100/100 [==============================] - 18s 175ms/step - loss: 0.0728 - acc: 0.9735 - val_loss: 0.5164 - val_acc: 0.9390\n",
            "Epoch 86/100\n",
            "100/100 [==============================] - 18s 176ms/step - loss: 0.0796 - acc: 0.9680 - val_loss: 0.3202 - val_acc: 0.9340\n",
            "Epoch 87/100\n",
            "100/100 [==============================] - 18s 178ms/step - loss: 0.0859 - acc: 0.9665 - val_loss: 0.1739 - val_acc: 0.9400\n",
            "Epoch 88/100\n",
            "100/100 [==============================] - 18s 176ms/step - loss: 0.0985 - acc: 0.9660 - val_loss: 9.8373e-04 - val_acc: 0.9390\n",
            "Epoch 89/100\n",
            "100/100 [==============================] - 18s 178ms/step - loss: 0.0906 - acc: 0.9710 - val_loss: 0.4208 - val_acc: 0.9400\n",
            "Epoch 90/100\n",
            "100/100 [==============================] - 18s 176ms/step - loss: 0.0819 - acc: 0.9710 - val_loss: 0.4098 - val_acc: 0.9380\n",
            "Epoch 91/100\n",
            "100/100 [==============================] - 18s 175ms/step - loss: 0.0674 - acc: 0.9725 - val_loss: 0.0105 - val_acc: 0.9380\n",
            "Epoch 92/100\n",
            "100/100 [==============================] - 18s 176ms/step - loss: 0.0835 - acc: 0.9695 - val_loss: 0.0971 - val_acc: 0.9370\n",
            "Epoch 93/100\n",
            "100/100 [==============================] - 18s 176ms/step - loss: 0.0675 - acc: 0.9735 - val_loss: 4.2180e-04 - val_acc: 0.9370\n",
            "Epoch 94/100\n",
            "100/100 [==============================] - 18s 176ms/step - loss: 0.0907 - acc: 0.9700 - val_loss: 0.2004 - val_acc: 0.9410\n",
            "Epoch 95/100\n",
            "100/100 [==============================] - 18s 177ms/step - loss: 0.0863 - acc: 0.9660 - val_loss: 0.2025 - val_acc: 0.9410\n",
            "Epoch 96/100\n",
            "100/100 [==============================] - 18s 177ms/step - loss: 0.0787 - acc: 0.9675 - val_loss: 0.0612 - val_acc: 0.9360\n",
            "Epoch 97/100\n",
            "100/100 [==============================] - 18s 176ms/step - loss: 0.0698 - acc: 0.9770 - val_loss: 0.0329 - val_acc: 0.9400\n",
            "Epoch 98/100\n",
            "100/100 [==============================] - 18s 178ms/step - loss: 0.0741 - acc: 0.9730 - val_loss: 0.1265 - val_acc: 0.9420\n",
            "Epoch 99/100\n",
            "100/100 [==============================] - 18s 178ms/step - loss: 0.0910 - acc: 0.9675 - val_loss: 0.1711 - val_acc: 0.9410\n",
            "Epoch 100/100\n",
            "100/100 [==============================] - 18s 177ms/step - loss: 0.0752 - acc: 0.9715 - val_loss: 0.1573 - val_acc: 0.9350\n"
          ],
          "name": "stdout"
        }
      ]
    },
    {
      "cell_type": "markdown",
      "metadata": {
        "id": "eVBQgh5M-Rtz",
        "colab_type": "text"
      },
      "source": [
        "## Display learning curves during fine-tuning"
      ]
    },
    {
      "cell_type": "code",
      "metadata": {
        "id": "mbkIw7Ie-NP4",
        "colab_type": "code",
        "outputId": "f1de5317-dde2-41a1-918c-7312d3e2ac50",
        "colab": {
          "base_uri": "https://localhost:8080/",
          "height": 545
        }
      },
      "source": [
        "%matplotlib inline\n",
        "\n",
        "import matplotlib.pyplot as plt\n",
        "\n",
        "acc = history.history['acc']\n",
        "val_acc = history.history['val_acc']\n",
        "\n",
        "loss = history.history['loss']\n",
        "val_loss = history.history['val_loss']\n",
        "\n",
        "epochs = range(1, len(acc) + 1)\n",
        "\n",
        "# training and validation accuracy\n",
        "\n",
        "plt.plot(epochs, acc, 'bo', label='training acc')\n",
        "plt.plot(epochs, val_acc, 'b', label='validation acc')\n",
        "plt.title('training and validation accuracy')\n",
        "plt.legend()\n",
        "\n",
        "plt.figure()\n",
        "\n",
        "# training and validation loss\n",
        "\n",
        "plt.plot(epochs, loss, 'bo', label='training loss')\n",
        "plt.plot(epochs, val_loss, 'b', label='validation loss')\n",
        "plt.title('training and validation loss')\n",
        "plt.legend()\n",
        "\n",
        "plt.show()"
      ],
      "execution_count": 31,
      "outputs": [
        {
          "output_type": "display_data",
          "data": {
            "image/png": "[encoded data removed]",
            "text/plain": [
              "<Figure size 432x288 with 1 Axes>"
            ]
          },
          "metadata": {
            "tags": [],
            "needs_background": "light"
          }
        },
        {
          "output_type": "display_data",
          "data": {
            "image/png": "[encoded data removed]",
            "text/plain": [
              "<Figure size 432x288 with 1 Axes>"
            ]
          },
          "metadata": {
            "tags": [],
            "needs_background": "light"
          }
        }
      ]
    },
    {
      "cell_type": "markdown",
      "metadata": {
        "id": "obQi6N4ZShdi",
        "colab_type": "text"
      },
      "source": [
        "After unfreezing different set of layers, I ended up stick it with this model as it was least overfitting from my experiments"
      ]
    },
    {
      "cell_type": "markdown",
      "metadata": {
        "id": "he3Nw6TOJwjx",
        "colab_type": "text"
      },
      "source": [
        "## Print out validation loss and accuracy"
      ]
    },
    {
      "cell_type": "code",
      "metadata": {
        "id": "SVQtrk7uJdhl",
        "colab_type": "code",
        "colab": {}
      },
      "source": [
        "val_loss, val_acc = model.evaluate_generator(validation_generator, steps=50)"
      ],
      "execution_count": 0,
      "outputs": []
    },
    {
      "cell_type": "code",
      "metadata": {
        "id": "HpdddLi1SUMe",
        "colab_type": "code",
        "outputId": "07bcff70-4061-4838-96b9-2e479a704dd6",
        "colab": {
          "base_uri": "https://localhost:8080/",
          "height": 54
        }
      },
      "source": [
        "print(\"Validation loss:\", val_loss)\n",
        "print(\"Validation accuracy:\", val_acc)"
      ],
      "execution_count": 33,
      "outputs": [
        {
          "output_type": "stream",
          "text": [
            "Validation loss: 0.15727001428604126\n",
            "Validation accuracy: 0.9350000023841858\n"
          ],
          "name": "stdout"
        }
      ]
    },
    {
      "cell_type": "markdown",
      "metadata": {
        "id": "7Ww756WToby8",
        "colab_type": "text"
      },
      "source": [
        "## Save the model"
      ]
    },
    {
      "cell_type": "code",
      "metadata": {
        "id": "0lTUpUdwobKW",
        "colab_type": "code",
        "colab": {}
      },
      "source": [
        "model_fname = 'cats_and_dogs_small_4.h5' \n",
        "model.save(model_fname)"
      ],
      "execution_count": 0,
      "outputs": []
    },
    {
      "cell_type": "code",
      "metadata": {
        "id": "YhEoI8ZTok-X",
        "colab_type": "code",
        "colab": {}
      },
      "source": [
        "#Caused error\n",
        "# from google.colab import files\n",
        "\n",
        "# with open(model_fname, 'r') as f:\n",
        "#   files.download(model_fname)"
      ],
      "execution_count": 0,
      "outputs": []
    },
    {
      "cell_type": "code",
      "metadata": {
        "id": "VNEL4CCcS0Oj",
        "colab_type": "code",
        "colab": {}
      },
      "source": [
        ""
      ],
      "execution_count": 0,
      "outputs": []
    }
  ]
}
