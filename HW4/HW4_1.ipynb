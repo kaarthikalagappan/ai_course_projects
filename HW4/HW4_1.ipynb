{
  "nbformat": 4,
  "nbformat_minor": 0,
  "metadata": {
    "colab": {
      "name": "HW4_1.ipynb",
      "provenance": [],
      "collapsed_sections": [],
      "authorship_tag": "ABX9TyMcr7NVIHRPOCLKtmjSYJwQ",
      "include_colab_link": true
    },
    "kernelspec": {
      "name": "python3",
      "display_name": "Python 3"
    }
  },
  "cells": [
    {
      "cell_type": "markdown",
      "metadata": {
        "id": "view-in-github",
        "colab_type": "text"
      },
      "source": [
        "<a href=\"https://colab.research.google.com/github/kaarthikalagappan/ai_course_projects/blob/master/HW4_1.ipynb\" target=\"_parent\"><img src=\"https://colab.research.google.com/assets/colab-badge.svg\" alt=\"Open In Colab\"/></a>"
      ]
    },
    {
      "cell_type": "code",
      "metadata": {
        "id": "c_LATdjN30VV",
        "colab_type": "code",
        "colab": {}
      },
      "source": [
        "import numpy as np\n"
      ],
      "execution_count": 0,
      "outputs": []
    },
    {
      "cell_type": "code",
      "metadata": {
        "id": "49rLLJmN2zDR",
        "colab_type": "code",
        "colab": {}
      },
      "source": [
        "class CustomException(Exception):\n",
        "    pass\n",
        "\n",
        "class Incompatible(Exception):\n",
        "    def __init__(self, msg):\n",
        "        # Error message is stored in msg\n",
        "        self.msg = msg\n",
        "debug=False"
      ],
      "execution_count": 0,
      "outputs": []
    },
    {
      "cell_type": "code",
      "metadata": {
        "id": "F-UZmIHxnh0L",
        "colab_type": "code",
        "colab": {}
      },
      "source": [
        "def conv2d(input_mat, kernel_mat):\n",
        "    if debug:\n",
        "        print(\"input matrix shape: \" + str(input_mat.shape))\n",
        "        print(\"input matrix: \\n\" + str(input_mat))\n",
        "        print(\"kernel matrix shape: \" + str(kernel_mat.shape))\n",
        "        print(\"kernel matrix: \\n\" + str(kernel_mat))\n",
        "    \n",
        "    #Since convolution requires us to rotate the matrix 180 degrees\n",
        "    kernel_mat = np.rot90(np.rot90(kernel_mat))\n",
        "\n",
        "    if(input_mat.ndim <= 2):\n",
        "        (height,width) = input_mat.shape\n",
        "        channels = 1\n",
        "    else:\n",
        "        (height,width,channels) = input_mat.shape\n",
        "    \n",
        "    if(height != width):\n",
        "        raise Incompatible(\"Input is not a square matrix\")\n",
        "    if(height < len(kernel_mat)):\n",
        "        raise Incompatible(\"Kernel matrix is bigger than input matrix, the result would be empty\")\n",
        "\n",
        "    #if it's always going to be square matricies, can use either height or width\n",
        "    output_size = height-len(kernel_mat)+1\n",
        "\n",
        "    output_mat = np.zeros((output_size, output_size))\n",
        "    for h in range(output_size):\n",
        "        for w in range(output_size):\n",
        "            # commented out since our depth is going to be only one\n",
        "            # if channels > 1:\n",
        "            #     for c in range(channels):\n",
        "            #         multiplied = np.multiply(input_mat[h:h+len(kernel_mat), w:w+len(kernel_mat), c], kernel_mat)\n",
        "            #         added = np.sum(multiplied)\n",
        "            #         output_mat[h][w] = output_mat[h][w]+added\n",
        "            # else:\n",
        "            multiplied = np.multiply(input_mat[h:h+len(kernel_mat), w:w+len(kernel_mat)], kernel_mat)\n",
        "            added = np.sum(multiplied)\n",
        "            output_mat[h][w] = added\n",
        "    if debug:\n",
        "        print(\"\\noutput matrix shape: \" + str(output_mat.shape))\n",
        "        print(\"resulting matrix after convolution: \\n\" + str(output_mat))\n",
        "    return output_mat\n"
      ],
      "execution_count": 0,
      "outputs": []
    },
    {
      "cell_type": "markdown",
      "metadata": {
        "id": "jb9eio3Nt-pm",
        "colab_type": "text"
      },
      "source": [
        "## Testing it"
      ]
    },
    {
      "cell_type": "code",
      "metadata": {
        "id": "dZHTmdyv4X_f",
        "colab_type": "code",
        "outputId": "dcab525d-eb68-4d2f-eb19-a214490c28cf",
        "colab": {
          "base_uri": "https://localhost:8080/",
          "height": 384
        }
      },
      "source": [
        "input_mat = np.array([[1,1,1,0,0], [0,1,1,1,0], [0,0,1,1,1], [0,0,1,1,0], [0,1,1,0,0]])\n",
        "# Common image kernels:\n",
        "kernel_mat = np.array([[1,0,1], [0,1,0], [1,0,1]])\n",
        "# kernel_mat = np.array([[-1,-1,-1], [-1,8,-1], [-1,-1,-1]])\n",
        "# kernel_mat = np.array([[(1/9),(1/9),(1/9)],[(1/9),(1/9),(1/9)],[(1/9),(1/9),(1/9)]])\n",
        "debug=True\n",
        "output_mat = conv2d(input_mat, kernel_mat)\n",
        "\n",
        "expected_output = signal.convolve2d(input_mat, kernel_mat, mode='valid')\n",
        "if np.array_equal(expected_output, output_mat):\n",
        "    print(\"\\nCorrect Output\")\n",
        "else:\n",
        "    print(\"\\nIncorrect Output!\")\n"
      ],
      "execution_count": 67,
      "outputs": [
        {
          "output_type": "stream",
          "text": [
            "input matrix shape: (5, 5)\n",
            "input matrix: \n",
            "[[1 1 1 0 0]\n",
            " [0 1 1 1 0]\n",
            " [0 0 1 1 1]\n",
            " [0 0 1 1 0]\n",
            " [0 1 1 0 0]]\n",
            "kernel matrix shape: (3, 3)\n",
            "kernel matrix: \n",
            "[[1 0 1]\n",
            " [0 1 0]\n",
            " [1 0 1]]\n",
            "\n",
            "output matrix shape: (3, 3)\n",
            "resulting matrix after convolution: \n",
            "[[4. 3. 4.]\n",
            " [2. 4. 3.]\n",
            " [2. 3. 4.]]\n",
            "\n",
            "Correct Output\n"
          ],
          "name": "stdout"
        }
      ]
    },
    {
      "cell_type": "code",
      "metadata": {
        "id": "2rbYTZt95NFw",
        "colab_type": "code",
        "outputId": "38f7487f-b8b7-4b90-93a2-fddd5e3a7211",
        "colab": {
          "base_uri": "https://localhost:8080/",
          "height": 384
        }
      },
      "source": [
        "input_mat = np.array([[1,1,1,0,0], [0,1,1,1,0], [0,0,1,1,1], [0,0,1,1,0], [0,1,1,0,0]])\n",
        "kernel_mat = np.array([[1]])\n",
        "debug=True\n",
        "output_mat = conv2d(input_mat, kernel_mat)\n",
        "\n",
        "expected_output = signal.convolve2d(input_mat, kernel_mat, mode='valid')\n",
        "if np.array_equal(expected_output, output_mat):\n",
        "    print(\"\\nCorrect Output\")\n",
        "else:\n",
        "    print(\"\\nIncorrect Output!\")\n"
      ],
      "execution_count": 68,
      "outputs": [
        {
          "output_type": "stream",
          "text": [
            "input matrix shape: (5, 5)\n",
            "input matrix: \n",
            "[[1 1 1 0 0]\n",
            " [0 1 1 1 0]\n",
            " [0 0 1 1 1]\n",
            " [0 0 1 1 0]\n",
            " [0 1 1 0 0]]\n",
            "kernel matrix shape: (1, 1)\n",
            "kernel matrix: \n",
            "[[1]]\n",
            "\n",
            "output matrix shape: (5, 5)\n",
            "resulting matrix after convolution: \n",
            "[[1. 1. 1. 0. 0.]\n",
            " [0. 1. 1. 1. 0.]\n",
            " [0. 0. 1. 1. 1.]\n",
            " [0. 0. 1. 1. 0.]\n",
            " [0. 1. 1. 0. 0.]]\n",
            "\n",
            "Correct Output\n"
          ],
          "name": "stdout"
        }
      ]
    },
    {
      "cell_type": "code",
      "metadata": {
        "id": "vjMdGo2O604E",
        "colab_type": "code",
        "outputId": "892cde6c-6d2f-44e6-aa52-1e01ce5c4abc",
        "colab": {
          "base_uri": "https://localhost:8080/",
          "height": 384
        }
      },
      "source": [
        "input_mat = np.array([[1,2,3,4,0], [4,3,2,1,0], [9,8,7,6,0], [9,8,7,6,0], [5,4,6,7,0]])\n",
        "kernel_mat = np.array([[0,0,0], [0,1,0], [0,0,0]])\n",
        "debug=True\n",
        "output_mat = conv2d(input_mat, kernel_mat)\n",
        "\n",
        "expected_output = signal.convolve2d(input_mat, kernel_mat, mode='valid')\n",
        "if np.array_equal(expected_output, output_mat):\n",
        "    print(\"\\nCorrect Output\")\n",
        "else:\n",
        "    print(\"\\nIncorrect Output!\")\n"
      ],
      "execution_count": 69,
      "outputs": [
        {
          "output_type": "stream",
          "text": [
            "input matrix shape: (5, 5)\n",
            "input matrix: \n",
            "[[1 2 3 4 0]\n",
            " [4 3 2 1 0]\n",
            " [9 8 7 6 0]\n",
            " [9 8 7 6 0]\n",
            " [5 4 6 7 0]]\n",
            "kernel matrix shape: (3, 3)\n",
            "kernel matrix: \n",
            "[[0 0 0]\n",
            " [0 1 0]\n",
            " [0 0 0]]\n",
            "\n",
            "output matrix shape: (3, 3)\n",
            "resulting matrix after convolution: \n",
            "[[3. 2. 1.]\n",
            " [8. 7. 6.]\n",
            " [8. 7. 6.]]\n",
            "\n",
            "Correct Output\n"
          ],
          "name": "stdout"
        }
      ]
    },
    {
      "cell_type": "code",
      "metadata": {
        "id": "Zcwhq8W4WM1A",
        "colab_type": "code",
        "outputId": "ea43fb67-fefd-4fc9-8541-3ff5c31bc3f5",
        "colab": {
          "base_uri": "https://localhost:8080/",
          "height": 706
        }
      },
      "source": [
        "from scipy import signal\n",
        "import numpy as np\n",
        "\n",
        "input_mat = []\n",
        "kernel_mat = []\n",
        "expected_mat = []\n",
        "debug = False\n",
        "# test case 1\n",
        "input_mat.append(np.array([[1, 2, 1, 2],\n",
        "                      [2, 1, 2, 1],\n",
        "                      [1, 2, 1, 2],\n",
        "                      [2, 1, 2, 1]]))\n",
        "\n",
        "kernel_mat.append(np.array([[1, 0],\n",
        "                       [0, 1]]))\n",
        "\n",
        "expected_mat.append(np.array([[2, 4, 2],\n",
        "                                [4, 2, 4],\n",
        "                                [2, 4, 2]]))\n",
        "\n",
        "# test case 2\n",
        "input_mat.append(np.array([[1, 0, 0, 0],\n",
        "                      [0, 1, 0, 0],\n",
        "                      [0, 0, 1, 0],\n",
        "                      [0, 0, 0, 1]]))\n",
        "kernel_mat.append(np.array([[1, 0], [0, 1]]))\n",
        "expected_mat.append(np.array([[2, 0, 0], [0, 2, 0], [0, 0, 2]]))\n",
        "\n",
        "\n",
        "# test case 3\n",
        "input_mat.append(np.array([[1, 0, 0, 0],\n",
        "                      [0, 1, 0, 0],\n",
        "                      [0, 0, 1, 0],\n",
        "                      [0, 0, 0, 1]]))\n",
        "kernel_mat.append(np.array([[1, -1],\n",
        "                       [-1, 0]]))\n",
        "\n",
        "expected_mat.append(np.array([[ 1, -1,  0], [-1,  1, -1],[ 0, -1,  1]]))\n",
        "\n",
        "\n",
        "# test case 4\n",
        "input_mat.append(np.array([[1, 0, 0, 0],\n",
        "                      [0, 1, 0, 0],\n",
        "                      [0, 0, 1, 0],\n",
        "                      [0, 0, 0, 1]]))\n",
        "kernel_mat.append(np.array([[1, 0, 0, 0],\n",
        "                      [0, 1, 0, 0],\n",
        "                      [0, 0, 1, 0],\n",
        "                      [0, 0, 0, 1]]))\n",
        "\n",
        "expected_mat.append(np.array([[4]]))\n",
        "\n",
        "\n",
        "# test case 5 - should either through an error, or return empty matrix\n",
        "input_mat.append(np.array([[1, -1],\n",
        "                       [-1, 0]]))\n",
        "kernel_mat.append(np.array([[1, 0, 0, 0],\n",
        "                      [0, 1, 0, 0],\n",
        "                      [0, 0, 1, 0],\n",
        "                      [0, 0, 0, 1]]))\n",
        "\n",
        "expected_mat.append([])\n",
        "\n",
        "for i in range(len(input_mat)):\n",
        "  # uncomment line for student code testing\n",
        "  output_mat = conv2d(input_mat[i], kernel_mat[i])\n",
        "\n",
        "  # uncomment lines below (and comment line above) for generating test cases.\n",
        "#   if input_mat[i].shape[0] < kernel_mat[i].shape[0]:\n",
        "#     output_mat = []\n",
        "#   else:\n",
        "#     output_mat = signal.convolve2d(input_mat[i], kernel_mat[i], mode='valid')\n",
        "\n",
        "  print(output_mat)\n",
        "  if np.array_equal(output_mat, expected_mat[i]):\n",
        "    print(\"Correct output!\\n\")\n",
        "  else:\n",
        "    print(\"Incorrect output!\\n\")\n"
      ],
      "execution_count": 70,
      "outputs": [
        {
          "output_type": "stream",
          "text": [
            "[[2. 4. 2.]\n",
            " [4. 2. 4.]\n",
            " [2. 4. 2.]]\n",
            "Correct output!\n",
            "\n",
            "[[2. 0. 0.]\n",
            " [0. 2. 0.]\n",
            " [0. 0. 2.]]\n",
            "Correct output!\n",
            "\n",
            "[[ 1. -1.  0.]\n",
            " [-1.  1. -1.]\n",
            " [ 0. -1.  1.]]\n",
            "Correct output!\n",
            "\n",
            "[[4.]]\n",
            "Correct output!\n",
            "\n"
          ],
          "name": "stdout"
        },
        {
          "output_type": "error",
          "ename": "Incompatible",
          "evalue": "ignored",
          "traceback": [
            "\u001b[0;31m---------------------------------------------------------------------------\u001b[0m",
            "\u001b[0;31mIncompatible\u001b[0m                              Traceback (most recent call last)",
            "\u001b[0;32m<ipython-input-70-969211e46ea3>\u001b[0m in \u001b[0;36m<module>\u001b[0;34m()\u001b[0m\n\u001b[1;32m     64\u001b[0m \u001b[0;32mfor\u001b[0m \u001b[0mi\u001b[0m \u001b[0;32min\u001b[0m \u001b[0mrange\u001b[0m\u001b[0;34m(\u001b[0m\u001b[0mlen\u001b[0m\u001b[0;34m(\u001b[0m\u001b[0minput_mat\u001b[0m\u001b[0;34m)\u001b[0m\u001b[0;34m)\u001b[0m\u001b[0;34m:\u001b[0m\u001b[0;34m\u001b[0m\u001b[0;34m\u001b[0m\u001b[0m\n\u001b[1;32m     65\u001b[0m   \u001b[0;31m# uncomment line for student code testing\u001b[0m\u001b[0;34m\u001b[0m\u001b[0;34m\u001b[0m\u001b[0;34m\u001b[0m\u001b[0m\n\u001b[0;32m---> 66\u001b[0;31m   \u001b[0moutput_mat\u001b[0m \u001b[0;34m=\u001b[0m \u001b[0mconv2d\u001b[0m\u001b[0;34m(\u001b[0m\u001b[0minput_mat\u001b[0m\u001b[0;34m[\u001b[0m\u001b[0mi\u001b[0m\u001b[0;34m]\u001b[0m\u001b[0;34m,\u001b[0m \u001b[0mkernel_mat\u001b[0m\u001b[0;34m[\u001b[0m\u001b[0mi\u001b[0m\u001b[0;34m]\u001b[0m\u001b[0;34m)\u001b[0m\u001b[0;34m\u001b[0m\u001b[0;34m\u001b[0m\u001b[0m\n\u001b[0m\u001b[1;32m     67\u001b[0m \u001b[0;34m\u001b[0m\u001b[0m\n\u001b[1;32m     68\u001b[0m   \u001b[0;31m# uncomment lines below (and comment line above) for generating test cases.\u001b[0m\u001b[0;34m\u001b[0m\u001b[0;34m\u001b[0m\u001b[0;34m\u001b[0m\u001b[0m\n",
            "\u001b[0;32m<ipython-input-66-10bab8432a4b>\u001b[0m in \u001b[0;36mconv2d\u001b[0;34m(input_mat, kernel_mat)\u001b[0m\n\u001b[1;32m     18\u001b[0m         \u001b[0;32mraise\u001b[0m \u001b[0mIncompatible\u001b[0m\u001b[0;34m(\u001b[0m\u001b[0;34m\"Input is not a square matrix\"\u001b[0m\u001b[0;34m)\u001b[0m\u001b[0;34m\u001b[0m\u001b[0;34m\u001b[0m\u001b[0m\n\u001b[1;32m     19\u001b[0m     \u001b[0;32mif\u001b[0m\u001b[0;34m(\u001b[0m\u001b[0mheight\u001b[0m \u001b[0;34m<\u001b[0m \u001b[0mlen\u001b[0m\u001b[0;34m(\u001b[0m\u001b[0mkernel_mat\u001b[0m\u001b[0;34m)\u001b[0m\u001b[0;34m)\u001b[0m\u001b[0;34m:\u001b[0m\u001b[0;34m\u001b[0m\u001b[0;34m\u001b[0m\u001b[0m\n\u001b[0;32m---> 20\u001b[0;31m         \u001b[0;32mraise\u001b[0m \u001b[0mIncompatible\u001b[0m\u001b[0;34m(\u001b[0m\u001b[0;34m\"Kernel matrix is bigger than input matrix, the result would be empty\"\u001b[0m\u001b[0;34m)\u001b[0m\u001b[0;34m\u001b[0m\u001b[0;34m\u001b[0m\u001b[0m\n\u001b[0m\u001b[1;32m     21\u001b[0m \u001b[0;34m\u001b[0m\u001b[0m\n\u001b[1;32m     22\u001b[0m     \u001b[0;31m#if it's always going to be square matricies, can use either height or width\u001b[0m\u001b[0;34m\u001b[0m\u001b[0;34m\u001b[0m\u001b[0;34m\u001b[0m\u001b[0m\n",
            "\u001b[0;31mIncompatible\u001b[0m: Kernel matrix is bigger than input matrix, the result would be empty"
          ]
        }
      ]
    }
  ]
}
