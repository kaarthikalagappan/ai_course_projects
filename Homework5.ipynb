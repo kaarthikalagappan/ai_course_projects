{
  "nbformat": 4,
  "nbformat_minor": 0,
  "metadata": {
    "colab": {
      "name": "Homework5.ipynb",
      "provenance": [],
      "collapsed_sections": [],
      "toc_visible": true,
      "authorship_tag": "ABX9TyO/p5EoXSve7mfRFXe3SESo",
      "include_colab_link": true
    },
    "kernelspec": {
      "name": "python3",
      "display_name": "Python 3"
    },
    "accelerator": "GPU"
  },
  "cells": [
    {
      "cell_type": "markdown",
      "metadata": {
        "id": "view-in-github",
        "colab_type": "text"
      },
      "source": [
        "<a href=\"https://colab.research.google.com/github/kaarthikalagappan/ai_course_projects/blob/master/Homework5.ipynb\" target=\"_parent\"><img src=\"https://colab.research.google.com/assets/colab-badge.svg\" alt=\"Open In Colab\"/></a>"
      ]
    },
    {
      "cell_type": "markdown",
      "metadata": {
        "id": "5xoZuA6QI7No",
        "colab_type": "text"
      },
      "source": [
        "## General Concepts\n"
      ]
    },
    {
      "cell_type": "markdown",
      "metadata": {
        "id": "SyZyxHlDhvTT",
        "colab_type": "text"
      },
      "source": [
        "\n",
        "Before this class, I was using artificial intelligence and machine learning interchangeably. I learned that artificial intelligence is more of a general term that encompasses machine learning and deep learning. It can be said that artificial intelligence is the field of computer science that encompasses different areas of creating intelligent machine that mimic a human's activities and decision making abilities.\n",
        "\n"
      ]
    },
    {
      "cell_type": "markdown",
      "metadata": {
        "id": "ypHGyDpRcCmO",
        "colab_type": "text"
      },
      "source": [
        "**Note before we move on**: the code snipped used in this notebook are from Dr. Pawel Wocjan's notebooks on machine learning topics and from my own homework program"
      ]
    },
    {
      "cell_type": "markdown",
      "metadata": {
        "id": "BQ2xi7i0cE9y",
        "colab_type": "text"
      },
      "source": [
        "Of *AI*, symbolic AI (or GOFAI) is representing concepts so that it's easily understood by humans. Opposed to that is non-symbolic AI is when we, the humans, provide raw data to the machine and making it come up with the rules and pattern. \n",
        "The latter part is what we generally call *Machine Learning*. Machine learning is where the machine comes up with the rules after figuring out a pattern, and using those rules it tries to predict the output when given new input.\n",
        "\n",
        "*Deep learning* is a subset of AI that is usually built from neural networks that trains with a lot of examples to come up with the right set of 'rules'. We can train it to recognize a specific thing by exposing the model to a wide variety of examples. A model is an algorithm we design to learn the pattern and predict or guess the right output after training.\n",
        "\n",
        "In this, supervised machine learning is when we provide the model with example inputs and expected outputs and 'supervise' the model to train itself to predict the right output when we give a similar input. As expected, unsupervised learning is when we feed the model with examples but don't give it a list of expected outputs\n",
        "\n"
      ]
    },
    {
      "cell_type": "markdown",
      "metadata": {
        "id": "dmiZpCtTI7kl",
        "colab_type": "text"
      },
      "source": [
        "## Basic concepts"
      ]
    },
    {
      "cell_type": "markdown",
      "metadata": {
        "id": "-d4-0JmChtEG",
        "colab_type": "text"
      },
      "source": [
        "In machine learning, training is what we use to say that we are making a model learn to recognize a pattern and predict the result. There are two main type of models: **regression** and **classification**. Regression models answers question on a 'percentage of sureness' level, such as \"How full will this garage get on a Tuesday\", while classification models are more for yes-or-no questions such as \"This is a dog picture or a cat picture\".\n"
      ]
    },
    {
      "cell_type": "markdown",
      "metadata": {
        "id": "cqTk5UfTo4RU",
        "colab_type": "text"
      },
      "source": [
        "### Linear regression"
      ]
    },
    {
      "cell_type": "markdown",
      "metadata": {
        "id": "6e1E4c4fpBpv",
        "colab_type": "text"
      },
      "source": [
        "In simple terms, linear regression tries to find a relationship between a set of variables using the given data, usually by trying to fit it in a linear equation\n",
        "\n",
        "$$y = mx + b$$\n",
        "\n",
        "where $y$ would be the value we will try to predict after training, $b$ is the y-intercept value but known as the **bias** variable in ML, $m$ is the slope of the equation, it is better known as the '**weight**' for the equation, and $x$ is our input value or features in ML linguistics.\n"
      ]
    },
    {
      "cell_type": "markdown",
      "metadata": {
        "id": "H40p4kRNct_z",
        "colab_type": "text"
      },
      "source": [
        "When we train we usually adjust the weights and bias of the equation (or individual weights of specific features) so that the output value is closer to the right output (that we provide). We do a lot of iterations of this with multiple examples in order to fine-tune it. Linear regression uses a squared error loss function to calculate it's loss value (how much the predicted output was different from the actual output). It subtracts the predicted value from the actual output and squares it ($(y - y_{hat})^2)$, where **$y_{hat}$** is our prediction value whose equation is\n",
        "\n",
        "$$y_{hat} = b + w_1x_1$$\n",
        "\n",
        "$w_1$ is the weight of the feature $x_1$ and $b$ is the bias.\n"
      ]
    },
    {
      "cell_type": "markdown",
      "metadata": {
        "id": "y7S-avfJcr05",
        "colab_type": "text"
      },
      "source": [
        "We use **gradient descent** to adjust these values ($b$ and $w$) so that it's closer to the actual outcome. We take the gradient of the loss function (mentioned above) with respect to the weights ($w$). The idea is that in most cases the loss function, when graphed, is in the shape of a convex. So with gradient loss, the gradient will always point towards the direct of the steepest slope, and we want to move away from that side towards the bottom of the convex (we change the weights at the rate/amount we specify, known as the learning rate). This way we can reduce the loss and get a better prediction next iteration.\n",
        "\n",
        "Once we train the model to get the right or close enough bias and weight term, we can give it a random input variable ($x$) and expect to get an answer that will be right or very close to the right answer.\n",
        "\n",
        "For example, in this follow code block we creating a function to generate random data and plot them and see the true line of the data:\n"
      ]
    },
    {
      "cell_type": "code",
      "metadata": {
        "id": "BM3nozyRORmg",
        "colab_type": "code",
        "colab": {
          "base_uri": "https://localhost:8080/",
          "height": 283
        },
        "outputId": "da126cb5-b430-4d2b-c334-497670dbf86f"
      },
      "source": [
        "import numpy as np\n",
        "import random\n",
        "\n",
        "def get_random_data(m, w = 4, b = 2, mu = .29, sigma = .15):\n",
        "    data = np.zeros(shape=(m, 2))\n",
        "    labels = np.zeros(shape=(m, 1))\n",
        "    x_1_arr = np.zeros(shape=(m, 1))\n",
        "    x_2_arr = np.zeros(shape=(m, 1))\n",
        "    for i in range(m):\n",
        "        rnd = random.random()\n",
        "        if rnd < 0.5:\n",
        "            c = 0\n",
        "        else:\n",
        "            c = 1\n",
        "        x_1 = np.random.uniform(0, 1)\n",
        "        n = np.random.normal(mu, sigma)\n",
        "        x_2 = (w * x_1) + b + ((-1)**c * n)\n",
        "        data[i] = [x_1, x_2]\n",
        "        labels[i] = c\n",
        "        x_1_arr[i] = x_1\n",
        "        x_2_arr[i] = x_2\n",
        "    return data, labels, x_1_arr, x_2_arr\n",
        "\n",
        "def display_random_data(data, labels, logistic=False):\n",
        "    x, y = data.T\n",
        "    for i in range(100):\n",
        "        if logistic:\n",
        "            if labels[i] == 1:\n",
        "                plt.plot(x[i], y[i], \"r.\")\n",
        "            else:\n",
        "                plt.plot(x[i], y[i], \"b.\")\n",
        "        else:\n",
        "            plt.plot(x[i], y[i], \"b.\")\n",
        "\n",
        "    y_2 = 4 * (x) + 2\n",
        "    plt.plot(x[:100], y_2[:100], \"y-\", label=\"true line that separates the value\")\n",
        "\n",
        "data, labels, x_1, x_2 = get_random_data(100)\n",
        "display_random_data(data, labels)\n",
        "plt.legend()\n"
      ],
      "execution_count": 111,
      "outputs": [
        {
          "output_type": "execute_result",
          "data": {
            "text/plain": [
              "<matplotlib.legend.Legend at 0x7f3b57d3fba8>"
            ]
          },
          "metadata": {
            "tags": []
          },
          "execution_count": 111
        },
        {
          "output_type": "display_data",
          "data": {
            "image/png": "[encoded data removed]",
            "text/plain": [
              "<Figure size 432x288 with 1 Axes>"
            ]
          },
          "metadata": {
            "tags": [],
            "needs_background": "light"
          }
        }
      ]
    },
    {
      "cell_type": "markdown",
      "metadata": {
        "id": "61l97S9nO-BX",
        "colab_type": "text"
      },
      "source": [
        "In the graph above we can see that given a set of data points, there is a yellow line that identifies the pattern between the data points and fits right in between all of them so the loss between all the datapoints from the 'center' is equal. This is what we expect to achieve in linear or logistic regression mode. Note that the above graph is not from a trained model, rather just to demonstrate what we can expect from *a regression model*."
      ]
    },
    {
      "cell_type": "markdown",
      "metadata": {
        "id": "x1hqjiklsBXJ",
        "colab_type": "text"
      },
      "source": [
        "### Logistic regression"
      ]
    },
    {
      "cell_type": "markdown",
      "metadata": {
        "id": "qm5Tkr-DsDRE",
        "colab_type": "text"
      },
      "source": [
        "While linear regression is used to get predictions as probabilities such getting the possibility of the garage being full, logistic regression is used to categorize the input such as categorize whether the input is a dog or a cat. One of the major difference between the two in how they are built is that a logistic regression model is passed through a sigmoid activation function to map it's value between 0 and 1. The results from the **sigmoid activation** can be used to categorize the input in an yes or no style (any value less than 0.5 from the sigmoid function will be turned into 0 and any value 0.5 or above is turned into 1).\n",
        "\n",
        "Linear regression outputs a wide range of values, the square loss function can be used to calculate the loss. Since logistic regression usually outputs a value between 0 and 1, the binary cross-entropy loss can be utilized to get a better loss reading.\n",
        "\n",
        "A graph to represent this:"
      ]
    },
    {
      "cell_type": "code",
      "metadata": {
        "id": "_uEHp83rW8GD",
        "colab_type": "code",
        "colab": {
          "base_uri": "https://localhost:8080/",
          "height": 283
        },
        "outputId": "bfb18079-af0c-4703-e555-581e168840c0"
      },
      "source": [
        "data, labels, x_1, x_2 = get_random_data(100)\n",
        "display_random_data(data, labels, logistic=True)\n",
        "plt.legend()\n"
      ],
      "execution_count": 112,
      "outputs": [
        {
          "output_type": "execute_result",
          "data": {
            "text/plain": [
              "<matplotlib.legend.Legend at 0x7f3b56bda6d8>"
            ]
          },
          "metadata": {
            "tags": []
          },
          "execution_count": 112
        },
        {
          "output_type": "display_data",
          "data": {
            "image/png": "[encoded data removed]",
            "text/plain": [
              "<Figure size 432x288 with 1 Axes>"
            ]
          },
          "metadata": {
            "tags": [],
            "needs_background": "light"
          }
        }
      ]
    },
    {
      "cell_type": "markdown",
      "metadata": {
        "id": "cgvr4a6QXVFe",
        "colab_type": "text"
      },
      "source": [
        "The above graph is similar to the linear regression one; we modified it to categorize the values so that any value above the line belongs to a category, category A, while everything below belongs to another category, category B. In that case, with a logistic regression model we can train our it so that if it predicts a value above the line it will consider it to be of category A while if the value is below the line it will considered to belong to category B."
      ]
    },
    {
      "cell_type": "markdown",
      "metadata": {
        "id": "aYcvSkFdI97f",
        "colab_type": "text"
      },
      "source": [
        "## Building a model"
      ]
    },
    {
      "cell_type": "markdown",
      "metadata": {
        "id": "3s2Fe7BRSxG6",
        "colab_type": "text"
      },
      "source": [
        "Convolutional Neural Network is a type of model in the deep learning section that primarily focuses on analyzing images. Usually CNNs contain an input (matrix) or **feature** maps that would be an image, and a set of filters or **kernel maps** (also called as features maps) that would be applied to the input to get the desired output (called the activation map).\n",
        "\n",
        "The input size of the input is the height and width of the images and how many channels (or depth) it has (black and white pictures have 1 channel to specify how gray an area is, and colored images have 3 channels for red, green, and blue layers). The kernel filter is also specified by height and width. We usually need to specify how many input channels and output channels and how many channels are there in the kernel matrix (usually is equal to the number of channels in the image).\n"
      ]
    },
    {
      "cell_type": "markdown",
      "metadata": {
        "id": "k8yMD2AARcB1",
        "colab_type": "text"
      },
      "source": [
        "### Convolution Example"
      ]
    },
    {
      "cell_type": "markdown",
      "metadata": {
        "id": "8KLWQ3BNRiZu",
        "colab_type": "text"
      },
      "source": [
        "We will see how a convolution is performed given an input matrix and a kernel matrix that we want to apply to the input matrix. The kernel matrix is placed over the input matrix and that area is multiplied with the kernel matrix (dot product) and reduced to one number. Then the kernel moves by the stride amount and repeats it.  Note: this implementation takes in only square matrices for simplicity."
      ]
    },
    {
      "cell_type": "code",
      "metadata": {
        "id": "DFKu0Im_SAzC",
        "colab_type": "code",
        "colab": {}
      },
      "source": [
        "class CustomException(Exception):\n",
        "    pass\n",
        "\n",
        "class Incompatible(Exception):\n",
        "    def __init__(self, msg):\n",
        "        # Error message is stored in msg\n",
        "        self.msg = msg\n",
        "debug=False\n",
        "\n",
        "def conv2d(input_mat, kernel_mat):\n",
        "    if debug:\n",
        "        print(\"input matrix shape: \" + str(input_mat.shape))\n",
        "        print(\"input matrix: \\n\" + str(input_mat))\n",
        "        print(\"kernel matrix shape: \" + str(kernel_mat.shape))\n",
        "        print(\"kernel matrix: \\n\" + str(kernel_mat))\n",
        "    \n",
        "    #Since convolution requires us to rotate the matrix 180 degrees\n",
        "    kernel_mat = np.rot90(np.rot90(kernel_mat))\n",
        "\n",
        "    if(input_mat.ndim <= 2):\n",
        "        (height,width) = input_mat.shape\n",
        "        channels = 1\n",
        "    else:\n",
        "        (height,width,channels) = input_mat.shape\n",
        "    \n",
        "    if(height != width):\n",
        "        raise Incompatible(\"Input is not a square matrix\")\n",
        "    if(height < len(kernel_mat)):\n",
        "        raise Incompatible(\"Kernel matrix is bigger than input matrix, the result would be empty\")\n",
        "\n",
        "    #if it's always going to be square matricies, can use either height or width\n",
        "    output_size = height-len(kernel_mat)+1\n",
        "\n",
        "    output_mat = np.zeros((output_size, output_size))\n",
        "    for h in range(output_size):\n",
        "        for w in range(output_size):\n",
        "            # commented out since our depth is going to be only one\n",
        "            # if channels > 1:\n",
        "            #     for c in range(channels):\n",
        "            #         multiplied = np.multiply(input_mat[h:h+len(kernel_mat), w:w+len(kernel_mat), c], kernel_mat)\n",
        "            #         added = np.sum(multiplied)\n",
        "            #         output_mat[h][w] = output_mat[h][w]+added\n",
        "            # else:\n",
        "            multiplied = np.multiply(input_mat[h:h+len(kernel_mat), w:w+len(kernel_mat)], kernel_mat)\n",
        "            added = np.sum(multiplied)\n",
        "            output_mat[h][w] = added\n",
        "    if debug:\n",
        "        print(\"output matrix shape: \" + str(output_mat.shape))\n",
        "        print(\"resulting matrix after convolution: \\n\" + str(output_mat))\n",
        "        print(\"\\n\")\n",
        "    return output_mat\n"
      ],
      "execution_count": 0,
      "outputs": []
    },
    {
      "cell_type": "markdown",
      "metadata": {
        "id": "KW031vDWSHKB",
        "colab_type": "text"
      },
      "source": [
        "The above code defines the function that will perform the convolutions on the input matrix. Here are few examples:"
      ]
    },
    {
      "cell_type": "code",
      "metadata": {
        "id": "T9BrOR9DSP3m",
        "colab_type": "code",
        "colab": {
          "base_uri": "https://localhost:8080/",
          "height": 1000
        },
        "outputId": "5d635162-7257-4519-b66f-0bbe22b9c0dd"
      },
      "source": [
        "debug=True #turn off debug to not see output matricies\n",
        "\n",
        "input_mat = np.array([[1,1,1,0,0], [0,1,1,1,0], [0,0,1,1,1], [0,0,1,1,0], [0,1,1,0,0]])\n",
        "\n",
        "# Common image kernels used with image convolution:\n",
        "kernel_mat = np.array([[1,0,1], [0,1,0], [1,0,1]])\n",
        "# kernel_mat = np.array([[-1,-1,-1], [-1,8,-1], [-1,-1,-1]])\n",
        "# kernel_mat = np.array([[(1/9),(1/9),(1/9)],[(1/9),(1/9),(1/9)],[(1/9),(1/9),(1/9)]])\n",
        "\n",
        "output_mat = conv2d(input_mat, kernel_mat)\n",
        "\n",
        "input_mat = np.array([[1,2,3,4,0], [4,3,2,1,0], [9,8,7,6,0], [9,8,7,6,0], [5,4,6,7,0]])\n",
        "kernel_mat = np.array([[0,0,0], [0,1,0], [0,0,0]])\n",
        "\n",
        "output_mat = conv2d(input_mat, kernel_mat)\n",
        "\n",
        "input_mat = np.array([[1,1,1,0,0], [0,1,1,1,0], [0,0,1,1,1], [0,0,1,1,0], [0,1,1,0,0]])\n",
        "kernel_mat = np.array([[1]])\n",
        "\n",
        "output_mat = conv2d(input_mat, kernel_mat)"
      ],
      "execution_count": 91,
      "outputs": [
        {
          "output_type": "stream",
          "text": [
            "input matrix shape: (5, 5)\n",
            "input matrix: \n",
            "[[1 1 1 0 0]\n",
            " [0 1 1 1 0]\n",
            " [0 0 1 1 1]\n",
            " [0 0 1 1 0]\n",
            " [0 1 1 0 0]]\n",
            "kernel matrix shape: (3, 3)\n",
            "kernel matrix: \n",
            "[[1 0 1]\n",
            " [0 1 0]\n",
            " [1 0 1]]\n",
            "output matrix shape: (3, 3)\n",
            "resulting matrix after convolution: \n",
            "[[4. 3. 4.]\n",
            " [2. 4. 3.]\n",
            " [2. 3. 4.]]\n",
            "\n",
            "\n",
            "input matrix shape: (5, 5)\n",
            "input matrix: \n",
            "[[1 2 3 4 0]\n",
            " [4 3 2 1 0]\n",
            " [9 8 7 6 0]\n",
            " [9 8 7 6 0]\n",
            " [5 4 6 7 0]]\n",
            "kernel matrix shape: (3, 3)\n",
            "kernel matrix: \n",
            "[[0 0 0]\n",
            " [0 1 0]\n",
            " [0 0 0]]\n",
            "output matrix shape: (3, 3)\n",
            "resulting matrix after convolution: \n",
            "[[3. 2. 1.]\n",
            " [8. 7. 6.]\n",
            " [8. 7. 6.]]\n",
            "\n",
            "\n",
            "input matrix shape: (5, 5)\n",
            "input matrix: \n",
            "[[1 1 1 0 0]\n",
            " [0 1 1 1 0]\n",
            " [0 0 1 1 1]\n",
            " [0 0 1 1 0]\n",
            " [0 1 1 0 0]]\n",
            "kernel matrix shape: (1, 1)\n",
            "kernel matrix: \n",
            "[[1]]\n",
            "output matrix shape: (5, 5)\n",
            "resulting matrix after convolution: \n",
            "[[1. 1. 1. 0. 0.]\n",
            " [0. 1. 1. 1. 0.]\n",
            " [0. 0. 1. 1. 1.]\n",
            " [0. 0. 1. 1. 0.]\n",
            " [0. 1. 1. 0. 0.]]\n",
            "\n",
            "\n"
          ],
          "name": "stdout"
        }
      ]
    },
    {
      "cell_type": "markdown",
      "metadata": {
        "id": "eGAGoWDmZWkf",
        "colab_type": "text"
      },
      "source": [
        "You can also view this Gif from Towards Data Science to visualize convolution: https://miro.medium.com/max/1070/1*Zx-ZMLKab7VOCQTxdZ1OAw.gif"
      ]
    },
    {
      "cell_type": "markdown",
      "metadata": {
        "id": "j_14Bg29TBQC",
        "colab_type": "text"
      },
      "source": [
        "### Building a model from scratch"
      ]
    },
    {
      "cell_type": "markdown",
      "metadata": {
        "id": "FWN6NZpaRbHM",
        "colab_type": "text"
      },
      "source": [
        "Now on to build our own mode. The Keras library can be used to build it from scratch. An example is shown below:"
      ]
    },
    {
      "cell_type": "code",
      "metadata": {
        "id": "sBY2NQvf7hNb",
        "colab_type": "code",
        "outputId": "3e17c70d-2fa7-46c7-ad2b-1770acfbb716",
        "colab": {
          "base_uri": "https://localhost:8080/",
          "height": 256
        }
      },
      "source": [
        "!wget --no-check-certificate \\\n",
        "    https://storage.googleapis.com/mledu-datasets/cats_and_dogs_filtered.zip \\\n",
        "    -O /tmp/cats_and_dogs_filtered.zip\n",
        "import os\n",
        "import zipfile\n",
        "\n",
        "local_zip = '/tmp/cats_and_dogs_filtered.zip'\n",
        "zip_ref = zipfile.ZipFile(local_zip, 'r')\n",
        "zip_ref.extractall('/tmp')\n",
        "zip_ref.close()\n",
        "\n",
        "from keras.preprocessing.image import ImageDataGenerator\n",
        "\n",
        "generator = ImageDataGenerator(rescale=1./255)\n",
        "\n",
        "base_dir = '/tmp/cats_and_dogs_filtered'\n",
        "train_dir = os.path.join(base_dir, 'train')\n",
        "validation_dir = os.path.join(base_dir, 'validation')\n",
        "\n",
        "# Directory with our training cat pictures\n",
        "train_cats_dir = os.path.join(train_dir, 'cats')\n",
        "\n",
        "# Directory with our training dog pictures\n",
        "train_dogs_dir = os.path.join(train_dir, 'dogs')\n",
        "\n",
        "# Directory with our validation cat pictures\n",
        "validation_cats_dir = os.path.join(validation_dir, 'cats')\n",
        "\n",
        "# Directory with our validation dog pictures\n",
        "validation_dogs_dir = os.path.join(validation_dir, 'dogs')\n",
        "\n",
        "train_cat_fnames = os.listdir(train_cats_dir)\n",
        "train_cat_fnames.sort()\n",
        "train_dog_fnames = os.listdir(train_dogs_dir)\n",
        "train_dog_fnames.sort()\n",
        "\n",
        "train_generator = generator.flow_from_directory(\n",
        "    train_dir,\n",
        "    target_size=(150, 150),\n",
        "    batch_size=20,\n",
        "    class_mode='binary'\n",
        ")\n",
        "\n",
        "validation_generator = generator.flow_from_directory(\n",
        "    validation_dir,\n",
        "    target_size=(150, 150),\n",
        "    batch_size=20,\n",
        "    class_mode='binary'\n",
        ")\n"
      ],
      "execution_count": 43,
      "outputs": [
        {
          "output_type": "stream",
          "text": [
            "--2020-04-25 02:27:15--  https://storage.googleapis.com/mledu-datasets/cats_and_dogs_filtered.zip\n",
            "Resolving storage.googleapis.com (storage.googleapis.com)... 74.125.143.128, 2a00:1450:4013:c00::80\n",
            "Connecting to storage.googleapis.com (storage.googleapis.com)|74.125.143.128|:443... connected.\n",
            "HTTP request sent, awaiting response... 200 OK\n",
            "Length: 68606236 (65M) [application/zip]\n",
            "Saving to: ‘/tmp/cats_and_dogs_filtered.zip’\n",
            "\n",
            "/tmp/cats_and_dogs_ 100%[===================>]  65.43M   199MB/s    in 0.3s    \n",
            "\n",
            "2020-04-25 02:27:16 (199 MB/s) - ‘/tmp/cats_and_dogs_filtered.zip’ saved [68606236/68606236]\n",
            "\n",
            "Found 2000 images belonging to 2 classes.\n",
            "Found 1000 images belonging to 2 classes.\n"
          ],
          "name": "stdout"
        }
      ]
    },
    {
      "cell_type": "code",
      "metadata": {
        "id": "4U0X_o1gaUIn",
        "colab_type": "code",
        "outputId": "e74e5589-0230-4883-9bcf-a20e621dc7df",
        "colab": {
          "base_uri": "https://localhost:8080/",
          "height": 568
        }
      },
      "source": [
        "from keras import layers\n",
        "from keras import models\n",
        "\n",
        "model = models.Sequential()\n",
        "# conv layers\n",
        "# 1\n",
        "model.add(layers.Conv2D(32, (3, 3), activation='relu', input_shape=(150, 150, 3)))\n",
        "model.add(layers.MaxPooling2D(2, 2))\n",
        "# 2\n",
        "model.add(layers.Conv2D(64, (3, 3), activation='relu'))\n",
        "model.add(layers.MaxPooling2D(2, 2))\n",
        "# 3\n",
        "model.add(layers.Conv2D(128, (3, 3), activation='relu'))\n",
        "model.add(layers.MaxPooling2D(2, 2))\n",
        "# 4\n",
        "model.add(layers.Conv2D(128, (3, 3), activation='relu'))\n",
        "model.add(layers.MaxPooling2D(2, 2))\n",
        "# dense layers\n",
        "model.add(layers.Flatten())\n",
        "model.add(layers.Dense(512, activation='relu'))\n",
        "model.add(layers.Dense(1, activation='sigmoid'))\n",
        "\n",
        "model.summary()"
      ],
      "execution_count": 44,
      "outputs": [
        {
          "output_type": "stream",
          "text": [
            "Model: \"sequential_9\"\n",
            "_________________________________________________________________\n",
            "Layer (type)                 Output Shape              Param #   \n",
            "=================================================================\n",
            "conv2d_33 (Conv2D)           (None, 148, 148, 32)      896       \n",
            "_________________________________________________________________\n",
            "max_pooling2d_33 (MaxPooling (None, 74, 74, 32)        0         \n",
            "_________________________________________________________________\n",
            "conv2d_34 (Conv2D)           (None, 72, 72, 64)        18496     \n",
            "_________________________________________________________________\n",
            "max_pooling2d_34 (MaxPooling (None, 36, 36, 64)        0         \n",
            "_________________________________________________________________\n",
            "conv2d_35 (Conv2D)           (None, 34, 34, 128)       73856     \n",
            "_________________________________________________________________\n",
            "max_pooling2d_35 (MaxPooling (None, 17, 17, 128)       0         \n",
            "_________________________________________________________________\n",
            "conv2d_36 (Conv2D)           (None, 15, 15, 128)       147584    \n",
            "_________________________________________________________________\n",
            "max_pooling2d_36 (MaxPooling (None, 7, 7, 128)         0         \n",
            "_________________________________________________________________\n",
            "flatten_9 (Flatten)          (None, 6272)              0         \n",
            "_________________________________________________________________\n",
            "dense_17 (Dense)             (None, 512)               3211776   \n",
            "_________________________________________________________________\n",
            "dense_18 (Dense)             (None, 1)                 513       \n",
            "=================================================================\n",
            "Total params: 3,453,121\n",
            "Trainable params: 3,453,121\n",
            "Non-trainable params: 0\n",
            "_________________________________________________________________\n"
          ],
          "name": "stdout"
        }
      ]
    },
    {
      "cell_type": "markdown",
      "metadata": {
        "id": "k-gTcbfHavvS",
        "colab_type": "text"
      },
      "source": [
        "In the above code we downloaded some test images and built a model whose input size we specify to be 150 x 150 pixels and has 3 channels and it's kernel size to be 3x3. We then add a **maxpooling** layer that reduces the size by half. \n",
        "More about maxpooling in the next section. \n",
        "\n",
        "And when we finally want to process at the maps that we have computed to identify and classify, we will flatten the layers so we can pass them to the fully-connected layers, also known as densely connected layers (those layers won't take multiple-dimensional layers). These layers take the input and classify them and output the features of the image from the input."
      ]
    },
    {
      "cell_type": "markdown",
      "metadata": {
        "id": "2LdUSrt0TJzG",
        "colab_type": "text"
      },
      "source": [
        "### Maxpooling"
      ]
    },
    {
      "cell_type": "markdown",
      "metadata": {
        "id": "sc2PKn5xTL1q",
        "colab_type": "text"
      },
      "source": [
        "When we apply the filter to the image, the output map will have features would be very localized, so if given a new image the model would have a hard time detecting what we want it to detect if the object isn't the same place as other pictures. In order to avoid this, we want to decentralize those features by generalizing the position in the output map. The maxpooling layer does this by taking the maximum values of an area (area of size that we specify, 2x2 in the model we built) and making that into a new matrix that half the size of the input (since our maxpool window is 2x2).\n",
        "\n",
        "The following code will show a simple implementation of a maxpool layer for better understanding. We take a window of values from the input matrix (size of the window is provided, square in this case) and choose the largest value in that window and retain only that in the new matrix. Note: this implementation takes in only square matrices for simplicity."
      ]
    },
    {
      "cell_type": "code",
      "metadata": {
        "id": "lG1qU1udTLZC",
        "colab_type": "code",
        "colab": {}
      },
      "source": [
        "def maxpooling2d(input_mat, s):\n",
        "    \n",
        "    if debug:\n",
        "        print(\"maxpool window: \" + str(s))\n",
        "        print(\"input matrix shape: \" + str(input_mat.shape))\n",
        "        print(\"input matrix: \\n\" + str(input_mat))\n",
        "\n",
        "    if(input_mat.ndim <= 2):\n",
        "        (height,width) = input_mat.shape\n",
        "        channels = 1\n",
        "    else:\n",
        "        (height,width,channels) = input_mat.shape\n",
        "\n",
        "    if(height != width):\n",
        "        raise Incompatible(\"Input is not a square matrix\")\n",
        "    if(height < s):\n",
        "        raise Incompatible(\"Maxpool window is bigger than input matrix\")\n",
        "\n",
        "    #if it's always going to be square matricies\n",
        "    output_size = int(np.floor((min(height,width))/s))\n",
        "\n",
        "    output_mat = np.zeros((output_size, output_size))\n",
        "    for h in range(output_size):\n",
        "        for w in range(output_size):\n",
        "            if channels > 1:\n",
        "                for c in range(channels):\n",
        "                    max_value = input_mat[h*s:h*s+s, w*s:w*s+s, c].max()\n",
        "                    output_mat[h][w] = output_mat[h][w]+max_value\n",
        "            else:\n",
        "                max_value = input_mat[h*s:h*s+s, w*s:w*s+s].max()\n",
        "                output_mat[h][w] = max_value\n",
        "    \n",
        "    if debug:\n",
        "        print(\"output matrix shape: \" + str(output_mat.shape))\n",
        "        print(str(output_mat))\n",
        "        print(\"\\n\")\n",
        "    return output_mat\n"
      ],
      "execution_count": 0,
      "outputs": []
    },
    {
      "cell_type": "markdown",
      "metadata": {
        "id": "_4wIpRQkTxft",
        "colab_type": "text"
      },
      "source": [
        "Some examples to see how it works"
      ]
    },
    {
      "cell_type": "code",
      "metadata": {
        "id": "6znPV0uwTzN_",
        "colab_type": "code",
        "colab": {
          "base_uri": "https://localhost:8080/",
          "height": 715
        },
        "outputId": "7f9cdd19-1f08-4241-9198-d2bfd445ce70"
      },
      "source": [
        "debug = True\n",
        "\n",
        "input_mat = np.array([[1,1,1,0,0], [0,1,1,1,0], [0,0,1,1,1], [0,0,1,1,0], [0,1,1,0,0]])\n",
        "output_mat = maxpooling2d(input_mat, 4)\n",
        "\n",
        "input_mat = np.array([[1,1,1,0,0], [0,1,1,1,0], [0,0,1,1,1], [0,0,1,1,0], [0,1,1,0,0]])\n",
        "output_mat = maxpooling2d(input_mat, 2)\n",
        "\n",
        "input_mat = np.array([[1,2,3,4,0], [4,3,2,1,0], [9,8,7,6,0], [9,8,7,6,0], [5,4,6,7,0]])\n",
        "output_mat = maxpooling2d(input_mat, 2)\n"
      ],
      "execution_count": 98,
      "outputs": [
        {
          "output_type": "stream",
          "text": [
            "maxpool window: 4\n",
            "input matrix shape: (5, 5)\n",
            "input matrix: \n",
            "[[1 1 1 0 0]\n",
            " [0 1 1 1 0]\n",
            " [0 0 1 1 1]\n",
            " [0 0 1 1 0]\n",
            " [0 1 1 0 0]]\n",
            "output matrix shape: (1, 1)\n",
            "[[1.]]\n",
            "\n",
            "\n",
            "maxpool window: 2\n",
            "input matrix shape: (5, 5)\n",
            "input matrix: \n",
            "[[1 1 1 0 0]\n",
            " [0 1 1 1 0]\n",
            " [0 0 1 1 1]\n",
            " [0 0 1 1 0]\n",
            " [0 1 1 0 0]]\n",
            "output matrix shape: (2, 2)\n",
            "[[1. 1.]\n",
            " [0. 1.]]\n",
            "\n",
            "\n",
            "maxpool window: 2\n",
            "input matrix shape: (5, 5)\n",
            "input matrix: \n",
            "[[1 2 3 4 0]\n",
            " [4 3 2 1 0]\n",
            " [9 8 7 6 0]\n",
            " [9 8 7 6 0]\n",
            " [5 4 6 7 0]]\n",
            "output matrix shape: (2, 2)\n",
            "[[4. 4.]\n",
            " [9. 7.]]\n",
            "\n",
            "\n"
          ],
          "name": "stdout"
        }
      ]
    },
    {
      "cell_type": "markdown",
      "metadata": {
        "id": "eRWqtL2BZsZo",
        "colab_type": "text"
      },
      "source": [
        "You can also view this Gif of maxpooling from Google Developers to easily visualize it: https://developers.google.com/machine-learning/practica/image-classification/images/maxpool_animation.gif"
      ]
    },
    {
      "cell_type": "markdown",
      "metadata": {
        "id": "ue7d4qOzJD1f",
        "colab_type": "text"
      },
      "source": [
        "## Compiling a model "
      ]
    },
    {
      "cell_type": "markdown",
      "metadata": {
        "id": "GY2E0L4bRR4V",
        "colab_type": "text"
      },
      "source": [
        "After we build the model, we need to compile it with extra parameters that define how we will train the model. There are four main parameters that compiling a model will take: it asks what type of loss function, optimizer (learning rate), and what type of metric it would analyze. \n",
        "\n",
        "The loss function as we discussed before tells us how much the predicted value differs from the actual outcome. This helps us understand how close or how far the model is from predicting the right value, which we can then use to adjust the weights and the bias to reduce the loss using the optimizer. The optimizer is what controls how the weights of the model are updated in order to reduce the loss.\n",
        "\n"
      ]
    },
    {
      "cell_type": "markdown",
      "metadata": {
        "id": "8LbquPzMdRDO",
        "colab_type": "text"
      },
      "source": [
        "**The learning rate** is how large or how small of a change we want to make to the weights when updating them. Usually smaller learning rate tends to lead to a better or more accurate model but might take a lot of time while larger learning rates tends to get to the good version of the model in a short time but has the chance of overshooting the weights, which can lead to the weights diverging and not converging. Metrics are what we use to evaluate the model when training. It should be said that the results of metrics aren't used to update the model like the loss (the loss can be considered a metric).\n",
        "\n",
        "The following is the code we use to compile our model.\n"
      ]
    },
    {
      "cell_type": "code",
      "metadata": {
        "id": "Q1_jN7yTuQOK",
        "colab_type": "code",
        "colab": {}
      },
      "source": [
        "from keras import optimizers\n",
        "\n",
        "model.compile(\n",
        "    loss='binary_crossentropy', \n",
        "    optimizer=optimizers.RMSprop(lr=1e-4), #use a learning rate of 1e-5 to not overfit the model (results shown in second set of graphs)\n",
        "    metrics=['acc']\n",
        ")"
      ],
      "execution_count": 0,
      "outputs": []
    },
    {
      "cell_type": "markdown",
      "metadata": {
        "id": "G3WSDXMBzgE7",
        "colab_type": "text"
      },
      "source": [
        "In the code above we are compiling our model that we built before. Assuming we are building a logistic regression model, we will use a binary crossentropy loss function for the reasons we discussed above. To get an accurate model, we will set the learning rate very low (0.0001) and run it many times (many epochs). And we use accuracy metrics when we start to train it."
      ]
    },
    {
      "cell_type": "markdown",
      "metadata": {
        "id": "TubEJREMJFAa",
        "colab_type": "text"
      },
      "source": [
        "## Training a model\n"
      ]
    },
    {
      "cell_type": "markdown",
      "metadata": {
        "id": "IxW69QDevStM",
        "colab_type": "text"
      },
      "source": [
        "After we compile the model, the next big step is to train it! In the code below we feed the fit_generator, we tell it to run 100 iterations in each epoch. **Epoch** is the number of runs we want to do with a data set. Here we tell it to train the model in 30 sets (divided among the 2000 training images). We also run the model on the test data after training it in every iteration just to see how our model is training and how the accuracy rate and loss change over time (or over iteration I should say)."
      ]
    },
    {
      "cell_type": "code",
      "metadata": {
        "id": "vb-43NYB6tHu",
        "colab_type": "code",
        "outputId": "51c29e60-ddfb-4157-cd16-e384e636c013",
        "colab": {
          "base_uri": "https://localhost:8080/",
          "height": 1000
        }
      },
      "source": [
        "history = model.fit_generator(\n",
        "    train_generator,\n",
        "    steps_per_epoch=100,\n",
        "    epochs=30,\n",
        "    validation_data=validation_generator,\n",
        "    validation_steps=50\n",
        ")"
      ],
      "execution_count": 46,
      "outputs": [
        {
          "output_type": "stream",
          "text": [
            "Epoch 1/30\n",
            "100/100 [==============================] - 8s 84ms/step - loss: 0.6886 - acc: 0.5365 - val_loss: 0.6811 - val_acc: 0.5960\n",
            "Epoch 2/30\n",
            "100/100 [==============================] - 8s 77ms/step - loss: 0.6467 - acc: 0.6285 - val_loss: 0.6735 - val_acc: 0.6050\n",
            "Epoch 3/30\n",
            "100/100 [==============================] - 8s 76ms/step - loss: 0.5996 - acc: 0.6805 - val_loss: 0.6186 - val_acc: 0.6950\n",
            "Epoch 4/30\n",
            "100/100 [==============================] - 8s 76ms/step - loss: 0.5585 - acc: 0.7010 - val_loss: 0.6041 - val_acc: 0.6950\n",
            "Epoch 5/30\n",
            "100/100 [==============================] - 8s 76ms/step - loss: 0.5284 - acc: 0.7260 - val_loss: 0.5978 - val_acc: 0.6960\n",
            "Epoch 6/30\n",
            "100/100 [==============================] - 8s 76ms/step - loss: 0.4955 - acc: 0.7580 - val_loss: 0.7380 - val_acc: 0.7020\n",
            "Epoch 7/30\n",
            "100/100 [==============================] - 8s 76ms/step - loss: 0.4744 - acc: 0.7665 - val_loss: 0.7223 - val_acc: 0.6540\n",
            "Epoch 8/30\n",
            "100/100 [==============================] - 8s 76ms/step - loss: 0.4542 - acc: 0.7860 - val_loss: 0.6780 - val_acc: 0.7250\n",
            "Epoch 9/30\n",
            "100/100 [==============================] - 8s 77ms/step - loss: 0.4258 - acc: 0.8040 - val_loss: 0.5936 - val_acc: 0.7070\n",
            "Epoch 10/30\n",
            "100/100 [==============================] - 8s 76ms/step - loss: 0.4039 - acc: 0.8165 - val_loss: 0.4355 - val_acc: 0.7140\n",
            "Epoch 11/30\n",
            "100/100 [==============================] - 8s 76ms/step - loss: 0.3765 - acc: 0.8330 - val_loss: 0.5262 - val_acc: 0.7450\n",
            "Epoch 12/30\n",
            "100/100 [==============================] - 8s 77ms/step - loss: 0.3510 - acc: 0.8455 - val_loss: 0.5869 - val_acc: 0.7330\n",
            "Epoch 13/30\n",
            "100/100 [==============================] - 8s 78ms/step - loss: 0.3194 - acc: 0.8665 - val_loss: 0.3724 - val_acc: 0.7480\n",
            "Epoch 14/30\n",
            "100/100 [==============================] - 8s 76ms/step - loss: 0.3026 - acc: 0.8720 - val_loss: 0.4981 - val_acc: 0.7350\n",
            "Epoch 15/30\n",
            "100/100 [==============================] - 8s 75ms/step - loss: 0.2818 - acc: 0.8835 - val_loss: 0.7459 - val_acc: 0.7380\n",
            "Epoch 16/30\n",
            "100/100 [==============================] - 8s 76ms/step - loss: 0.2562 - acc: 0.8990 - val_loss: 0.2897 - val_acc: 0.7510\n",
            "Epoch 17/30\n",
            "100/100 [==============================] - 8s 76ms/step - loss: 0.2354 - acc: 0.9115 - val_loss: 0.8432 - val_acc: 0.7500\n",
            "Epoch 18/30\n",
            "100/100 [==============================] - 8s 78ms/step - loss: 0.2239 - acc: 0.9095 - val_loss: 0.7999 - val_acc: 0.7290\n",
            "Epoch 19/30\n",
            "100/100 [==============================] - 8s 76ms/step - loss: 0.1931 - acc: 0.9310 - val_loss: 0.4738 - val_acc: 0.7470\n",
            "Epoch 20/30\n",
            "100/100 [==============================] - 8s 75ms/step - loss: 0.1634 - acc: 0.9485 - val_loss: 0.5441 - val_acc: 0.7630\n",
            "Epoch 21/30\n",
            "100/100 [==============================] - 8s 76ms/step - loss: 0.1536 - acc: 0.9445 - val_loss: 0.5238 - val_acc: 0.7490\n",
            "Epoch 22/30\n",
            "100/100 [==============================] - 8s 76ms/step - loss: 0.1358 - acc: 0.9545 - val_loss: 0.6523 - val_acc: 0.7540\n",
            "Epoch 23/30\n",
            "100/100 [==============================] - 8s 77ms/step - loss: 0.1155 - acc: 0.9625 - val_loss: 0.7232 - val_acc: 0.7550\n",
            "Epoch 24/30\n",
            "100/100 [==============================] - 8s 76ms/step - loss: 0.1023 - acc: 0.9660 - val_loss: 0.6808 - val_acc: 0.7610\n",
            "Epoch 25/30\n",
            "100/100 [==============================] - 8s 75ms/step - loss: 0.0877 - acc: 0.9755 - val_loss: 1.5138 - val_acc: 0.7400\n",
            "Epoch 26/30\n",
            "100/100 [==============================] - 8s 77ms/step - loss: 0.0770 - acc: 0.9765 - val_loss: 0.2380 - val_acc: 0.7740\n",
            "Epoch 27/30\n",
            "100/100 [==============================] - 8s 76ms/step - loss: 0.0639 - acc: 0.9835 - val_loss: 0.4821 - val_acc: 0.7440\n",
            "Epoch 28/30\n",
            "100/100 [==============================] - 8s 75ms/step - loss: 0.0554 - acc: 0.9860 - val_loss: 1.1156 - val_acc: 0.7390\n",
            "Epoch 29/30\n",
            "100/100 [==============================] - 8s 76ms/step - loss: 0.0456 - acc: 0.9885 - val_loss: 0.7974 - val_acc: 0.7650\n",
            "Epoch 30/30\n",
            "100/100 [==============================] - 8s 76ms/step - loss: 0.0385 - acc: 0.9895 - val_loss: 1.0084 - val_acc: 0.7560\n"
          ],
          "name": "stdout"
        }
      ]
    },
    {
      "cell_type": "markdown",
      "metadata": {
        "id": "Aam2VLlR7_Ls",
        "colab_type": "text"
      },
      "source": [
        "We can graph the accuracy and loss values we obtained from training the model to see the pattern between the how well the model does with trained images vs new examples."
      ]
    },
    {
      "cell_type": "code",
      "metadata": {
        "id": "rxAswdVl-G_H",
        "colab_type": "code",
        "colab": {
          "base_uri": "https://localhost:8080/",
          "height": 545
        },
        "outputId": "1ee102da-70ed-4796-d38e-c06e4d62d0d7"
      },
      "source": [
        "import matplotlib.pyplot as plt\n",
        "\n",
        "acc = history.history['acc']\n",
        "val_acc = history.history['val_acc']\n",
        "\n",
        "loss = history.history['loss']\n",
        "val_loss = history.history['val_loss']\n",
        "\n",
        "epochs = range(1, len(acc) + 1)\n",
        "\n",
        "# training and validation accuracy\n",
        "\n",
        "plt.plot(epochs, acc, 'bo', label='training acc')\n",
        "plt.plot(epochs, val_acc, 'b', label='validation acc')\n",
        "plt.title('training and validation accuracy')\n",
        "plt.legend()\n",
        "\n",
        "plt.figure()\n",
        "\n",
        "# training and validation loss\n",
        "\n",
        "plt.plot(epochs, loss, 'bo', label='training loss')\n",
        "plt.plot(epochs, val_loss, 'b', label='validation loss')\n",
        "plt.title('training and validation loss')\n",
        "plt.legend()\n",
        "\n",
        "plt.show()"
      ],
      "execution_count": 47,
      "outputs": [
        {
          "output_type": "display_data",
          "data": {
            "image/png": "[encoded data removed]",
            "text/plain": [
              "<Figure size 432x288 with 1 Axes>"
            ]
          },
          "metadata": {
            "tags": [],
            "needs_background": "light"
          }
        },
        {
          "output_type": "display_data",
          "data": {
            "image/png": "[encoded data removed]",
            "text/plain": [
              "<Figure size 432x288 with 1 Axes>"
            ]
          },
          "metadata": {
            "tags": [],
            "needs_background": "light"
          }
        }
      ]
    },
    {
      "cell_type": "markdown",
      "metadata": {
        "id": "LmYt85Fc-fSQ",
        "colab_type": "text"
      },
      "source": [
        "From the graphs above one can see that the accuracy of the training data increases while the accuracy of testing data starts to plateau around the 70%-75% range over time. This type of trend indicates that the model is **overfitting**, meaning that it better recognizes only the trained images and not unseen images. **Underfitting** is when the model is not able to train for new data and unable to recognize the features or generalize them.\n",
        "\n",
        "A good model is when the model has a good training accuracy and has similar validation accuracy. You can see an example of a good model below. This was achieved by decreasing our learning rate by a third and rebuilding and training the model above."
      ]
    },
    {
      "cell_type": "code",
      "metadata": {
        "id": "_Z8vNYVDA3hE",
        "colab_type": "code",
        "colab": {
          "base_uri": "https://localhost:8080/",
          "height": 545
        },
        "outputId": "af58f9fd-f72b-4181-9d5e-ee30579ab619"
      },
      "source": [
        "# Do not run, if accidentally run, change the learning rate and rebuilt the model to achieve a similar graph\n",
        "import matplotlib.pyplot as plt\n",
        "#The follow graph shows the graph of a good model\n",
        "acc = history.history['acc']\n",
        "val_acc = history.history['val_acc']\n",
        "\n",
        "loss = history.history['loss']\n",
        "val_loss = history.history['val_loss']\n",
        "\n",
        "epochs = range(1, len(acc) + 1)\n",
        "\n",
        "# training and validation accuracy\n",
        "\n",
        "plt.plot(epochs, acc, 'bo', label='training acc')\n",
        "plt.plot(epochs, val_acc, 'b', label='validation acc')\n",
        "plt.title('training and validation accuracy')\n",
        "plt.legend()\n",
        "\n",
        "plt.figure()\n",
        "\n",
        "# training and validation loss\n",
        "\n",
        "plt.plot(epochs, loss, 'bo', label='training loss')\n",
        "plt.plot(epochs, val_loss, 'b', label='validation loss')\n",
        "plt.title('training and validation loss')\n",
        "plt.legend()\n",
        "\n",
        "plt.show()"
      ],
      "execution_count": 42,
      "outputs": [
        {
          "output_type": "display_data",
          "data": {
            "image/png": "[encoded data removed]",
            "text/plain": [
              "<Figure size 432x288 with 1 Axes>"
            ]
          },
          "metadata": {
            "tags": [],
            "needs_background": "light"
          }
        },
        {
          "output_type": "display_data",
          "data": {
            "image/png": "[encoded data removed]",
            "text/plain": [
              "<Figure size 432x288 with 1 Axes>"
            ]
          },
          "metadata": {
            "tags": [],
            "needs_background": "light"
          }
        }
      ]
    },
    {
      "cell_type": "markdown",
      "metadata": {
        "id": "rg5kxaHvJF6n",
        "colab_type": "text"
      },
      "source": [
        "## Finetuning a pretrained model"
      ]
    },
    {
      "cell_type": "markdown",
      "metadata": {
        "id": "fFP5iEbJzujm",
        "colab_type": "text"
      },
      "source": [
        "Once you have obtained a pretrained model, you would initially **freeze all the trainable layers** of the convolutional base (pretrained model) and train the model (so we train the other connected layers). Once you have trained the model with the frozen convolutional base, we can fine tune the model by **unfreeze** specific block of layers in the convolutional base. Which set of block to unfreeze depends on pretrained model, so it will take some tries, but the idea is to either unfreeze the last few sets of layers or (a set of layers in general) in the convolutional base and train the model again.\n",
        "\n",
        "After unfreezing some layers we compile the model and train it again. It would help to visualize the accuracy of the training and validation runs, as shown in graph from previous sections. The goal is to not overfit or underfit the model so that it is trained to properly to predict the output if given an input that's not similar to the training examples.\n",
        "\n"
      ]
    }
  ]
}