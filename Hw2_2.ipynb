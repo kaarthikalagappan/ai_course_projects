{
  "nbformat": 4,
  "nbformat_minor": 0,
  "metadata": {
    "colab": {
      "name": "Hw2_2",
      "provenance": [],
      "collapsed_sections": [],
      "authorship_tag": "ABX9TyMPFae/Re43q1Kma8/0mPeO",
      "include_colab_link": true
    },
    "kernelspec": {
      "name": "python3",
      "display_name": "Python 3"
    }
  },
  "cells": [
    {
      "cell_type": "markdown",
      "metadata": {
        "id": "view-in-github",
        "colab_type": "text"
      },
      "source": [
        "<a href=\"https://colab.research.google.com/github/kaarthikalagappan/ai_course_projects/blob/master/Hw2_2.ipynb\" target=\"_parent\"><img src=\"https://colab.research.google.com/assets/colab-badge.svg\" alt=\"Open In Colab\"/></a>"
      ]
    },
    {
      "cell_type": "markdown",
      "metadata": {
        "id": "ry47sbokbJTa",
        "colab_type": "text"
      },
      "source": [
        "#Homework 2 Problem 2"
      ]
    },
    {
      "cell_type": "markdown",
      "metadata": {
        "id": "LUu4i6z6bDga",
        "colab_type": "text"
      },
      "source": [
        "##Extending Mini Batch Gradient Descent to two weights"
      ]
    },
    {
      "cell_type": "markdown",
      "metadata": {
        "id": "VlTd8MSWbMqv",
        "colab_type": "text"
      },
      "source": [
        "Code taken and adapter from Dr. Wocjan's notes (mostly from linear_regression_gradient_descent.ipynb)"
      ]
    },
    {
      "cell_type": "code",
      "metadata": {
        "id": "KLAfLIOdthbR",
        "colab_type": "code",
        "colab": {}
      },
      "source": [
        "import numpy as np\n",
        "import matplotlib as mpl\n",
        "import matplotlib.pyplot as plt\n",
        "from mpl_toolkits import mplot3d\n",
        "%matplotlib inline\n",
        "\n",
        "mpl.rc('axes', labelsize=14)\n",
        "mpl.rc('xtick', labelsize=12)\n",
        "mpl.rc('ytick', labelsize=12)\n"
      ],
      "execution_count": 0,
      "outputs": []
    },
    {
      "cell_type": "code",
      "metadata": {
        "id": "84TQazbQudc3",
        "colab_type": "code",
        "colab": {}
      },
      "source": [
        "# generate m random pairs (x, y)\n",
        "\n",
        "m = 100\n",
        "X = 2 * np.random.rand(m, 1)\n",
        "X2 = 3.4 * np.random.rand(m, 1)\n",
        "y = X + X2 + np.random.rand(m, 1)\n"
      ],
      "execution_count": 0,
      "outputs": []
    },
    {
      "cell_type": "markdown",
      "metadata": {
        "id": "VV9OI6liRx6y",
        "colab_type": "text"
      },
      "source": [
        "###Random set of data"
      ]
    },
    {
      "cell_type": "code",
      "metadata": {
        "id": "tu6VeOJmud9z",
        "colab_type": "code",
        "outputId": "d3d69843-4080-4641-ebad-df7892757524",
        "colab": {
          "base_uri": "https://localhost:8080/",
          "height": 290
        }
      },
      "source": [
        "plt.plot(X+X2, y, \"b.\")\n",
        "# plt.plot(X, X2, \"ro\")\n",
        "plt.xlabel(\"$x_1$\", fontsize=18)\n",
        "plt.ylabel(\"$y$\", rotation=0, fontsize=18)\n",
        "plt.axis([0, 2, 0, 15])\n",
        "plt.show()\n"
      ],
      "execution_count": 54,
      "outputs": [
        {
          "output_type": "display_data",
          "data": {
            "image/png": "[encoded data removed]",
            "text/plain": [
              "<Figure size 432x288 with 1 Axes>"
            ]
          },
          "metadata": {
            "tags": []
          }
        }
      ]
    },
    {
      "cell_type": "code",
      "metadata": {
        "id": "A5JnqGDMumjJ",
        "colab_type": "code",
        "colab": {}
      },
      "source": [
        "# add x0 = 1 \n",
        "X_b = np.column_stack([np.ones((m, 1)), X])\n",
        "X2_b = np.column_stack([np.ones((m, 1)), X2])\n",
        "# create array with x1=0 and x1=2\n",
        "X_new = np.array([[0], [2]])\n",
        "X2_new = np.array([[0], [2]])\n",
        "# add x0 = 1 to each instance\n",
        "X_new_b = np.column_stack([np.ones((2, 1)), X_new])\n",
        "X2_new_b = np.column_stack([np.ones((2, 1)), X2_new])\n"
      ],
      "execution_count": 0,
      "outputs": []
    },
    {
      "cell_type": "code",
      "metadata": {
        "id": "HBHmHVpX3Ow5",
        "colab_type": "code",
        "colab": {}
      },
      "source": [
        "# number of epochs\n",
        "epochs = 20\n",
        "# learning rate\n",
        "lr = 0.026\n",
        "# fix initial random weight for gradient descent (batch gradient descent)\n",
        "np.random.seed(42)\n",
        "initial_weight = np.random.randn(2, 1)\n",
        "initial_weight2 = np.random.randn(2, 1)\n"
      ],
      "execution_count": 0,
      "outputs": []
    },
    {
      "cell_type": "code",
      "metadata": {
        "id": "lncdqlNm3VIP",
        "colab_type": "code",
        "outputId": "a7933feb-47f8-47ce-c228-7d47e5c80d0d",
        "colab": {
          "base_uri": "https://localhost:8080/",
          "height": 90
        }
      },
      "source": [
        "# sanity check (I will use this to explain how the vectorized code works)\n",
        "print(initial_weight.shape)\n",
        "print(y.shape)\n",
        "print((X_b.dot(initial_weight)).shape)\n",
        "print((X_b.T.dot(X_b.dot(initial_weight))).shape)\n"
      ],
      "execution_count": 57,
      "outputs": [
        {
          "output_type": "stream",
          "text": [
            "(2, 1)\n",
            "(100, 1)\n",
            "(100, 1)\n",
            "(2, 1)\n"
          ],
          "name": "stdout"
        }
      ]
    },
    {
      "cell_type": "markdown",
      "metadata": {
        "id": "a4RWtNJRR9ZV",
        "colab_type": "text"
      },
      "source": [
        "###Modified mini batch code for n = 2 case"
      ]
    },
    {
      "cell_type": "code",
      "metadata": {
        "id": "VD6Ddckw3nPi",
        "colab_type": "code",
        "outputId": "302027a4-9c21-41fb-eeb1-f1cecccb388d",
        "colab": {
          "base_uri": "https://localhost:8080/",
          "height": 290
        }
      },
      "source": [
        "# mini batch code\n",
        "weight = initial_weight\n",
        "weight2 = initial_weight2\n",
        "weight_path_mgd = []\n",
        "batch_size = 4\n",
        "\n",
        "weight_path_mgd.append(weight)\n",
        "for epoch in range(epochs):\n",
        "    shuffled_indices = np.random.permutation(m)\n",
        "    X_b_shuffled = X_b[shuffled_indices]\n",
        "    X2_b_shuffled = X2_b[shuffled_indices]\n",
        "    y_shuffled = y[shuffled_indices]\n",
        "    for i in range(0, m, batch_size):\n",
        "        xi = X_b_shuffled[i:i+batch_size]\n",
        "        x2i = X2_b_shuffled[i:i+batch_size]\n",
        "        yi = y_shuffled[i:i+batch_size]\n",
        "        gradient = 1 / batch_size * (xi+x2i).T.dot((xi+x2i).dot((weight+weight2)) - yi)\n",
        "        weight = weight - lr * gradient\n",
        "        weight2 = weight2 - lr * gradient\n",
        "        weight_path_mgd.append(weight + weight2)\n",
        "\n",
        "        y_predict = (X_new_b + X2_new_b).dot(weight + weight2)\n",
        "        plt.plot(X_new + X2_new, y_predict, \"b-\")\n",
        "\n",
        "plt.xlabel(\"$x_1$\", fontsize=18)                 \n",
        "plt.ylabel(\"$y$\", rotation=0, fontsize=18)   \n",
        "plt.plot(X+X2, y, \"ro\")\n",
        "plt.axis([0, 2, 0, 15])                \n",
        "plt.show()\n"
      ],
      "execution_count": 58,
      "outputs": [
        {
          "output_type": "display_data",
          "data": {
            "image/png": "[encoded data removed]",
            "text/plain": [
              "<Figure size 432x288 with 1 Axes>"
            ]
          },
          "metadata": {
            "tags": []
          }
        }
      ]
    }
  ]
}