{
  "nbformat": 4,
  "nbformat_minor": 0,
  "metadata": {
    "colab": {
      "name": "ResNet50.ipynb",
      "provenance": [],
      "collapsed_sections": [],
      "include_colab_link": true
    },
    "kernelspec": {
      "name": "python3",
      "display_name": "Python 3"
    },
    "accelerator": "GPU"
  },
  "cells": [
    {
      "cell_type": "markdown",
      "metadata": {
        "id": "view-in-github",
        "colab_type": "text"
      },
      "source": [
        "<a href=\"https://colab.research.google.com/github/kaarthikalagappan/ai_course_projects/blob/master/ResNet50.ipynb\" target=\"_parent\"><img src=\"https://colab.research.google.com/assets/colab-badge.svg\" alt=\"Open In Colab\"/></a>"
      ]
    },
    {
      "cell_type": "markdown",
      "metadata": {
        "id": "KSrgMJ5vKFzQ",
        "colab_type": "text"
      },
      "source": [
        "# Fine-tuning VGG16 (Adapted from Dr. Wocjan's notebook)"
      ]
    },
    {
      "cell_type": "markdown",
      "metadata": {
        "id": "TIW7bZaAK-Hf",
        "colab_type": "text"
      },
      "source": [
        "This is based on section 5.3 *Using a pretrained convnet* of the book *Deep learning with Python* by Francois Chollet. I have made several changes to the code. I use the data that is already provided by Google. I don't download the data from Kaggle as in the deep learning book."
      ]
    },
    {
      "cell_type": "markdown",
      "metadata": {
        "id": "nsBq__dVo2pj",
        "colab_type": "text"
      },
      "source": [
        "## Feature extraction"
      ]
    },
    {
      "cell_type": "markdown",
      "metadata": {
        "id": "0g6ETAM9o54M",
        "colab_type": "text"
      },
      "source": [
        "Feature extraction consists of using the representations learned by a previous network to extract interesting features from new samples. These features are then run through a new classifier, which is trained from scratch.\n",
        "\n",
        "We will use here the convolutional base of the VGG16 model to extract the features. We will feed these features to a densely connected classifier with dropout. We will fine-tune some layers."
      ]
    },
    {
      "cell_type": "markdown",
      "metadata": {
        "id": "BqIG8QHMLNOn",
        "colab_type": "text"
      },
      "source": [
        "## Download the data"
      ]
    },
    {
      "cell_type": "markdown",
      "metadata": {
        "id": "t3I1jd7cKV6_",
        "colab_type": "text"
      },
      "source": [
        "Download the example data, a zip. of 2,000 JPG pictures of cats and dogs and extract it locally in ```/tmp```.\n",
        "\n"
      ]
    },
    {
      "cell_type": "code",
      "metadata": {
        "id": "JWjprHEXJ5Qi",
        "colab_type": "code",
        "outputId": "3dd46c9c-de92-41b5-9afe-9c77a65c1ba9",
        "colab": {
          "base_uri": "https://localhost:8080/",
          "height": 219
        }
      },
      "source": [
        "!wget --no-check-certificate \\\n",
        "    https://storage.googleapis.com/mledu-datasets/cats_and_dogs_filtered.zip \\\n",
        "    -O /tmp/cats_and_dogs_filtered.zip"
      ],
      "execution_count": 4,
      "outputs": [
        {
          "output_type": "stream",
          "text": [
            "--2020-04-19 19:36:51--  https://storage.googleapis.com/mledu-datasets/cats_and_dogs_filtered.zip\n",
            "Resolving storage.googleapis.com (storage.googleapis.com)... 173.194.79.128, 2a00:1450:4013:c00::80\n",
            "Connecting to storage.googleapis.com (storage.googleapis.com)|173.194.79.128|:443... connected.\n",
            "HTTP request sent, awaiting response... 200 OK\n",
            "Length: 68606236 (65M) [application/zip]\n",
            "Saving to: ‘/tmp/cats_and_dogs_filtered.zip’\n",
            "\n",
            "/tmp/cats_and_dogs_ 100%[===================>]  65.43M   149MB/s    in 0.4s    \n",
            "\n",
            "2020-04-19 19:36:52 (149 MB/s) - ‘/tmp/cats_and_dogs_filtered.zip’ saved [68606236/68606236]\n",
            "\n"
          ],
          "name": "stdout"
        }
      ]
    },
    {
      "cell_type": "code",
      "metadata": {
        "id": "WvoHtdA-K6Rw",
        "colab_type": "code",
        "colab": {}
      },
      "source": [
        "import os\n",
        "import zipfile\n",
        "\n",
        "local_zip = '/tmp/cats_and_dogs_filtered.zip'\n",
        "zip_ref = zipfile.ZipFile(local_zip, 'r')\n",
        "zip_ref.extractall('/tmp')\n",
        "zip_ref.close()"
      ],
      "execution_count": 0,
      "outputs": []
    },
    {
      "cell_type": "markdown",
      "metadata": {
        "id": "shZiOBnJMyy_",
        "colab_type": "text"
      },
      "source": [
        "Note that the data provided by Google does not have a test set."
      ]
    },
    {
      "cell_type": "code",
      "metadata": {
        "id": "dL8ikM89LlsH",
        "colab_type": "code",
        "colab": {}
      },
      "source": [
        "base_dir = '/tmp/cats_and_dogs_filtered'\n",
        "train_dir = os.path.join(base_dir, 'train')\n",
        "validation_dir = os.path.join(base_dir, 'validation')\n",
        "\n",
        "# Directory with our training cat pictures\n",
        "train_cats_dir = os.path.join(train_dir, 'cats')\n",
        "\n",
        "# Directory with our training dog pictures\n",
        "train_dogs_dir = os.path.join(train_dir, 'dogs')\n",
        "\n",
        "# Directory with our validation cat pictures\n",
        "validation_cats_dir = os.path.join(validation_dir, 'cats')\n",
        "\n",
        "# Directory with our validation dog pictures\n",
        "validation_dogs_dir = os.path.join(validation_dir, 'dogs')"
      ],
      "execution_count": 0,
      "outputs": []
    },
    {
      "cell_type": "markdown",
      "metadata": {
        "id": "inyP8bcdXnn-",
        "colab_type": "text"
      },
      "source": [
        "## Build network with ResNet50 convolution base and custom densely connected layers"
      ]
    },
    {
      "cell_type": "markdown",
      "metadata": {
        "id": "kQ48W5T9rHWu",
        "colab_type": "text"
      },
      "source": [
        "### Load the convolutional base"
      ]
    },
    {
      "cell_type": "code",
      "metadata": {
        "id": "Y0FgtANCXm_H",
        "colab_type": "code",
        "outputId": "696fafaa-1eea-43e4-d894-f5f63e996c86",
        "colab": {
          "base_uri": "https://localhost:8080/",
          "height": 74
        }
      },
      "source": [
        "from keras.applications import ResNet50V2\n",
        "\n",
        "conv_base = ResNet50V2(\n",
        "    weights='imagenet', \n",
        "    include_top=False, \n",
        "    input_shape=(150, 150, 3))"
      ],
      "execution_count": 7,
      "outputs": [
        {
          "output_type": "stream",
          "text": [
            "Downloading data from https://github.com/keras-team/keras-applications/releases/download/resnet/resnet50v2_weights_tf_dim_ordering_tf_kernels_notop.h5\n",
            "94674944/94668760 [==============================] - 3s 0us/step\n"
          ],
          "name": "stdout"
        }
      ]
    },
    {
      "cell_type": "markdown",
      "metadata": {
        "id": "D6OBHOO9q1ou",
        "colab_type": "text"
      },
      "source": [
        "### Freeze the convolutional base"
      ]
    },
    {
      "cell_type": "code",
      "metadata": {
        "id": "UleRo4Dpq6Ld",
        "colab_type": "code",
        "colab": {}
      },
      "source": [
        "conv_base.trainable = False"
      ],
      "execution_count": 0,
      "outputs": []
    },
    {
      "cell_type": "markdown",
      "metadata": {
        "id": "Qfx6PqhPrb7Q",
        "colab_type": "text"
      },
      "source": [
        "### Concatenate the convolutional base and densely connected layers"
      ]
    },
    {
      "cell_type": "code",
      "metadata": {
        "id": "qUpmocDAO3xm",
        "colab_type": "code",
        "colab": {}
      },
      "source": [
        "from keras import layers\n",
        "from keras import models\n",
        "from keras import optimizers\n",
        "\n",
        "model = models.Sequential()\n",
        "model.add(conv_base)\n",
        "model.add(layers.Flatten())\n",
        "model.add(layers.Dense(256, activation='relu'))\n",
        "#model.add(layers.Dropout(0.1))\n",
        "model.add(layers.Dense(1, activation='sigmoid'))"
      ],
      "execution_count": 0,
      "outputs": []
    },
    {
      "cell_type": "code",
      "metadata": {
        "id": "Fh6gZSeAjF7c",
        "colab_type": "code",
        "outputId": "099d8e48-5709-4775-8ed7-dd2f071cd88b",
        "colab": {
          "base_uri": "https://localhost:8080/",
          "height": 311
        }
      },
      "source": [
        "model.summary()"
      ],
      "execution_count": 10,
      "outputs": [
        {
          "output_type": "stream",
          "text": [
            "Model: \"sequential_1\"\n",
            "_________________________________________________________________\n",
            "Layer (type)                 Output Shape              Param #   \n",
            "=================================================================\n",
            "resnet50v2 (Model)           (None, 5, 5, 2048)        23564800  \n",
            "_________________________________________________________________\n",
            "flatten_1 (Flatten)          (None, 51200)             0         \n",
            "_________________________________________________________________\n",
            "dense_1 (Dense)              (None, 256)               13107456  \n",
            "_________________________________________________________________\n",
            "dense_2 (Dense)              (None, 1)                 257       \n",
            "=================================================================\n",
            "Total params: 36,672,513\n",
            "Trainable params: 13,107,713\n",
            "Non-trainable params: 23,564,800\n",
            "_________________________________________________________________\n"
          ],
          "name": "stdout"
        }
      ]
    },
    {
      "cell_type": "markdown",
      "metadata": {
        "id": "eZjBiddhi5Qj",
        "colab_type": "text"
      },
      "source": [
        "## Train the model end to end with frozen convolutional base"
      ]
    },
    {
      "cell_type": "code",
      "metadata": {
        "id": "tfAQlC2Oi41L",
        "colab_type": "code",
        "outputId": "8ba3cd45-e7dd-435b-9144-25399d1893ab",
        "colab": {
          "base_uri": "https://localhost:8080/",
          "height": 1000
        }
      },
      "source": [
        "from keras.preprocessing.image import ImageDataGenerator\n",
        "from keras import optimizers\n",
        "\n",
        "# data augmentation\n",
        "\n",
        "train_datagen = ImageDataGenerator(\n",
        "    rescale=1./255, \n",
        "    rotation_range=40,\n",
        "    width_shift_range=0.2,\n",
        "    height_shift_range=0.2,\n",
        "    shear_range=0.2,\n",
        "    zoom_range=0.2,\n",
        "    horizontal_flip=True,\n",
        "    fill_mode='nearest'\n",
        ")\n",
        "\n",
        "train_generator = train_datagen.flow_from_directory(\n",
        "    train_dir,\n",
        "    target_size=(150, 150),\n",
        "    batch_size=20,\n",
        "    class_mode='binary')\n",
        "\n",
        "validation_datagen = ImageDataGenerator(rescale=1./255)\n",
        "\n",
        "validation_generator = validation_datagen.flow_from_directory(\n",
        "    validation_dir,\n",
        "    target_size=(150, 150),\n",
        "    batch_size=20,\n",
        "    class_mode='binary')\n",
        "\n",
        "# compile model\n",
        "\n",
        "model.compile(\n",
        "    loss='binary_crossentropy', \n",
        "    optimizer=optimizers.RMSprop(lr=2e-5), \n",
        "    metrics=['acc'])\n",
        "\n",
        "# train\n",
        "\n",
        "history = model.fit_generator(\n",
        "    train_generator,\n",
        "    steps_per_epoch=100,\n",
        "    epochs=30,\n",
        "    validation_data=validation_generator,\n",
        "    validation_steps=50\n",
        ")"
      ],
      "execution_count": 11,
      "outputs": [
        {
          "output_type": "stream",
          "text": [
            "Found 2000 images belonging to 2 classes.\n",
            "Found 1000 images belonging to 2 classes.\n",
            "Epoch 1/30\n",
            "100/100 [==============================] - 31s 307ms/step - loss: 0.5198 - acc: 0.7550 - val_loss: 0.0756 - val_acc: 0.9560\n",
            "Epoch 2/30\n",
            "100/100 [==============================] - 20s 205ms/step - loss: 0.3584 - acc: 0.8445 - val_loss: 0.0998 - val_acc: 0.9530\n",
            "Epoch 3/30\n",
            "100/100 [==============================] - 20s 204ms/step - loss: 0.3495 - acc: 0.8585 - val_loss: 0.0285 - val_acc: 0.9650\n",
            "Epoch 4/30\n",
            "100/100 [==============================] - 20s 203ms/step - loss: 0.2932 - acc: 0.8750 - val_loss: 0.0489 - val_acc: 0.9650\n",
            "Epoch 5/30\n",
            "100/100 [==============================] - 20s 203ms/step - loss: 0.3275 - acc: 0.8555 - val_loss: 1.6726e-04 - val_acc: 0.9520\n",
            "Epoch 6/30\n",
            "100/100 [==============================] - 20s 203ms/step - loss: 0.3208 - acc: 0.8625 - val_loss: 0.0037 - val_acc: 0.9630\n",
            "Epoch 7/30\n",
            "100/100 [==============================] - 21s 205ms/step - loss: 0.2891 - acc: 0.8810 - val_loss: 0.0365 - val_acc: 0.9630\n",
            "Epoch 8/30\n",
            "100/100 [==============================] - 20s 203ms/step - loss: 0.2969 - acc: 0.8670 - val_loss: 3.7252e-06 - val_acc: 0.9610\n",
            "Epoch 9/30\n",
            "100/100 [==============================] - 20s 203ms/step - loss: 0.2719 - acc: 0.8845 - val_loss: 7.1531e-04 - val_acc: 0.9660\n",
            "Epoch 10/30\n",
            "100/100 [==============================] - 20s 202ms/step - loss: 0.2856 - acc: 0.8830 - val_loss: 0.0046 - val_acc: 0.9660\n",
            "Epoch 11/30\n",
            "100/100 [==============================] - 20s 203ms/step - loss: 0.2431 - acc: 0.9000 - val_loss: 0.6727 - val_acc: 0.9660\n",
            "Epoch 12/30\n",
            "100/100 [==============================] - 20s 203ms/step - loss: 0.2550 - acc: 0.8935 - val_loss: 3.0043e-05 - val_acc: 0.9660\n",
            "Epoch 13/30\n",
            "100/100 [==============================] - 20s 204ms/step - loss: 0.2659 - acc: 0.8865 - val_loss: 0.0010 - val_acc: 0.9600\n",
            "Epoch 14/30\n",
            "100/100 [==============================] - 20s 204ms/step - loss: 0.2660 - acc: 0.8945 - val_loss: 1.5719e-05 - val_acc: 0.9600\n",
            "Epoch 15/30\n",
            "100/100 [==============================] - 20s 203ms/step - loss: 0.2579 - acc: 0.8910 - val_loss: 5.6973e-04 - val_acc: 0.9660\n",
            "Epoch 16/30\n",
            "100/100 [==============================] - 20s 205ms/step - loss: 0.2331 - acc: 0.9050 - val_loss: 0.0433 - val_acc: 0.9640\n",
            "Epoch 17/30\n",
            "100/100 [==============================] - 20s 204ms/step - loss: 0.2432 - acc: 0.9040 - val_loss: 0.0056 - val_acc: 0.9670\n",
            "Epoch 18/30\n",
            "100/100 [==============================] - 20s 205ms/step - loss: 0.2475 - acc: 0.8970 - val_loss: 0.0092 - val_acc: 0.9670\n",
            "Epoch 19/30\n",
            "100/100 [==============================] - 20s 203ms/step - loss: 0.2490 - acc: 0.8985 - val_loss: 4.3931e-06 - val_acc: 0.9670\n",
            "Epoch 20/30\n",
            "100/100 [==============================] - 20s 204ms/step - loss: 0.2435 - acc: 0.8985 - val_loss: 0.2452 - val_acc: 0.9670\n",
            "Epoch 21/30\n",
            "100/100 [==============================] - 20s 205ms/step - loss: 0.2179 - acc: 0.9120 - val_loss: 0.3674 - val_acc: 0.9640\n",
            "Epoch 22/30\n",
            "100/100 [==============================] - 20s 205ms/step - loss: 0.2451 - acc: 0.9060 - val_loss: 1.4875 - val_acc: 0.9670\n",
            "Epoch 23/30\n",
            "100/100 [==============================] - 21s 206ms/step - loss: 0.2392 - acc: 0.9025 - val_loss: 0.6120 - val_acc: 0.9650\n",
            "Epoch 24/30\n",
            "100/100 [==============================] - 20s 204ms/step - loss: 0.2289 - acc: 0.9150 - val_loss: 0.2399 - val_acc: 0.9640\n",
            "Epoch 25/30\n",
            "100/100 [==============================] - 20s 203ms/step - loss: 0.2378 - acc: 0.9095 - val_loss: 3.5077e-05 - val_acc: 0.9670\n",
            "Epoch 26/30\n",
            "100/100 [==============================] - 20s 204ms/step - loss: 0.2272 - acc: 0.9115 - val_loss: 0.0170 - val_acc: 0.9670\n",
            "Epoch 27/30\n",
            "100/100 [==============================] - 20s 204ms/step - loss: 0.2167 - acc: 0.9100 - val_loss: 2.5661e-04 - val_acc: 0.9650\n",
            "Epoch 28/30\n",
            "100/100 [==============================] - 20s 202ms/step - loss: 0.2203 - acc: 0.9115 - val_loss: 0.0816 - val_acc: 0.9570\n",
            "Epoch 29/30\n",
            "100/100 [==============================] - 20s 203ms/step - loss: 0.2114 - acc: 0.9195 - val_loss: 0.0089 - val_acc: 0.9670\n",
            "Epoch 30/30\n",
            "100/100 [==============================] - 20s 203ms/step - loss: 0.2174 - acc: 0.9120 - val_loss: 0.0208 - val_acc: 0.9680\n"
          ],
          "name": "stdout"
        }
      ]
    },
    {
      "cell_type": "markdown",
      "metadata": {
        "id": "xqRc_vHKc92U",
        "colab_type": "text"
      },
      "source": [
        "## Display curves of loss and accuracy during training"
      ]
    },
    {
      "cell_type": "code",
      "metadata": {
        "id": "ybWwdzz9bwuQ",
        "colab_type": "code",
        "outputId": "0e37b15d-4e42-4bba-f549-2ab858ebd504",
        "colab": {
          "base_uri": "https://localhost:8080/",
          "height": 545
        }
      },
      "source": [
        "%matplotlib inline\n",
        "\n",
        "import matplotlib.pyplot as plt\n",
        "\n",
        "acc = history.history['acc']\n",
        "val_acc = history.history['val_acc']\n",
        "\n",
        "loss = history.history['loss']\n",
        "val_loss = history.history['val_loss']\n",
        "\n",
        "epochs = range(1, len(acc) + 1)\n",
        "\n",
        "# training and validation accuracy\n",
        "\n",
        "plt.plot(epochs, acc, 'bo', label='training acc')\n",
        "plt.plot(epochs, val_acc, 'b', label='validation acc')\n",
        "plt.title('training and validation accuracy')\n",
        "plt.legend()\n",
        "\n",
        "plt.figure()\n",
        "\n",
        "# training and validation loss\n",
        "\n",
        "plt.plot(epochs, loss, 'bo', label='training loss')\n",
        "plt.plot(epochs, val_loss, 'b', label='validation loss')\n",
        "plt.title('training and validation loss')\n",
        "plt.legend()\n",
        "\n",
        "plt.show()"
      ],
      "execution_count": 12,
      "outputs": [
        {
          "output_type": "display_data",
          "data": {
            "image/png": "[encoded data removed]",
            "text/plain": [
              "<Figure size 432x288 with 1 Axes>"
            ]
          },
          "metadata": {
            "tags": [],
            "needs_background": "light"
          }
        },
        {
          "output_type": "display_data",
          "data": {
            "image/png": "[encoded data removed]",
            "text/plain": [
              "<Figure size 432x288 with 1 Axes>"
            ]
          },
          "metadata": {
            "tags": [],
            "needs_background": "light"
          }
        }
      ]
    },
    {
      "cell_type": "markdown",
      "metadata": {
        "id": "lOWsxpey8lN0",
        "colab_type": "text"
      },
      "source": [
        "## Fine-tuning"
      ]
    },
    {
      "cell_type": "code",
      "metadata": {
        "id": "PwkVMx8N8qMw",
        "colab_type": "code",
        "outputId": "c96ca985-cfa1-4f61-9f52-e52bc603da7b",
        "colab": {
          "base_uri": "https://localhost:8080/",
          "height": 54
        }
      },
      "source": [
        "conv_base.trainable = True\n",
        "\n",
        "set_trainable = False\n",
        "for layer in conv_base.layers:\n",
        "#   print(layer.name)\n",
        "  if layer.name == 'conv4_block4_preact_bn':\n",
        "    print(\"yes\")\n",
        "    set_trainable = True\n",
        "  elif layer.name == 'conv4_block5_preact_bn':\n",
        "    print(\"no\")\n",
        "    set_trainable = False\n",
        "  if set_trainable:\n",
        "    layer.trainable = True\n",
        "  else:\n",
        "    layer.trainable = False"
      ],
      "execution_count": 13,
      "outputs": [
        {
          "output_type": "stream",
          "text": [
            "yes\n",
            "no\n"
          ],
          "name": "stdout"
        }
      ]
    },
    {
      "cell_type": "code",
      "metadata": {
        "id": "DyN-J7rs9cvo",
        "colab_type": "code",
        "outputId": "4ad3ccb1-599a-4205-97f5-c12d4c710116",
        "colab": {
          "base_uri": "https://localhost:8080/",
          "height": 1000
        }
      },
      "source": [
        "# compile model\n",
        "\n",
        "model.compile(\n",
        "    loss='binary_crossentropy',\n",
        "    #\n",
        "    # choose a smaller learning rate\n",
        "    #\n",
        "    optimizer=optimizers.RMSprop(lr=1e-5), \n",
        "    metrics=['acc'])\n",
        "\n",
        "# train\n",
        "\n",
        "history = model.fit_generator(\n",
        "    train_generator,\n",
        "    steps_per_epoch=75,\n",
        "    epochs=100,\n",
        "    validation_data=validation_generator,\n",
        "    validation_steps=25)"
      ],
      "execution_count": 14,
      "outputs": [
        {
          "output_type": "stream",
          "text": [
            "Epoch 1/100\n",
            "75/75 [==============================] - 22s 287ms/step - loss: 0.2317 - acc: 0.9113 - val_loss: 0.0036 - val_acc: 0.9480\n",
            "Epoch 2/100\n",
            "75/75 [==============================] - 15s 200ms/step - loss: 0.2548 - acc: 0.8960 - val_loss: 0.4022 - val_acc: 0.9540\n",
            "Epoch 3/100\n",
            "75/75 [==============================] - 16s 211ms/step - loss: 0.1895 - acc: 0.9200 - val_loss: 0.0012 - val_acc: 0.9260\n",
            "Epoch 4/100\n",
            "75/75 [==============================] - 16s 209ms/step - loss: 0.1973 - acc: 0.9240 - val_loss: 0.0759 - val_acc: 0.9300\n",
            "Epoch 5/100\n",
            "75/75 [==============================] - 16s 211ms/step - loss: 0.2190 - acc: 0.9253 - val_loss: 0.0513 - val_acc: 0.9400\n",
            "Epoch 6/100\n",
            "75/75 [==============================] - 16s 210ms/step - loss: 0.1942 - acc: 0.9213 - val_loss: 0.0816 - val_acc: 0.9400\n",
            "Epoch 7/100\n",
            "75/75 [==============================] - 16s 211ms/step - loss: 0.1953 - acc: 0.9227 - val_loss: 0.0615 - val_acc: 0.9360\n",
            "Epoch 8/100\n",
            "75/75 [==============================] - 16s 209ms/step - loss: 0.2150 - acc: 0.9267 - val_loss: 0.0234 - val_acc: 0.9400\n",
            "Epoch 9/100\n",
            "75/75 [==============================] - 16s 212ms/step - loss: 0.1914 - acc: 0.9293 - val_loss: 0.0773 - val_acc: 0.9520\n",
            "Epoch 10/100\n",
            "75/75 [==============================] - 16s 209ms/step - loss: 0.1927 - acc: 0.9267 - val_loss: 0.0555 - val_acc: 0.9360\n",
            "Epoch 11/100\n",
            "75/75 [==============================] - 16s 211ms/step - loss: 0.2055 - acc: 0.9160 - val_loss: 0.0696 - val_acc: 0.9400\n",
            "Epoch 12/100\n",
            "75/75 [==============================] - 16s 210ms/step - loss: 0.1919 - acc: 0.9293 - val_loss: 0.0217 - val_acc: 0.9480\n",
            "Epoch 13/100\n",
            "75/75 [==============================] - 16s 213ms/step - loss: 0.2057 - acc: 0.9293 - val_loss: 0.0425 - val_acc: 0.9460\n",
            "Epoch 14/100\n",
            "75/75 [==============================] - 16s 213ms/step - loss: 0.1908 - acc: 0.9247 - val_loss: 0.1263 - val_acc: 0.9380\n",
            "Epoch 15/100\n",
            "75/75 [==============================] - 16s 213ms/step - loss: 0.1784 - acc: 0.9280 - val_loss: 0.3217 - val_acc: 0.9360\n",
            "Epoch 16/100\n",
            "75/75 [==============================] - 16s 211ms/step - loss: 0.2012 - acc: 0.9320 - val_loss: 0.0200 - val_acc: 0.9460\n",
            "Epoch 17/100\n",
            "75/75 [==============================] - 16s 212ms/step - loss: 0.1472 - acc: 0.9433 - val_loss: 0.0972 - val_acc: 0.9320\n",
            "Epoch 18/100\n",
            "75/75 [==============================] - 16s 213ms/step - loss: 0.1977 - acc: 0.9267 - val_loss: 0.1386 - val_acc: 0.9460\n",
            "Epoch 19/100\n",
            "75/75 [==============================] - 16s 213ms/step - loss: 0.1943 - acc: 0.9313 - val_loss: 0.1150 - val_acc: 0.9440\n",
            "Epoch 20/100\n",
            "75/75 [==============================] - 16s 210ms/step - loss: 0.1687 - acc: 0.9287 - val_loss: 0.0117 - val_acc: 0.9420\n",
            "Epoch 21/100\n",
            "75/75 [==============================] - 16s 212ms/step - loss: 0.2127 - acc: 0.9213 - val_loss: 0.1489 - val_acc: 0.9440\n",
            "Epoch 22/100\n",
            "75/75 [==============================] - 16s 209ms/step - loss: 0.1826 - acc: 0.9373 - val_loss: 0.0586 - val_acc: 0.9460\n",
            "Epoch 23/100\n",
            "75/75 [==============================] - 16s 210ms/step - loss: 0.1558 - acc: 0.9313 - val_loss: 0.1937 - val_acc: 0.9400\n",
            "Epoch 24/100\n",
            "75/75 [==============================] - 16s 211ms/step - loss: 0.1730 - acc: 0.9353 - val_loss: 0.0230 - val_acc: 0.9400\n",
            "Epoch 25/100\n",
            "75/75 [==============================] - 16s 209ms/step - loss: 0.1712 - acc: 0.9480 - val_loss: 0.2697 - val_acc: 0.9440\n",
            "Epoch 26/100\n",
            "75/75 [==============================] - 16s 211ms/step - loss: 0.1869 - acc: 0.9327 - val_loss: 0.0166 - val_acc: 0.9340\n",
            "Epoch 27/100\n",
            "75/75 [==============================] - 16s 212ms/step - loss: 0.1993 - acc: 0.9247 - val_loss: 0.2222 - val_acc: 0.9560\n",
            "Epoch 28/100\n",
            "75/75 [==============================] - 16s 212ms/step - loss: 0.1638 - acc: 0.9347 - val_loss: 0.1960 - val_acc: 0.9360\n",
            "Epoch 29/100\n",
            "75/75 [==============================] - 16s 214ms/step - loss: 0.1443 - acc: 0.9453 - val_loss: 0.0197 - val_acc: 0.9460\n",
            "Epoch 30/100\n",
            "75/75 [==============================] - 16s 212ms/step - loss: 0.2007 - acc: 0.9293 - val_loss: 0.1947 - val_acc: 0.9520\n",
            "Epoch 31/100\n",
            "75/75 [==============================] - 16s 212ms/step - loss: 0.1701 - acc: 0.9347 - val_loss: 0.1221 - val_acc: 0.9460\n",
            "Epoch 32/100\n",
            "75/75 [==============================] - 16s 209ms/step - loss: 0.1814 - acc: 0.9327 - val_loss: 0.0745 - val_acc: 0.9420\n",
            "Epoch 33/100\n",
            "75/75 [==============================] - 16s 211ms/step - loss: 0.1512 - acc: 0.9467 - val_loss: 0.4356 - val_acc: 0.9440\n",
            "Epoch 34/100\n",
            "75/75 [==============================] - 16s 209ms/step - loss: 0.1760 - acc: 0.9353 - val_loss: 0.0123 - val_acc: 0.9460\n",
            "Epoch 35/100\n",
            "75/75 [==============================] - 16s 209ms/step - loss: 0.1492 - acc: 0.9420 - val_loss: 0.0678 - val_acc: 0.9500\n",
            "Epoch 36/100\n",
            "75/75 [==============================] - 15s 203ms/step - loss: 0.1411 - acc: 0.9453 - val_loss: 0.1196 - val_acc: 0.9380\n",
            "Epoch 37/100\n",
            "75/75 [==============================] - 15s 206ms/step - loss: 0.1502 - acc: 0.9420 - val_loss: 0.5168 - val_acc: 0.9220\n",
            "Epoch 38/100\n",
            "75/75 [==============================] - 15s 204ms/step - loss: 0.1561 - acc: 0.9420 - val_loss: 0.1230 - val_acc: 0.9560\n",
            "Epoch 39/100\n",
            "75/75 [==============================] - 16s 208ms/step - loss: 0.1790 - acc: 0.9320 - val_loss: 0.0136 - val_acc: 0.9440\n",
            "Epoch 40/100\n",
            "75/75 [==============================] - 15s 204ms/step - loss: 0.1513 - acc: 0.9400 - val_loss: 0.0612 - val_acc: 0.9460\n",
            "Epoch 41/100\n",
            "75/75 [==============================] - 15s 205ms/step - loss: 0.1825 - acc: 0.9327 - val_loss: 0.0254 - val_acc: 0.9460\n",
            "Epoch 42/100\n",
            "75/75 [==============================] - 15s 205ms/step - loss: 0.1535 - acc: 0.9460 - val_loss: 0.0261 - val_acc: 0.9480\n",
            "Epoch 43/100\n",
            "75/75 [==============================] - 16s 207ms/step - loss: 0.1468 - acc: 0.9480 - val_loss: 0.1422 - val_acc: 0.9420\n",
            "Epoch 44/100\n",
            "75/75 [==============================] - 15s 206ms/step - loss: 0.1739 - acc: 0.9427 - val_loss: 0.2090 - val_acc: 0.9480\n",
            "Epoch 45/100\n",
            "75/75 [==============================] - 16s 208ms/step - loss: 0.1546 - acc: 0.9520 - val_loss: 0.4399 - val_acc: 0.9540\n",
            "Epoch 46/100\n",
            "75/75 [==============================] - 15s 206ms/step - loss: 0.1600 - acc: 0.9427 - val_loss: 0.0496 - val_acc: 0.9420\n",
            "Epoch 47/100\n",
            "75/75 [==============================] - 15s 206ms/step - loss: 0.1610 - acc: 0.9440 - val_loss: 0.0396 - val_acc: 0.9480\n",
            "Epoch 48/100\n",
            "75/75 [==============================] - 15s 204ms/step - loss: 0.1421 - acc: 0.9433 - val_loss: 0.0069 - val_acc: 0.9420\n",
            "Epoch 49/100\n",
            "75/75 [==============================] - 16s 209ms/step - loss: 0.1588 - acc: 0.9433 - val_loss: 0.1278 - val_acc: 0.9460\n",
            "Epoch 50/100\n",
            "75/75 [==============================] - 16s 207ms/step - loss: 0.1148 - acc: 0.9567 - val_loss: 0.0298 - val_acc: 0.9480\n",
            "Epoch 51/100\n",
            "75/75 [==============================] - 16s 207ms/step - loss: 0.1531 - acc: 0.9460 - val_loss: 0.1200 - val_acc: 0.9480\n",
            "Epoch 52/100\n",
            "75/75 [==============================] - 15s 205ms/step - loss: 0.1207 - acc: 0.9513 - val_loss: 0.0140 - val_acc: 0.9340\n",
            "Epoch 53/100\n",
            "75/75 [==============================] - 16s 207ms/step - loss: 0.1551 - acc: 0.9440 - val_loss: 0.3139 - val_acc: 0.9480\n",
            "Epoch 54/100\n",
            "75/75 [==============================] - 15s 206ms/step - loss: 0.1689 - acc: 0.9447 - val_loss: 0.0230 - val_acc: 0.9360\n",
            "Epoch 55/100\n",
            "75/75 [==============================] - 16s 207ms/step - loss: 0.1575 - acc: 0.9480 - val_loss: 0.0510 - val_acc: 0.9480\n",
            "Epoch 56/100\n",
            "75/75 [==============================] - 15s 203ms/step - loss: 0.1677 - acc: 0.9407 - val_loss: 0.1124 - val_acc: 0.9460\n",
            "Epoch 57/100\n",
            "75/75 [==============================] - 15s 204ms/step - loss: 0.1304 - acc: 0.9553 - val_loss: 0.0905 - val_acc: 0.9580\n",
            "Epoch 58/100\n",
            "75/75 [==============================] - 15s 204ms/step - loss: 0.1234 - acc: 0.9553 - val_loss: 0.1033 - val_acc: 0.9260\n",
            "Epoch 59/100\n",
            "75/75 [==============================] - 15s 206ms/step - loss: 0.1363 - acc: 0.9527 - val_loss: 0.0884 - val_acc: 0.9260\n",
            "Epoch 60/100\n",
            "75/75 [==============================] - 15s 204ms/step - loss: 0.1532 - acc: 0.9407 - val_loss: 0.1143 - val_acc: 0.9560\n",
            "Epoch 61/100\n",
            "75/75 [==============================] - 15s 202ms/step - loss: 0.1613 - acc: 0.9420 - val_loss: 3.4446e-04 - val_acc: 0.9440\n",
            "Epoch 62/100\n",
            "75/75 [==============================] - 15s 204ms/step - loss: 0.1536 - acc: 0.9367 - val_loss: 0.0213 - val_acc: 0.9540\n",
            "Epoch 63/100\n",
            "75/75 [==============================] - 15s 203ms/step - loss: 0.1154 - acc: 0.9580 - val_loss: 0.6614 - val_acc: 0.9380\n",
            "Epoch 64/100\n",
            "75/75 [==============================] - 15s 200ms/step - loss: 0.1590 - acc: 0.9427 - val_loss: 0.1585 - val_acc: 0.9540\n",
            "Epoch 65/100\n",
            "75/75 [==============================] - 15s 202ms/step - loss: 0.1431 - acc: 0.9493 - val_loss: 0.2824 - val_acc: 0.9340\n",
            "Epoch 66/100\n",
            "75/75 [==============================] - 15s 203ms/step - loss: 0.1220 - acc: 0.9540 - val_loss: 0.1734 - val_acc: 0.9600\n",
            "Epoch 67/100\n",
            "75/75 [==============================] - 15s 198ms/step - loss: 0.1620 - acc: 0.9420 - val_loss: 0.7420 - val_acc: 0.9420\n",
            "Epoch 68/100\n",
            "75/75 [==============================] - 15s 198ms/step - loss: 0.1492 - acc: 0.9433 - val_loss: 0.1747 - val_acc: 0.9560\n",
            "Epoch 69/100\n",
            "75/75 [==============================] - 15s 201ms/step - loss: 0.1231 - acc: 0.9560 - val_loss: 0.0048 - val_acc: 0.9520\n",
            "Epoch 70/100\n",
            "75/75 [==============================] - 15s 199ms/step - loss: 0.1200 - acc: 0.9547 - val_loss: 0.1844 - val_acc: 0.9400\n",
            "Epoch 71/100\n",
            "75/75 [==============================] - 15s 201ms/step - loss: 0.1408 - acc: 0.9500 - val_loss: 0.3842 - val_acc: 0.9400\n",
            "Epoch 72/100\n",
            "75/75 [==============================] - 15s 198ms/step - loss: 0.1319 - acc: 0.9513 - val_loss: 0.0484 - val_acc: 0.9520\n",
            "Epoch 73/100\n",
            "75/75 [==============================] - 15s 201ms/step - loss: 0.1359 - acc: 0.9513 - val_loss: 0.3613 - val_acc: 0.9580\n",
            "Epoch 74/100\n",
            "75/75 [==============================] - 15s 201ms/step - loss: 0.1124 - acc: 0.9587 - val_loss: 0.4777 - val_acc: 0.9380\n",
            "Epoch 75/100\n",
            "75/75 [==============================] - 15s 201ms/step - loss: 0.1437 - acc: 0.9440 - val_loss: 0.2960 - val_acc: 0.9360\n",
            "Epoch 76/100\n",
            "75/75 [==============================] - 15s 201ms/step - loss: 0.1476 - acc: 0.9520 - val_loss: 0.0045 - val_acc: 0.9620\n",
            "Epoch 77/100\n",
            "75/75 [==============================] - 15s 204ms/step - loss: 0.1129 - acc: 0.9553 - val_loss: 0.0360 - val_acc: 0.9320\n",
            "Epoch 78/100\n",
            "75/75 [==============================] - 15s 206ms/step - loss: 0.1281 - acc: 0.9533 - val_loss: 0.0712 - val_acc: 0.9640\n",
            "Epoch 79/100\n",
            "75/75 [==============================] - 15s 206ms/step - loss: 0.1420 - acc: 0.9513 - val_loss: 0.0612 - val_acc: 0.9540\n",
            "Epoch 80/100\n",
            "75/75 [==============================] - 15s 202ms/step - loss: 0.1290 - acc: 0.9527 - val_loss: 0.0825 - val_acc: 0.9340\n",
            "Epoch 81/100\n",
            "75/75 [==============================] - 15s 203ms/step - loss: 0.1365 - acc: 0.9507 - val_loss: 0.3307 - val_acc: 0.9540\n",
            "Epoch 82/100\n",
            "75/75 [==============================] - 15s 203ms/step - loss: 0.1531 - acc: 0.9520 - val_loss: 0.2089 - val_acc: 0.9400\n",
            "Epoch 83/100\n",
            "75/75 [==============================] - 15s 204ms/step - loss: 0.1123 - acc: 0.9573 - val_loss: 0.4089 - val_acc: 0.9340\n",
            "Epoch 84/100\n",
            "75/75 [==============================] - 15s 198ms/step - loss: 0.1127 - acc: 0.9580 - val_loss: 0.2637 - val_acc: 0.9520\n",
            "Epoch 85/100\n",
            "75/75 [==============================] - 15s 201ms/step - loss: 0.1194 - acc: 0.9540 - val_loss: 0.0632 - val_acc: 0.9400\n",
            "Epoch 86/100\n",
            "75/75 [==============================] - 15s 200ms/step - loss: 0.1382 - acc: 0.9473 - val_loss: 0.0537 - val_acc: 0.9480\n",
            "Epoch 87/100\n",
            "75/75 [==============================] - 15s 203ms/step - loss: 0.1250 - acc: 0.9560 - val_loss: 0.0311 - val_acc: 0.9500\n",
            "Epoch 88/100\n",
            "75/75 [==============================] - 15s 198ms/step - loss: 0.1300 - acc: 0.9480 - val_loss: 0.0331 - val_acc: 0.9580\n",
            "Epoch 89/100\n",
            "75/75 [==============================] - 15s 201ms/step - loss: 0.1203 - acc: 0.9520 - val_loss: 0.0223 - val_acc: 0.9420\n",
            "Epoch 90/100\n",
            "75/75 [==============================] - 15s 200ms/step - loss: 0.1319 - acc: 0.9507 - val_loss: 0.2117 - val_acc: 0.9620\n",
            "Epoch 91/100\n",
            "75/75 [==============================] - 15s 200ms/step - loss: 0.1269 - acc: 0.9633 - val_loss: 0.0304 - val_acc: 0.9600\n",
            "Epoch 92/100\n",
            "75/75 [==============================] - 15s 199ms/step - loss: 0.1220 - acc: 0.9533 - val_loss: 0.9417 - val_acc: 0.9440\n",
            "Epoch 93/100\n",
            "75/75 [==============================] - 15s 201ms/step - loss: 0.1347 - acc: 0.9487 - val_loss: 0.0325 - val_acc: 0.9520\n",
            "Epoch 94/100\n",
            "75/75 [==============================] - 15s 199ms/step - loss: 0.1172 - acc: 0.9580 - val_loss: 0.2209 - val_acc: 0.9560\n",
            "Epoch 95/100\n",
            "75/75 [==============================] - 15s 201ms/step - loss: 0.1157 - acc: 0.9580 - val_loss: 0.4822 - val_acc: 0.9500\n",
            "Epoch 96/100\n",
            "75/75 [==============================] - 15s 198ms/step - loss: 0.1250 - acc: 0.9593 - val_loss: 0.4152 - val_acc: 0.9540\n",
            "Epoch 97/100\n",
            "75/75 [==============================] - 15s 203ms/step - loss: 0.1077 - acc: 0.9607 - val_loss: 0.0422 - val_acc: 0.9440\n",
            "Epoch 98/100\n",
            "75/75 [==============================] - 15s 201ms/step - loss: 0.1303 - acc: 0.9540 - val_loss: 0.0485 - val_acc: 0.9520\n",
            "Epoch 99/100\n",
            "75/75 [==============================] - 15s 202ms/step - loss: 0.1267 - acc: 0.9533 - val_loss: 0.4342 - val_acc: 0.9460\n",
            "Epoch 100/100\n",
            "75/75 [==============================] - 15s 197ms/step - loss: 0.1115 - acc: 0.9620 - val_loss: 0.5130 - val_acc: 0.9500\n"
          ],
          "name": "stdout"
        }
      ]
    },
    {
      "cell_type": "markdown",
      "metadata": {
        "id": "eVBQgh5M-Rtz",
        "colab_type": "text"
      },
      "source": [
        "## Display learning curves during fine-tuning"
      ]
    },
    {
      "cell_type": "code",
      "metadata": {
        "id": "mbkIw7Ie-NP4",
        "colab_type": "code",
        "outputId": "0a7beca7-2e94-4fef-9c6d-b3ecc7b6585a",
        "colab": {
          "base_uri": "https://localhost:8080/",
          "height": 545
        }
      },
      "source": [
        "%matplotlib inline\n",
        "\n",
        "import matplotlib.pyplot as plt\n",
        "\n",
        "acc = history.history['acc']\n",
        "val_acc = history.history['val_acc']\n",
        "\n",
        "loss = history.history['loss']\n",
        "val_loss = history.history['val_loss']\n",
        "\n",
        "epochs = range(1, len(acc) + 1)\n",
        "\n",
        "# training and validation accuracy\n",
        "\n",
        "plt.plot(epochs, acc, 'bo', label='training acc')\n",
        "plt.plot(epochs, val_acc, 'b', label='validation acc')\n",
        "plt.title('training and validation accuracy')\n",
        "plt.legend()\n",
        "\n",
        "plt.figure()\n",
        "\n",
        "# training and validation loss\n",
        "\n",
        "plt.plot(epochs, loss, 'bo', label='training loss')\n",
        "plt.plot(epochs, val_loss, 'b', label='validation loss')\n",
        "plt.title('training and validation loss')\n",
        "plt.legend()\n",
        "\n",
        "plt.show()"
      ],
      "execution_count": 15,
      "outputs": [
        {
          "output_type": "display_data",
          "data": {
            "image/png": "[encoded data removed]",
            "text/plain": [
              "<Figure size 432x288 with 1 Axes>"
            ]
          },
          "metadata": {
            "tags": [],
            "needs_background": "light"
          }
        },
        {
          "output_type": "display_data",
          "data": {
            "image/png": "[encoded data removed]",
            "text/plain": [
              "<Figure size 432x288 with 1 Axes>"
            ]
          },
          "metadata": {
            "tags": [],
            "needs_background": "light"
          }
        }
      ]
    },
    {
      "cell_type": "markdown",
      "metadata": {
        "id": "obQi6N4ZShdi",
        "colab_type": "text"
      },
      "source": [
        "To achieve this level of accuracy rate, I had to experiment with what sets of layers unfrozen produces the best set of accuracy rates while not overfitting too much. The number of layers in this classifier turned out to be the best model I was able to for this training data after a few experimentation.\n",
        "\n"
      ]
    },
    {
      "cell_type": "markdown",
      "metadata": {
        "id": "he3Nw6TOJwjx",
        "colab_type": "text"
      },
      "source": [
        "## Print out validation loss and accuracy"
      ]
    },
    {
      "cell_type": "code",
      "metadata": {
        "id": "SVQtrk7uJdhl",
        "colab_type": "code",
        "colab": {}
      },
      "source": [
        "val_loss, val_acc = model.evaluate_generator(validation_generator, steps=50)"
      ],
      "execution_count": 0,
      "outputs": []
    },
    {
      "cell_type": "code",
      "metadata": {
        "id": "HpdddLi1SUMe",
        "colab_type": "code",
        "outputId": "6a47553b-c25c-451a-d9cc-164619acd7eb",
        "colab": {
          "base_uri": "https://localhost:8080/",
          "height": 54
        }
      },
      "source": [
        "print(\"Validation loss:\", val_loss)\n",
        "print(\"Validation accuracy:\", val_acc)"
      ],
      "execution_count": 17,
      "outputs": [
        {
          "output_type": "stream",
          "text": [
            "Validation loss: 0.23170635104179382\n",
            "Validation accuracy: 0.9480000138282776\n"
          ],
          "name": "stdout"
        }
      ]
    },
    {
      "cell_type": "markdown",
      "metadata": {
        "id": "7Ww756WToby8",
        "colab_type": "text"
      },
      "source": [
        "## Save the model"
      ]
    },
    {
      "cell_type": "code",
      "metadata": {
        "id": "0lTUpUdwobKW",
        "colab_type": "code",
        "colab": {}
      },
      "source": [
        "model_fname = 'cats_and_dogs_small_4.h5' \n",
        "model.save(model_fname)"
      ],
      "execution_count": 0,
      "outputs": []
    },
    {
      "cell_type": "code",
      "metadata": {
        "id": "YhEoI8ZTok-X",
        "colab_type": "code",
        "colab": {}
      },
      "source": [
        "# Commented out since it was breaking (TypeError: NetworkError when attempting to fetch resource.)\n",
        "# from google.colab import files\n",
        "\n",
        "# with open(model_fname, 'r') as f:\n",
        "#   files.download(model_fname)"
      ],
      "execution_count": 0,
      "outputs": []
    },
    {
      "cell_type": "code",
      "metadata": {
        "id": "VNEL4CCcS0Oj",
        "colab_type": "code",
        "colab": {}
      },
      "source": [
        ""
      ],
      "execution_count": 0,
      "outputs": []
    }
  ]
}