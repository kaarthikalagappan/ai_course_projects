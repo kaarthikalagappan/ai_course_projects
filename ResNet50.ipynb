{
  "nbformat": 4,
  "nbformat_minor": 0,
  "metadata": {
    "colab": {
      "name": "ResNet50.ipynb",
      "provenance": [],
      "collapsed_sections": [],
      "include_colab_link": true
    },
    "kernelspec": {
      "name": "python3",
      "display_name": "Python 3"
    },
    "accelerator": "GPU"
  },
  "cells": [
    {
      "cell_type": "markdown",
      "metadata": {
        "id": "view-in-github",
        "colab_type": "text"
      },
      "source": [
        "<a href=\"https://colab.research.google.com/github/kaarthikalagappan/ai_course_projects/blob/master/ResNet50.ipynb\" target=\"_parent\"><img src=\"https://colab.research.google.com/assets/colab-badge.svg\" alt=\"Open In Colab\"/></a>"
      ]
    },
    {
      "cell_type": "markdown",
      "metadata": {
        "id": "KSrgMJ5vKFzQ",
        "colab_type": "text"
      },
      "source": [
        "# Fine-tuning VGG16 (Adapted from Dr. Wocjan's notebook)"
      ]
    },
    {
      "cell_type": "markdown",
      "metadata": {
        "id": "TIW7bZaAK-Hf",
        "colab_type": "text"
      },
      "source": [
        "This is based on section 5.3 *Using a pretrained convnet* of the book *Deep learning with Python* by Francois Chollet. I have made several changes to the code. I use the data that is already provided by Google. I don't download the data from Kaggle as in the deep learning book."
      ]
    },
    {
      "cell_type": "markdown",
      "metadata": {
        "id": "nsBq__dVo2pj",
        "colab_type": "text"
      },
      "source": [
        "## Feature extraction"
      ]
    },
    {
      "cell_type": "markdown",
      "metadata": {
        "id": "0g6ETAM9o54M",
        "colab_type": "text"
      },
      "source": [
        "Feature extraction consists of using the representations learned by a previous network to extract interesting features from new samples. These features are then run through a new classifier, which is trained from scratch.\n",
        "\n",
        "We will use here the convolutional base of the VGG16 model to extract the features. We will feed these features to a densely connected classifier with dropout. We will fine-tune some layers."
      ]
    },
    {
      "cell_type": "markdown",
      "metadata": {
        "id": "BqIG8QHMLNOn",
        "colab_type": "text"
      },
      "source": [
        "## Download the data"
      ]
    },
    {
      "cell_type": "markdown",
      "metadata": {
        "id": "t3I1jd7cKV6_",
        "colab_type": "text"
      },
      "source": [
        "Download the example data, a zip. of 2,000 JPG pictures of cats and dogs and extract it locally in ```/tmp```.\n",
        "\n"
      ]
    },
    {
      "cell_type": "code",
      "metadata": {
        "id": "JWjprHEXJ5Qi",
        "colab_type": "code",
        "outputId": "f191488e-d546-488f-938e-8c9aed88e3e7",
        "colab": {
          "base_uri": "https://localhost:8080/",
          "height": 219
        }
      },
      "source": [
        "!wget --no-check-certificate \\\n",
        "    https://storage.googleapis.com/mledu-datasets/cats_and_dogs_filtered.zip \\\n",
        "    -O /tmp/cats_and_dogs_filtered.zip"
      ],
      "execution_count": 2,
      "outputs": [
        {
          "output_type": "stream",
          "text": [
            "--2020-04-20 01:03:24--  https://storage.googleapis.com/mledu-datasets/cats_and_dogs_filtered.zip\n",
            "Resolving storage.googleapis.com (storage.googleapis.com)... 74.125.143.128, 2a00:1450:4013:c00::80\n",
            "Connecting to storage.googleapis.com (storage.googleapis.com)|74.125.143.128|:443... connected.\n",
            "HTTP request sent, awaiting response... 200 OK\n",
            "Length: 68606236 (65M) [application/zip]\n",
            "Saving to: ‘/tmp/cats_and_dogs_filtered.zip’\n",
            "\n",
            "/tmp/cats_and_dogs_ 100%[===================>]  65.43M   146MB/s    in 0.4s    \n",
            "\n",
            "2020-04-20 01:03:25 (146 MB/s) - ‘/tmp/cats_and_dogs_filtered.zip’ saved [68606236/68606236]\n",
            "\n"
          ],
          "name": "stdout"
        }
      ]
    },
    {
      "cell_type": "code",
      "metadata": {
        "id": "WvoHtdA-K6Rw",
        "colab_type": "code",
        "colab": {}
      },
      "source": [
        "import os\n",
        "import zipfile\n",
        "\n",
        "local_zip = '/tmp/cats_and_dogs_filtered.zip'\n",
        "zip_ref = zipfile.ZipFile(local_zip, 'r')\n",
        "zip_ref.extractall('/tmp')\n",
        "zip_ref.close()"
      ],
      "execution_count": 0,
      "outputs": []
    },
    {
      "cell_type": "markdown",
      "metadata": {
        "id": "shZiOBnJMyy_",
        "colab_type": "text"
      },
      "source": [
        "Note that the data provided by Google does not have a test set."
      ]
    },
    {
      "cell_type": "code",
      "metadata": {
        "id": "dL8ikM89LlsH",
        "colab_type": "code",
        "colab": {}
      },
      "source": [
        "base_dir = '/tmp/cats_and_dogs_filtered'\n",
        "train_dir = os.path.join(base_dir, 'train')\n",
        "validation_dir = os.path.join(base_dir, 'validation')\n",
        "\n",
        "# Directory with our training cat pictures\n",
        "train_cats_dir = os.path.join(train_dir, 'cats')\n",
        "\n",
        "# Directory with our training dog pictures\n",
        "train_dogs_dir = os.path.join(train_dir, 'dogs')\n",
        "\n",
        "# Directory with our validation cat pictures\n",
        "validation_cats_dir = os.path.join(validation_dir, 'cats')\n",
        "\n",
        "# Directory with our validation dog pictures\n",
        "validation_dogs_dir = os.path.join(validation_dir, 'dogs')"
      ],
      "execution_count": 0,
      "outputs": []
    },
    {
      "cell_type": "markdown",
      "metadata": {
        "id": "inyP8bcdXnn-",
        "colab_type": "text"
      },
      "source": [
        "## Build network with ResNet50 convolution base and custom densely connected layers"
      ]
    },
    {
      "cell_type": "markdown",
      "metadata": {
        "id": "kQ48W5T9rHWu",
        "colab_type": "text"
      },
      "source": [
        "### Load the convolutional base"
      ]
    },
    {
      "cell_type": "code",
      "metadata": {
        "id": "Y0FgtANCXm_H",
        "colab_type": "code",
        "outputId": "81ade3e2-8fe6-4e8a-b3d7-f07bc95a2f5e",
        "colab": {
          "base_uri": "https://localhost:8080/",
          "height": 72
        }
      },
      "source": [
        "from keras.applications import ResNet50V2\n",
        "\n",
        "conv_base = ResNet50V2(\n",
        "    weights='imagenet', \n",
        "    include_top=False, \n",
        "    input_shape=(150, 150, 3))"
      ],
      "execution_count": 5,
      "outputs": [
        {
          "output_type": "stream",
          "text": [
            "Using TensorFlow backend.\n"
          ],
          "name": "stderr"
        },
        {
          "output_type": "stream",
          "text": [
            "Downloading data from https://github.com/keras-team/keras-applications/releases/download/resnet/resnet50v2_weights_tf_dim_ordering_tf_kernels_notop.h5\n",
            "94674944/94668760 [==============================] - 3s 0us/step\n"
          ],
          "name": "stdout"
        }
      ]
    },
    {
      "cell_type": "markdown",
      "metadata": {
        "id": "D6OBHOO9q1ou",
        "colab_type": "text"
      },
      "source": [
        "### Freeze the convolutional base"
      ]
    },
    {
      "cell_type": "code",
      "metadata": {
        "id": "UleRo4Dpq6Ld",
        "colab_type": "code",
        "colab": {}
      },
      "source": [
        "conv_base.trainable = False"
      ],
      "execution_count": 0,
      "outputs": []
    },
    {
      "cell_type": "markdown",
      "metadata": {
        "id": "Qfx6PqhPrb7Q",
        "colab_type": "text"
      },
      "source": [
        "### Concatenate the convolutional base and densely connected layers"
      ]
    },
    {
      "cell_type": "code",
      "metadata": {
        "id": "qUpmocDAO3xm",
        "colab_type": "code",
        "colab": {}
      },
      "source": [
        "from keras import layers\n",
        "from keras import models\n",
        "from keras import optimizers\n",
        "\n",
        "model = models.Sequential()\n",
        "model.add(conv_base)\n",
        "model.add(layers.Flatten())\n",
        "model.add(layers.Dense(256, activation='relu'))\n",
        "#model.add(layers.Dropout(0.1))\n",
        "model.add(layers.Dense(1, activation='sigmoid'))"
      ],
      "execution_count": 0,
      "outputs": []
    },
    {
      "cell_type": "code",
      "metadata": {
        "id": "Fh6gZSeAjF7c",
        "colab_type": "code",
        "outputId": "928df8dc-8838-4d62-a24a-f8f49efbe99e",
        "colab": {
          "base_uri": "https://localhost:8080/",
          "height": 311
        }
      },
      "source": [
        "model.summary()"
      ],
      "execution_count": 8,
      "outputs": [
        {
          "output_type": "stream",
          "text": [
            "Model: \"sequential_1\"\n",
            "_________________________________________________________________\n",
            "Layer (type)                 Output Shape              Param #   \n",
            "=================================================================\n",
            "resnet50v2 (Model)           (None, 5, 5, 2048)        23564800  \n",
            "_________________________________________________________________\n",
            "flatten_1 (Flatten)          (None, 51200)             0         \n",
            "_________________________________________________________________\n",
            "dense_1 (Dense)              (None, 256)               13107456  \n",
            "_________________________________________________________________\n",
            "dense_2 (Dense)              (None, 1)                 257       \n",
            "=================================================================\n",
            "Total params: 36,672,513\n",
            "Trainable params: 13,107,713\n",
            "Non-trainable params: 23,564,800\n",
            "_________________________________________________________________\n"
          ],
          "name": "stdout"
        }
      ]
    },
    {
      "cell_type": "markdown",
      "metadata": {
        "id": "eZjBiddhi5Qj",
        "colab_type": "text"
      },
      "source": [
        "## Train the model end to end with frozen convolutional base"
      ]
    },
    {
      "cell_type": "code",
      "metadata": {
        "id": "tfAQlC2Oi41L",
        "colab_type": "code",
        "outputId": "be9ac91a-1966-46fe-fa56-bb440b3f6d4f",
        "colab": {
          "base_uri": "https://localhost:8080/",
          "height": 1000
        }
      },
      "source": [
        "from keras.preprocessing.image import ImageDataGenerator\n",
        "from keras import optimizers\n",
        "\n",
        "# data augmentation\n",
        "\n",
        "train_datagen = ImageDataGenerator(\n",
        "    rescale=1./255, \n",
        "    rotation_range=40,\n",
        "    width_shift_range=0.2,\n",
        "    height_shift_range=0.2,\n",
        "    shear_range=0.2,\n",
        "    zoom_range=0.2,\n",
        "    horizontal_flip=True,\n",
        "    fill_mode='nearest'\n",
        ")\n",
        "\n",
        "train_generator = train_datagen.flow_from_directory(\n",
        "    train_dir,\n",
        "    target_size=(150, 150),\n",
        "    batch_size=20,\n",
        "    class_mode='binary')\n",
        "\n",
        "validation_datagen = ImageDataGenerator(rescale=1./255)\n",
        "\n",
        "validation_generator = validation_datagen.flow_from_directory(\n",
        "    validation_dir,\n",
        "    target_size=(150, 150),\n",
        "    batch_size=20,\n",
        "    class_mode='binary')\n",
        "\n",
        "# compile model\n",
        "\n",
        "model.compile(\n",
        "    loss='binary_crossentropy', \n",
        "    optimizer=optimizers.RMSprop(lr=2e-5), \n",
        "    metrics=['acc'])\n",
        "\n",
        "# train\n",
        "\n",
        "history = model.fit_generator(\n",
        "    train_generator,\n",
        "    steps_per_epoch=100,\n",
        "    epochs=30,\n",
        "    validation_data=validation_generator,\n",
        "    validation_steps=50\n",
        ")"
      ],
      "execution_count": 9,
      "outputs": [
        {
          "output_type": "stream",
          "text": [
            "Found 2000 images belonging to 2 classes.\n",
            "Found 1000 images belonging to 2 classes.\n",
            "Epoch 1/30\n",
            "100/100 [==============================] - 26s 261ms/step - loss: 0.4816 - acc: 0.7715 - val_loss: 6.5736e-04 - val_acc: 0.9510\n",
            "Epoch 2/30\n",
            "100/100 [==============================] - 17s 166ms/step - loss: 0.3769 - acc: 0.8400 - val_loss: 1.1278 - val_acc: 0.9580\n",
            "Epoch 3/30\n",
            "100/100 [==============================] - 17s 166ms/step - loss: 0.3444 - acc: 0.8500 - val_loss: 0.4085 - val_acc: 0.9610\n",
            "Epoch 4/30\n",
            "100/100 [==============================] - 17s 166ms/step - loss: 0.3158 - acc: 0.8605 - val_loss: 0.1558 - val_acc: 0.9590\n",
            "Epoch 5/30\n",
            "100/100 [==============================] - 17s 165ms/step - loss: 0.3200 - acc: 0.8670 - val_loss: 1.9079 - val_acc: 0.9660\n",
            "Epoch 6/30\n",
            "100/100 [==============================] - 17s 165ms/step - loss: 0.3050 - acc: 0.8775 - val_loss: 2.0333 - val_acc: 0.9610\n",
            "Epoch 7/30\n",
            "100/100 [==============================] - 17s 166ms/step - loss: 0.2862 - acc: 0.8805 - val_loss: 0.3166 - val_acc: 0.9660\n",
            "Epoch 8/30\n",
            "100/100 [==============================] - 17s 166ms/step - loss: 0.2954 - acc: 0.8750 - val_loss: 0.3226 - val_acc: 0.9670\n",
            "Epoch 9/30\n",
            "100/100 [==============================] - 16s 165ms/step - loss: 0.2942 - acc: 0.8770 - val_loss: 1.7803e-04 - val_acc: 0.9530\n",
            "Epoch 10/30\n",
            "100/100 [==============================] - 17s 166ms/step - loss: 0.2779 - acc: 0.8820 - val_loss: 0.0679 - val_acc: 0.9560\n",
            "Epoch 11/30\n",
            "100/100 [==============================] - 17s 165ms/step - loss: 0.2707 - acc: 0.8980 - val_loss: 0.0418 - val_acc: 0.9650\n",
            "Epoch 12/30\n",
            "100/100 [==============================] - 17s 165ms/step - loss: 0.2900 - acc: 0.8905 - val_loss: 1.3600 - val_acc: 0.9630\n",
            "Epoch 13/30\n",
            "100/100 [==============================] - 17s 167ms/step - loss: 0.2536 - acc: 0.8940 - val_loss: 0.1550 - val_acc: 0.9620\n",
            "Epoch 14/30\n",
            "100/100 [==============================] - 17s 165ms/step - loss: 0.2696 - acc: 0.8875 - val_loss: 6.3141e-08 - val_acc: 0.9650\n",
            "Epoch 15/30\n",
            "100/100 [==============================] - 16s 165ms/step - loss: 0.2755 - acc: 0.8795 - val_loss: 0.0046 - val_acc: 0.9670\n",
            "Epoch 16/30\n",
            "100/100 [==============================] - 17s 166ms/step - loss: 0.2473 - acc: 0.9055 - val_loss: 0.0384 - val_acc: 0.9710\n",
            "Epoch 17/30\n",
            "100/100 [==============================] - 17s 166ms/step - loss: 0.2492 - acc: 0.8925 - val_loss: 0.5218 - val_acc: 0.9670\n",
            "Epoch 18/30\n",
            "100/100 [==============================] - 16s 165ms/step - loss: 0.2462 - acc: 0.9150 - val_loss: 0.2931 - val_acc: 0.9680\n",
            "Epoch 19/30\n",
            "100/100 [==============================] - 17s 167ms/step - loss: 0.2151 - acc: 0.9110 - val_loss: 0.1282 - val_acc: 0.9670\n",
            "Epoch 20/30\n",
            "100/100 [==============================] - 17s 166ms/step - loss: 0.2408 - acc: 0.9005 - val_loss: 0.0443 - val_acc: 0.9680\n",
            "Epoch 21/30\n",
            "100/100 [==============================] - 16s 165ms/step - loss: 0.2267 - acc: 0.9095 - val_loss: 0.0119 - val_acc: 0.9640\n",
            "Epoch 22/30\n",
            "100/100 [==============================] - 17s 167ms/step - loss: 0.2238 - acc: 0.9165 - val_loss: 0.0054 - val_acc: 0.9710\n",
            "Epoch 23/30\n",
            "100/100 [==============================] - 16s 164ms/step - loss: 0.2181 - acc: 0.9135 - val_loss: 0.1636 - val_acc: 0.9690\n",
            "Epoch 24/30\n",
            "100/100 [==============================] - 16s 165ms/step - loss: 0.2233 - acc: 0.9130 - val_loss: 1.0446e-05 - val_acc: 0.9710\n",
            "Epoch 25/30\n",
            "100/100 [==============================] - 17s 166ms/step - loss: 0.2126 - acc: 0.9085 - val_loss: 0.0062 - val_acc: 0.9680\n",
            "Epoch 26/30\n",
            "100/100 [==============================] - 16s 164ms/step - loss: 0.2478 - acc: 0.9090 - val_loss: 1.5403 - val_acc: 0.9680\n",
            "Epoch 27/30\n",
            "100/100 [==============================] - 16s 165ms/step - loss: 0.2108 - acc: 0.9190 - val_loss: 0.3551 - val_acc: 0.9630\n",
            "Epoch 28/30\n",
            "100/100 [==============================] - 17s 165ms/step - loss: 0.2499 - acc: 0.9035 - val_loss: 0.1041 - val_acc: 0.9710\n",
            "Epoch 29/30\n",
            "100/100 [==============================] - 16s 164ms/step - loss: 0.2168 - acc: 0.9150 - val_loss: 0.1885 - val_acc: 0.9670\n",
            "Epoch 30/30\n",
            "100/100 [==============================] - 16s 164ms/step - loss: 0.2063 - acc: 0.9210 - val_loss: 6.5772e-04 - val_acc: 0.9540\n"
          ],
          "name": "stdout"
        }
      ]
    },
    {
      "cell_type": "markdown",
      "metadata": {
        "id": "xqRc_vHKc92U",
        "colab_type": "text"
      },
      "source": [
        "## Display curves of loss and accuracy during training"
      ]
    },
    {
      "cell_type": "code",
      "metadata": {
        "id": "ybWwdzz9bwuQ",
        "colab_type": "code",
        "outputId": "8d0f0165-3dc9-4c84-ef63-c474f9dd08e5",
        "colab": {
          "base_uri": "https://localhost:8080/",
          "height": 545
        }
      },
      "source": [
        "%matplotlib inline\n",
        "\n",
        "import matplotlib.pyplot as plt\n",
        "\n",
        "acc = history.history['acc']\n",
        "val_acc = history.history['val_acc']\n",
        "\n",
        "loss = history.history['loss']\n",
        "val_loss = history.history['val_loss']\n",
        "\n",
        "epochs = range(1, len(acc) + 1)\n",
        "\n",
        "# training and validation accuracy\n",
        "\n",
        "plt.plot(epochs, acc, 'bo', label='training acc')\n",
        "plt.plot(epochs, val_acc, 'b', label='validation acc')\n",
        "plt.title('training and validation accuracy')\n",
        "plt.legend()\n",
        "\n",
        "plt.figure()\n",
        "\n",
        "# training and validation loss\n",
        "\n",
        "plt.plot(epochs, loss, 'bo', label='training loss')\n",
        "plt.plot(epochs, val_loss, 'b', label='validation loss')\n",
        "plt.title('training and validation loss')\n",
        "plt.legend()\n",
        "\n",
        "plt.show()"
      ],
      "execution_count": 10,
      "outputs": [
        {
          "output_type": "display_data",
          "data": {
            "image/png": "[encoded data removed]",
            "text/plain": [
              "<Figure size 432x288 with 1 Axes>"
            ]
          },
          "metadata": {
            "tags": [],
            "needs_background": "light"
          }
        },
        {
          "output_type": "display_data",
          "data": {
            "image/png": "[encoded data removed]",
            "text/plain": [
              "<Figure size 432x288 with 1 Axes>"
            ]
          },
          "metadata": {
            "tags": [],
            "needs_background": "light"
          }
        }
      ]
    },
    {
      "cell_type": "markdown",
      "metadata": {
        "id": "lOWsxpey8lN0",
        "colab_type": "text"
      },
      "source": [
        "## Fine-tuning"
      ]
    },
    {
      "cell_type": "code",
      "metadata": {
        "id": "PwkVMx8N8qMw",
        "colab_type": "code",
        "outputId": "852315e1-8a43-4639-cb24-ba04fea4da61",
        "colab": {
          "base_uri": "https://localhost:8080/",
          "height": 54
        }
      },
      "source": [
        "conv_base.trainable = True\n",
        "\n",
        "set_trainable = False\n",
        "for layer in conv_base.layers:\n",
        "#   print(layer.name)\n",
        "  if layer.name == 'conv4_block4_preact_bn':\n",
        "    print(\"yes\")\n",
        "    set_trainable = True\n",
        "  elif layer.name == 'conv4_block5_preact_bn':\n",
        "    print(\"no\")\n",
        "    set_trainable = False\n",
        "  if set_trainable:\n",
        "    layer.trainable = True\n",
        "  else:\n",
        "    layer.trainable = False"
      ],
      "execution_count": 11,
      "outputs": [
        {
          "output_type": "stream",
          "text": [
            "yes\n",
            "no\n"
          ],
          "name": "stdout"
        }
      ]
    },
    {
      "cell_type": "code",
      "metadata": {
        "id": "DyN-J7rs9cvo",
        "colab_type": "code",
        "outputId": "3118fdf0-f62b-4e40-eaa9-a755e3f3eced",
        "colab": {
          "base_uri": "https://localhost:8080/",
          "height": 1000
        }
      },
      "source": [
        "# compile model\n",
        "\n",
        "model.compile(\n",
        "    loss='binary_crossentropy',\n",
        "    #\n",
        "    # choose a smaller learning rate\n",
        "    #\n",
        "    optimizer=optimizers.RMSprop(lr=1e-5), \n",
        "    metrics=['acc'])\n",
        "\n",
        "# train\n",
        "\n",
        "history = model.fit_generator(\n",
        "    train_generator,\n",
        "    steps_per_epoch=100,\n",
        "    epochs=100,\n",
        "    validation_data=validation_generator,\n",
        "    validation_steps=50)"
      ],
      "execution_count": 12,
      "outputs": [
        {
          "output_type": "stream",
          "text": [
            "Epoch 1/100\n",
            "100/100 [==============================] - 23s 225ms/step - loss: 0.2304 - acc: 0.9185 - val_loss: 0.0081 - val_acc: 0.9480\n",
            "Epoch 2/100\n",
            "100/100 [==============================] - 17s 175ms/step - loss: 0.2064 - acc: 0.9180 - val_loss: 0.0801 - val_acc: 0.9360\n",
            "Epoch 3/100\n",
            "100/100 [==============================] - 17s 174ms/step - loss: 0.2012 - acc: 0.9195 - val_loss: 0.2126 - val_acc: 0.9350\n",
            "Epoch 4/100\n",
            "100/100 [==============================] - 17s 174ms/step - loss: 0.1875 - acc: 0.9310 - val_loss: 0.1017 - val_acc: 0.9410\n",
            "Epoch 5/100\n",
            "100/100 [==============================] - 17s 174ms/step - loss: 0.1854 - acc: 0.9355 - val_loss: 0.2077 - val_acc: 0.9410\n",
            "Epoch 6/100\n",
            "100/100 [==============================] - 18s 176ms/step - loss: 0.1972 - acc: 0.9255 - val_loss: 0.0356 - val_acc: 0.9480\n",
            "Epoch 7/100\n",
            "100/100 [==============================] - 18s 176ms/step - loss: 0.2208 - acc: 0.9190 - val_loss: 0.2727 - val_acc: 0.9440\n",
            "Epoch 8/100\n",
            "100/100 [==============================] - 18s 176ms/step - loss: 0.1963 - acc: 0.9230 - val_loss: 0.0294 - val_acc: 0.9460\n",
            "Epoch 9/100\n",
            "100/100 [==============================] - 17s 174ms/step - loss: 0.1748 - acc: 0.9330 - val_loss: 0.0848 - val_acc: 0.9470\n",
            "Epoch 10/100\n",
            "100/100 [==============================] - 17s 175ms/step - loss: 0.1759 - acc: 0.9285 - val_loss: 0.0252 - val_acc: 0.9470\n",
            "Epoch 11/100\n",
            "100/100 [==============================] - 17s 175ms/step - loss: 0.1772 - acc: 0.9355 - val_loss: 0.3776 - val_acc: 0.9450\n",
            "Epoch 12/100\n",
            "100/100 [==============================] - 17s 174ms/step - loss: 0.2074 - acc: 0.9220 - val_loss: 0.1635 - val_acc: 0.9440\n",
            "Epoch 13/100\n",
            "100/100 [==============================] - 17s 174ms/step - loss: 0.1933 - acc: 0.9280 - val_loss: 0.0354 - val_acc: 0.9420\n",
            "Epoch 14/100\n",
            "100/100 [==============================] - 17s 174ms/step - loss: 0.1762 - acc: 0.9300 - val_loss: 0.0369 - val_acc: 0.9430\n",
            "Epoch 15/100\n",
            "100/100 [==============================] - 18s 176ms/step - loss: 0.1691 - acc: 0.9350 - val_loss: 0.0556 - val_acc: 0.9440\n",
            "Epoch 16/100\n",
            "100/100 [==============================] - 17s 174ms/step - loss: 0.1699 - acc: 0.9285 - val_loss: 0.1302 - val_acc: 0.9420\n",
            "Epoch 17/100\n",
            "100/100 [==============================] - 17s 175ms/step - loss: 0.1790 - acc: 0.9405 - val_loss: 0.6597 - val_acc: 0.9360\n",
            "Epoch 18/100\n",
            "100/100 [==============================] - 18s 175ms/step - loss: 0.1749 - acc: 0.9270 - val_loss: 0.0550 - val_acc: 0.9410\n",
            "Epoch 19/100\n",
            "100/100 [==============================] - 17s 175ms/step - loss: 0.1581 - acc: 0.9370 - val_loss: 0.1089 - val_acc: 0.9460\n",
            "Epoch 20/100\n",
            "100/100 [==============================] - 18s 175ms/step - loss: 0.1558 - acc: 0.9460 - val_loss: 0.2864 - val_acc: 0.9460\n",
            "Epoch 21/100\n",
            "100/100 [==============================] - 18s 176ms/step - loss: 0.1713 - acc: 0.9285 - val_loss: 0.3356 - val_acc: 0.9410\n",
            "Epoch 22/100\n",
            "100/100 [==============================] - 18s 176ms/step - loss: 0.1629 - acc: 0.9430 - val_loss: 0.1155 - val_acc: 0.9460\n",
            "Epoch 23/100\n",
            "100/100 [==============================] - 18s 175ms/step - loss: 0.1548 - acc: 0.9415 - val_loss: 0.9498 - val_acc: 0.9480\n",
            "Epoch 24/100\n",
            "100/100 [==============================] - 18s 176ms/step - loss: 0.1727 - acc: 0.9340 - val_loss: 0.0820 - val_acc: 0.9490\n",
            "Epoch 25/100\n",
            "100/100 [==============================] - 18s 177ms/step - loss: 0.1680 - acc: 0.9375 - val_loss: 0.0864 - val_acc: 0.9460\n",
            "Epoch 26/100\n",
            "100/100 [==============================] - 18s 176ms/step - loss: 0.1902 - acc: 0.9360 - val_loss: 0.2364 - val_acc: 0.9440\n",
            "Epoch 27/100\n",
            "100/100 [==============================] - 17s 174ms/step - loss: 0.1507 - acc: 0.9395 - val_loss: 0.2675 - val_acc: 0.9470\n",
            "Epoch 28/100\n",
            "100/100 [==============================] - 17s 175ms/step - loss: 0.1593 - acc: 0.9405 - val_loss: 0.0075 - val_acc: 0.9450\n",
            "Epoch 29/100\n",
            "100/100 [==============================] - 18s 175ms/step - loss: 0.1480 - acc: 0.9420 - val_loss: 0.2067 - val_acc: 0.9470\n",
            "Epoch 30/100\n",
            "100/100 [==============================] - 17s 174ms/step - loss: 0.1544 - acc: 0.9425 - val_loss: 0.2205 - val_acc: 0.9480\n",
            "Epoch 31/100\n",
            "100/100 [==============================] - 17s 175ms/step - loss: 0.1542 - acc: 0.9455 - val_loss: 0.1650 - val_acc: 0.9470\n",
            "Epoch 32/100\n",
            "100/100 [==============================] - 17s 175ms/step - loss: 0.1451 - acc: 0.9445 - val_loss: 0.3183 - val_acc: 0.9430\n",
            "Epoch 33/100\n",
            "100/100 [==============================] - 18s 175ms/step - loss: 0.1532 - acc: 0.9365 - val_loss: 0.1962 - val_acc: 0.9490\n",
            "Epoch 34/100\n",
            "100/100 [==============================] - 17s 175ms/step - loss: 0.1606 - acc: 0.9495 - val_loss: 0.1817 - val_acc: 0.9500\n",
            "Epoch 35/100\n",
            "100/100 [==============================] - 18s 176ms/step - loss: 0.1770 - acc: 0.9315 - val_loss: 0.0951 - val_acc: 0.9420\n",
            "Epoch 36/100\n",
            "100/100 [==============================] - 17s 175ms/step - loss: 0.1418 - acc: 0.9500 - val_loss: 0.0207 - val_acc: 0.9500\n",
            "Epoch 37/100\n",
            "100/100 [==============================] - 17s 175ms/step - loss: 0.1797 - acc: 0.9400 - val_loss: 0.0437 - val_acc: 0.9510\n",
            "Epoch 38/100\n",
            "100/100 [==============================] - 17s 175ms/step - loss: 0.1761 - acc: 0.9415 - val_loss: 0.0716 - val_acc: 0.9470\n",
            "Epoch 39/100\n",
            "100/100 [==============================] - 17s 174ms/step - loss: 0.1278 - acc: 0.9500 - val_loss: 0.2216 - val_acc: 0.9520\n",
            "Epoch 40/100\n",
            "100/100 [==============================] - 17s 173ms/step - loss: 0.1547 - acc: 0.9475 - val_loss: 0.3327 - val_acc: 0.9510\n",
            "Epoch 41/100\n",
            "100/100 [==============================] - 18s 175ms/step - loss: 0.1480 - acc: 0.9495 - val_loss: 0.1630 - val_acc: 0.9510\n",
            "Epoch 42/100\n",
            "100/100 [==============================] - 17s 174ms/step - loss: 0.1475 - acc: 0.9395 - val_loss: 0.2294 - val_acc: 0.9500\n",
            "Epoch 43/100\n",
            "100/100 [==============================] - 18s 177ms/step - loss: 0.1564 - acc: 0.9390 - val_loss: 0.1714 - val_acc: 0.9490\n",
            "Epoch 44/100\n",
            "100/100 [==============================] - 17s 175ms/step - loss: 0.1566 - acc: 0.9475 - val_loss: 0.0208 - val_acc: 0.9520\n",
            "Epoch 45/100\n",
            "100/100 [==============================] - 17s 174ms/step - loss: 0.1472 - acc: 0.9440 - val_loss: 0.0719 - val_acc: 0.9530\n",
            "Epoch 46/100\n",
            "100/100 [==============================] - 17s 175ms/step - loss: 0.1590 - acc: 0.9440 - val_loss: 0.1135 - val_acc: 0.9460\n",
            "Epoch 47/100\n",
            "100/100 [==============================] - 18s 176ms/step - loss: 0.1168 - acc: 0.9525 - val_loss: 0.1237 - val_acc: 0.9430\n",
            "Epoch 48/100\n",
            "100/100 [==============================] - 17s 174ms/step - loss: 0.1364 - acc: 0.9505 - val_loss: 0.4849 - val_acc: 0.9510\n",
            "Epoch 49/100\n",
            "100/100 [==============================] - 17s 174ms/step - loss: 0.1398 - acc: 0.9430 - val_loss: 0.0565 - val_acc: 0.9520\n",
            "Epoch 50/100\n",
            "100/100 [==============================] - 17s 173ms/step - loss: 0.1713 - acc: 0.9335 - val_loss: 0.3538 - val_acc: 0.9510\n",
            "Epoch 51/100\n",
            "100/100 [==============================] - 17s 173ms/step - loss: 0.1429 - acc: 0.9480 - val_loss: 0.1194 - val_acc: 0.9540\n",
            "Epoch 52/100\n",
            "100/100 [==============================] - 17s 175ms/step - loss: 0.1344 - acc: 0.9525 - val_loss: 0.0279 - val_acc: 0.9490\n",
            "Epoch 53/100\n",
            "100/100 [==============================] - 17s 175ms/step - loss: 0.1381 - acc: 0.9520 - val_loss: 0.2406 - val_acc: 0.9570\n",
            "Epoch 54/100\n",
            "100/100 [==============================] - 17s 173ms/step - loss: 0.1445 - acc: 0.9470 - val_loss: 0.3850 - val_acc: 0.9560\n",
            "Epoch 55/100\n",
            "100/100 [==============================] - 17s 173ms/step - loss: 0.1439 - acc: 0.9435 - val_loss: 0.0658 - val_acc: 0.9550\n",
            "Epoch 56/100\n",
            "100/100 [==============================] - 17s 174ms/step - loss: 0.1359 - acc: 0.9510 - val_loss: 0.0015 - val_acc: 0.9540\n",
            "Epoch 57/100\n",
            "100/100 [==============================] - 17s 173ms/step - loss: 0.1349 - acc: 0.9515 - val_loss: 0.3313 - val_acc: 0.9530\n",
            "Epoch 58/100\n",
            "100/100 [==============================] - 17s 173ms/step - loss: 0.1354 - acc: 0.9505 - val_loss: 0.0502 - val_acc: 0.9510\n",
            "Epoch 59/100\n",
            "100/100 [==============================] - 17s 172ms/step - loss: 0.1393 - acc: 0.9485 - val_loss: 0.0429 - val_acc: 0.9530\n",
            "Epoch 60/100\n",
            "100/100 [==============================] - 17s 173ms/step - loss: 0.1264 - acc: 0.9585 - val_loss: 0.0014 - val_acc: 0.9560\n",
            "Epoch 61/100\n",
            "100/100 [==============================] - 18s 176ms/step - loss: 0.1256 - acc: 0.9590 - val_loss: 0.1965 - val_acc: 0.9520\n",
            "Epoch 62/100\n",
            "100/100 [==============================] - 17s 174ms/step - loss: 0.1296 - acc: 0.9580 - val_loss: 0.0326 - val_acc: 0.9520\n",
            "Epoch 63/100\n",
            "100/100 [==============================] - 17s 173ms/step - loss: 0.1434 - acc: 0.9465 - val_loss: 0.1810 - val_acc: 0.9530\n",
            "Epoch 64/100\n",
            "100/100 [==============================] - 17s 174ms/step - loss: 0.1175 - acc: 0.9610 - val_loss: 0.1366 - val_acc: 0.9500\n",
            "Epoch 65/100\n",
            "100/100 [==============================] - 17s 174ms/step - loss: 0.1279 - acc: 0.9530 - val_loss: 0.0252 - val_acc: 0.9530\n",
            "Epoch 66/100\n",
            "100/100 [==============================] - 17s 175ms/step - loss: 0.1645 - acc: 0.9480 - val_loss: 0.0334 - val_acc: 0.9530\n",
            "Epoch 67/100\n",
            "100/100 [==============================] - 17s 173ms/step - loss: 0.1370 - acc: 0.9540 - val_loss: 0.0255 - val_acc: 0.9520\n",
            "Epoch 68/100\n",
            "100/100 [==============================] - 17s 173ms/step - loss: 0.0933 - acc: 0.9635 - val_loss: 0.1919 - val_acc: 0.9520\n",
            "Epoch 69/100\n",
            "100/100 [==============================] - 17s 174ms/step - loss: 0.1054 - acc: 0.9615 - val_loss: 0.0061 - val_acc: 0.9530\n",
            "Epoch 70/100\n",
            "100/100 [==============================] - 17s 175ms/step - loss: 0.0959 - acc: 0.9620 - val_loss: 0.0116 - val_acc: 0.9550\n",
            "Epoch 71/100\n",
            "100/100 [==============================] - 18s 175ms/step - loss: 0.1130 - acc: 0.9575 - val_loss: 0.0176 - val_acc: 0.9520\n",
            "Epoch 72/100\n",
            "100/100 [==============================] - 17s 174ms/step - loss: 0.1203 - acc: 0.9605 - val_loss: 0.2597 - val_acc: 0.9500\n",
            "Epoch 73/100\n",
            "100/100 [==============================] - 17s 173ms/step - loss: 0.1401 - acc: 0.9535 - val_loss: 1.1381 - val_acc: 0.9510\n",
            "Epoch 74/100\n",
            "100/100 [==============================] - 17s 173ms/step - loss: 0.1375 - acc: 0.9500 - val_loss: 4.2168e-04 - val_acc: 0.9520\n",
            "Epoch 75/100\n",
            "100/100 [==============================] - 17s 175ms/step - loss: 0.0980 - acc: 0.9575 - val_loss: 0.3617 - val_acc: 0.9510\n",
            "Epoch 76/100\n",
            "100/100 [==============================] - 17s 175ms/step - loss: 0.1159 - acc: 0.9560 - val_loss: 0.0051 - val_acc: 0.9540\n",
            "Epoch 77/100\n",
            "100/100 [==============================] - 17s 173ms/step - loss: 0.0907 - acc: 0.9675 - val_loss: 0.0055 - val_acc: 0.9540\n",
            "Epoch 78/100\n",
            "100/100 [==============================] - 17s 174ms/step - loss: 0.1201 - acc: 0.9585 - val_loss: 0.0211 - val_acc: 0.9550\n",
            "Epoch 79/100\n",
            "100/100 [==============================] - 17s 174ms/step - loss: 0.1372 - acc: 0.9540 - val_loss: 0.0317 - val_acc: 0.9530\n",
            "Epoch 80/100\n",
            "100/100 [==============================] - 17s 175ms/step - loss: 0.1317 - acc: 0.9600 - val_loss: 0.0543 - val_acc: 0.9540\n",
            "Epoch 81/100\n",
            "100/100 [==============================] - 17s 174ms/step - loss: 0.1414 - acc: 0.9540 - val_loss: 0.0242 - val_acc: 0.9530\n",
            "Epoch 82/100\n",
            "100/100 [==============================] - 17s 173ms/step - loss: 0.1165 - acc: 0.9575 - val_loss: 0.0524 - val_acc: 0.9540\n",
            "Epoch 83/100\n",
            "100/100 [==============================] - 17s 174ms/step - loss: 0.1157 - acc: 0.9615 - val_loss: 0.5457 - val_acc: 0.9480\n",
            "Epoch 84/100\n",
            "100/100 [==============================] - 17s 173ms/step - loss: 0.1080 - acc: 0.9630 - val_loss: 0.0110 - val_acc: 0.9490\n",
            "Epoch 85/100\n",
            "100/100 [==============================] - 17s 173ms/step - loss: 0.1187 - acc: 0.9535 - val_loss: 0.0533 - val_acc: 0.9550\n",
            "Epoch 86/100\n",
            "100/100 [==============================] - 17s 174ms/step - loss: 0.1223 - acc: 0.9560 - val_loss: 0.0151 - val_acc: 0.9510\n",
            "Epoch 87/100\n",
            "100/100 [==============================] - 17s 173ms/step - loss: 0.1257 - acc: 0.9535 - val_loss: 0.2695 - val_acc: 0.9520\n",
            "Epoch 88/100\n",
            "100/100 [==============================] - 17s 174ms/step - loss: 0.1178 - acc: 0.9620 - val_loss: 0.0265 - val_acc: 0.9540\n",
            "Epoch 89/100\n",
            "100/100 [==============================] - 17s 174ms/step - loss: 0.1136 - acc: 0.9590 - val_loss: 0.0035 - val_acc: 0.9540\n",
            "Epoch 90/100\n",
            "100/100 [==============================] - 17s 173ms/step - loss: 0.1148 - acc: 0.9575 - val_loss: 0.1807 - val_acc: 0.9550\n",
            "Epoch 91/100\n",
            "100/100 [==============================] - 17s 174ms/step - loss: 0.1043 - acc: 0.9660 - val_loss: 0.6053 - val_acc: 0.9510\n",
            "Epoch 92/100\n",
            "100/100 [==============================] - 17s 172ms/step - loss: 0.1249 - acc: 0.9590 - val_loss: 0.0471 - val_acc: 0.9550\n",
            "Epoch 93/100\n",
            "100/100 [==============================] - 17s 174ms/step - loss: 0.1401 - acc: 0.9600 - val_loss: 0.4823 - val_acc: 0.9590\n",
            "Epoch 94/100\n",
            "100/100 [==============================] - 17s 175ms/step - loss: 0.1048 - acc: 0.9635 - val_loss: 0.4279 - val_acc: 0.9570\n",
            "Epoch 95/100\n",
            "100/100 [==============================] - 17s 173ms/step - loss: 0.1131 - acc: 0.9600 - val_loss: 0.0343 - val_acc: 0.9540\n",
            "Epoch 96/100\n",
            "100/100 [==============================] - 18s 175ms/step - loss: 0.0981 - acc: 0.9640 - val_loss: 0.0241 - val_acc: 0.9560\n",
            "Epoch 97/100\n",
            "100/100 [==============================] - 17s 174ms/step - loss: 0.1151 - acc: 0.9570 - val_loss: 0.0329 - val_acc: 0.9560\n",
            "Epoch 98/100\n",
            "100/100 [==============================] - 18s 176ms/step - loss: 0.1074 - acc: 0.9615 - val_loss: 0.0140 - val_acc: 0.9540\n",
            "Epoch 99/100\n",
            "100/100 [==============================] - 17s 174ms/step - loss: 0.1043 - acc: 0.9600 - val_loss: 0.0526 - val_acc: 0.9570\n",
            "Epoch 100/100\n",
            "100/100 [==============================] - 17s 175ms/step - loss: 0.0803 - acc: 0.9690 - val_loss: 0.0904 - val_acc: 0.9580\n"
          ],
          "name": "stdout"
        }
      ]
    },
    {
      "cell_type": "markdown",
      "metadata": {
        "id": "eVBQgh5M-Rtz",
        "colab_type": "text"
      },
      "source": [
        "## Display learning curves during fine-tuning"
      ]
    },
    {
      "cell_type": "code",
      "metadata": {
        "id": "mbkIw7Ie-NP4",
        "colab_type": "code",
        "outputId": "fd1768df-43aa-454b-cb61-64c98153445f",
        "colab": {
          "base_uri": "https://localhost:8080/",
          "height": 545
        }
      },
      "source": [
        "%matplotlib inline\n",
        "\n",
        "import matplotlib.pyplot as plt\n",
        "\n",
        "acc = history.history['acc']\n",
        "val_acc = history.history['val_acc']\n",
        "\n",
        "loss = history.history['loss']\n",
        "val_loss = history.history['val_loss']\n",
        "\n",
        "epochs = range(1, len(acc) + 1)\n",
        "\n",
        "# training and validation accuracy\n",
        "\n",
        "plt.plot(epochs, acc, 'bo', label='training acc')\n",
        "plt.plot(epochs, val_acc, 'b', label='validation acc')\n",
        "plt.title('training and validation accuracy')\n",
        "plt.legend()\n",
        "\n",
        "plt.figure()\n",
        "\n",
        "# training and validation loss\n",
        "\n",
        "plt.plot(epochs, loss, 'bo', label='training loss')\n",
        "plt.plot(epochs, val_loss, 'b', label='validation loss')\n",
        "plt.title('training and validation loss')\n",
        "plt.legend()\n",
        "\n",
        "plt.show()"
      ],
      "execution_count": 13,
      "outputs": [
        {
          "output_type": "display_data",
          "data": {
            "image/png": "[encoded data removed]",
            "text/plain": [
              "<Figure size 432x288 with 1 Axes>"
            ]
          },
          "metadata": {
            "tags": [],
            "needs_background": "light"
          }
        },
        {
          "output_type": "display_data",
          "data": {
            "image/png": "[encoded data removed]",
            "text/plain": [
              "<Figure size 432x288 with 1 Axes>"
            ]
          },
          "metadata": {
            "tags": [],
            "needs_background": "light"
          }
        }
      ]
    },
    {
      "cell_type": "markdown",
      "metadata": {
        "id": "obQi6N4ZShdi",
        "colab_type": "text"
      },
      "source": [
        "To achieve this level of accuracy rate, I had to experiment with what sets of layers unfrozen produces the best set of accuracy rates while not overfitting too much. The number of layers in this classifier turned out to be the best model I was able to for this training data after a few experimentation.\n",
        "\n"
      ]
    },
    {
      "cell_type": "markdown",
      "metadata": {
        "id": "he3Nw6TOJwjx",
        "colab_type": "text"
      },
      "source": [
        "## Print out validation loss and accuracy"
      ]
    },
    {
      "cell_type": "code",
      "metadata": {
        "id": "SVQtrk7uJdhl",
        "colab_type": "code",
        "colab": {}
      },
      "source": [
        "val_loss, val_acc = model.evaluate_generator(validation_generator, steps=50)"
      ],
      "execution_count": 0,
      "outputs": []
    },
    {
      "cell_type": "code",
      "metadata": {
        "id": "HpdddLi1SUMe",
        "colab_type": "code",
        "outputId": "210818cc-a1f5-4ecc-aa6b-2a31344a8871",
        "colab": {
          "base_uri": "https://localhost:8080/",
          "height": 54
        }
      },
      "source": [
        "print(\"Validation loss:\", val_loss)\n",
        "print(\"Validation accuracy:\", val_acc)"
      ],
      "execution_count": 15,
      "outputs": [
        {
          "output_type": "stream",
          "text": [
            "Validation loss: 0.09042474627494812\n",
            "Validation accuracy: 0.9580000042915344\n"
          ],
          "name": "stdout"
        }
      ]
    },
    {
      "cell_type": "markdown",
      "metadata": {
        "id": "7Ww756WToby8",
        "colab_type": "text"
      },
      "source": [
        "## Save the model"
      ]
    },
    {
      "cell_type": "code",
      "metadata": {
        "id": "0lTUpUdwobKW",
        "colab_type": "code",
        "colab": {}
      },
      "source": [
        "model_fname = 'cats_and_dogs_small_4.h5' \n",
        "model.save(model_fname)"
      ],
      "execution_count": 0,
      "outputs": []
    },
    {
      "cell_type": "code",
      "metadata": {
        "id": "YhEoI8ZTok-X",
        "colab_type": "code",
        "colab": {}
      },
      "source": [
        "# Commented out since it was breaking (TypeError: NetworkError when attempting to fetch resource.)\n",
        "# from google.colab import files\n",
        "\n",
        "# with open(model_fname, 'r') as f:\n",
        "#   files.download(model_fname)"
      ],
      "execution_count": 0,
      "outputs": []
    },
    {
      "cell_type": "code",
      "metadata": {
        "id": "VNEL4CCcS0Oj",
        "colab_type": "code",
        "colab": {}
      },
      "source": [
        ""
      ],
      "execution_count": 0,
      "outputs": []
    }
  ]
}