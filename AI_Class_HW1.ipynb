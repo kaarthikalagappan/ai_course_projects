{
  "nbformat": 4,
  "nbformat_minor": 0,
  "metadata": {
    "colab": {
      "name": "AI Class_HW1.ipynb",
      "provenance": [],
      "authorship_tag": "ABX9TyNuusngQSDBS82yhL6R1LE2",
      "include_colab_link": true
    },
    "kernelspec": {
      "name": "python3",
      "display_name": "Python 3"
    }
  },
  "cells": [
    {
      "cell_type": "markdown",
      "metadata": {
        "id": "view-in-github",
        "colab_type": "text"
      },
      "source": [
        "<a href=\"https://colab.research.google.com/github/kaarthikalagappan/ai_course_projects/blob/master/AI_Class_HW1.ipynb\" target=\"_parent\"><img src=\"https://colab.research.google.com/assets/colab-badge.svg\" alt=\"Open In Colab\"/></a>"
      ]
    },
    {
      "cell_type": "markdown",
      "metadata": {
        "id": "lI0wmL4triVa",
        "colab_type": "text"
      },
      "source": [
        "#Multiplying Matrices"
      ]
    },
    {
      "cell_type": "markdown",
      "metadata": {
        "id": "thfOqTauIX5L",
        "colab_type": "text"
      },
      "source": [
        "This function takes in an array of matrices, multiplies them with each other, and prints the final result.\n",
        "For example:\n",
        "If provided these three matrices: \n",
        "\n",
        "(i) \\begin{bmatrix}\n",
        "1 & 0 \\\\\n",
        "0 & 1\n",
        "\\end{bmatrix} \n",
        "\n",
        "(ii) \\begin{bmatrix}\n",
        "1 & 0 \\\\\n",
        "0 & 1\n",
        "\\end{bmatrix}\n",
        "\n",
        "(iii)\n",
        "\\begin{bmatrix}\n",
        "2 & 0 & 3\\\\\n",
        "0 & 3  & 1\\\\\n",
        "\\end{bmatrix}\n",
        " The function multiplies (i) and (ii) and multiplies that result with (iii):\n",
        "$$= \\left( \\begin{bmatrix}\n",
        "    1  &  0      \\\\\n",
        "    0  &  1\n",
        "\\end{bmatrix}\n",
        "\\times\n",
        "\\begin{bmatrix}\n",
        "    1 & 0 \\\\\n",
        "    0 & 1\n",
        "\\end{bmatrix} \\right)\n",
        "\\times\n",
        "\\begin{bmatrix}\n",
        "    2 & 0 & 3\\\\\n",
        "    0 & 3  & 1\\\\\n",
        "\\end{bmatrix}$$"
      ]
    },
    {
      "cell_type": "code",
      "metadata": {
        "id": "N2c3acU4SJfp",
        "colab_type": "code",
        "colab": {}
      },
      "source": [
        "import numpy as np\n",
        "class CustomException(Exception):\n",
        "  pass\n",
        "class Incompatible(Exception):\n",
        "  def __init__(self, msg): \n",
        "    # self.prev = prev \n",
        "    # self.next = nex \n",
        "    # Error message thrown is saved in msg \n",
        "    self.msg = msg \n",
        "\n",
        "def multiply_matrices(matrix_list):\n",
        "    a = matrix_list[0]\n",
        "    try:\n",
        "        for i in range(len(matrix_list)-1):\n",
        "          print(\"a: \" + str(a.shape))\n",
        "          print(matrix_list[i+1].shape)\n",
        "          if len(matrix_list[i+1].shape) != len(a.shape):\n",
        "            raise Incompatible(\"Incompatible matrix sizes, possibly empty matrix provided\")\n",
        "          if a.shape[1] != matrix_list[i+1].shape[0]:\n",
        "            raise Incompatible(\"Encountered a pair of incompatible matrices, so unable to compute the product\")\n",
        "          a = np.matmul(a, matrix_list[i+1])\n",
        "        print(a)\n",
        "    except Incompatible as error:\n",
        "        print(\"Error occured: \" + str(error.msg))\n",
        "    except Exception as e:\n",
        "        print(\"An unknown error occured while calculating the matrix: \" + str(e));\n"
      ],
      "execution_count": 0,
      "outputs": []
    },
    {
      "cell_type": "markdown",
      "metadata": {
        "id": "5gnui8b3bW7r",
        "colab_type": "text"
      },
      "source": [
        "The following code will output:\n",
        "\\begin{bmatrix}\n",
        "2 & 0 & 3\\\\\n",
        "0 & 3  & 1\\\\\n",
        "\\end{bmatrix} as identity matrix multiplied with a matrix is the matrix\n"
      ]
    },
    {
      "cell_type": "code",
      "metadata": {
        "id": "7Fhehitabg3x",
        "colab_type": "code",
        "colab": {
          "base_uri": "https://localhost:8080/",
          "height": 127
        },
        "outputId": "39745686-3eb8-497f-8fca-b2a0651b887b"
      },
      "source": [
        "multiply_matrices((np.array([[1, 0], [0, 1]]), np.array([[1, 0], [0, 1]]), np.array([[2, 0, 3], [0, 3, 1]])))"
      ],
      "execution_count": 141,
      "outputs": [
        {
          "output_type": "stream",
          "text": [
            "a: (2, 2)\n",
            "(2, 2)\n",
            "a: (2, 2)\n",
            "(2, 3)\n",
            "[[2 0 3]\n",
            " [0 3 1]]\n"
          ],
          "name": "stdout"
        }
      ]
    },
    {
      "cell_type": "markdown",
      "metadata": {
        "id": "v_4POHmBrP-6",
        "colab_type": "text"
      },
      "source": [
        "##Where it Encounters a Problem"
      ]
    },
    {
      "cell_type": "markdown",
      "metadata": {
        "id": "4T3vQEY0jioF",
        "colab_type": "text"
      },
      "source": [
        "To multiply matrices, the number of columns in the first matrix should be same the number of rows in the second matrix.\n",
        "The matrices:\n",
        "$$\\begin{bmatrix}\n",
        "    1  &  0      \\\\\n",
        "    0  &  1\n",
        "\\end{bmatrix}$$\n",
        "has the shape/size 2 x 2 (two rows and two columns) and this matrix:\n",
        "$$\\begin{bmatrix}\n",
        "    1  &  0      \\\\\n",
        "    0  &  1      \\\\\n",
        "    2  &  5\n",
        "\\end{bmatrix}$$ has the size 3 x 2 (three rows and two columns). Since the column size of the first matrix is not the same the row size of the second matrix, these matrices cannot be multiplied together."
      ]
    },
    {
      "cell_type": "code",
      "metadata": {
        "id": "VFL5AMJro8k6",
        "colab_type": "code",
        "colab": {
          "base_uri": "https://localhost:8080/",
          "height": 72
        },
        "outputId": "07992949-5ebd-48cd-bdb9-34265f232935"
      },
      "source": [
        "multiply_matrices((np.array([[1, 0], [0, 1]]), np.array([[1, 0], [0, 1], [2, 5]])))"
      ],
      "execution_count": 146,
      "outputs": [
        {
          "output_type": "stream",
          "text": [
            "a: (2, 2)\n",
            "(3, 2)\n",
            "Error occured: Encountered a pair of incompatible matrices, so unable to compute the product\n"
          ],
          "name": "stdout"
        }
      ]
    },
    {
      "cell_type": "markdown",
      "metadata": {
        "id": "ofbJbtWu2O1z",
        "colab_type": "text"
      },
      "source": [
        "This fails as the last matrix is empty"
      ]
    },
    {
      "cell_type": "code",
      "metadata": {
        "id": "YQzZRlgs2Pdg",
        "colab_type": "code",
        "outputId": "fa0464ad-9c4a-4237-c3f3-bfdec222b81d",
        "colab": {
          "base_uri": "https://localhost:8080/",
          "height": 72
        }
      },
      "source": [
        "multiply_matrices((np.array([1, 2, 3]), np.array([[1, 2], [2, 3], [3, 4]]), np.array([])))"
      ],
      "execution_count": 145,
      "outputs": [
        {
          "output_type": "stream",
          "text": [
            "a: (3,)\n",
            "(3, 2)\n",
            "Error occured: Incompatible matrix sizes, possibly empty matrix provided\n"
          ],
          "name": "stdout"
        }
      ]
    }
  ]
}