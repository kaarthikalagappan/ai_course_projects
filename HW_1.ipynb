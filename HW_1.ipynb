{
  "nbformat": 4,
  "nbformat_minor": 0,
  "metadata": {
    "colab": {
      "name": "AI Class_HW1.ipynb",
      "provenance": [],
      "authorship_tag": "ABX9TyN19EGB9lZiNfn7CA45S8zn",
      "include_colab_link": true
    },
    "kernelspec": {
      "name": "python3",
      "display_name": "Python 3"
    }
  },
  "cells": [
    {
      "cell_type": "markdown",
      "metadata": {
        "id": "view-in-github",
        "colab_type": "text"
      },
      "source": [
        "<a href=\"https://colab.research.google.com/github/kaarthikalagappan/ai_course_projects/blob/master/AI_Class_HW1.ipynb\" target=\"_parent\"><img src=\"https://colab.research.google.com/assets/colab-badge.svg\" alt=\"Open In Colab\"/></a>"
      ]
    },
    {
      "cell_type": "markdown",
      "metadata": {
        "id": "lI0wmL4triVa",
        "colab_type": "text"
      },
      "source": [
        "#Multiplying Matrices"
      ]
    },
    {
      "cell_type": "markdown",
      "metadata": {
        "id": "thfOqTauIX5L",
        "colab_type": "text"
      },
      "source": [
        "This function takes in an array of matrices, multiplies them with each other, and prints the final result.\n",
        "For example:\n",
        "If provided these three matrices: \n",
        "\n",
        "(i) \\begin{bmatrix}\n",
        "1 & 0 \\\\\n",
        "0 & 1\n",
        "\\end{bmatrix} \n",
        "\n",
        "(ii) \\begin{bmatrix}\n",
        "1 & 0 \\\\\n",
        "0 & 1\n",
        "\\end{bmatrix}\n",
        "\n",
        "(iii)\n",
        "\\begin{bmatrix}\n",
        "2 & 0 & 3\\\\\n",
        "0 & 3  & 1\\\\\n",
        "\\end{bmatrix}\n",
        " The function multiplies (i) and (ii) and multiplies that result with (iii):\n",
        "$$= \\left( \\begin{bmatrix}\n",
        "    1  &  0      \\\\\n",
        "    0  &  1\n",
        "\\end{bmatrix}\n",
        "\\times\n",
        "\\begin{bmatrix}\n",
        "    1 & 0 \\\\\n",
        "    0 & 1\n",
        "\\end{bmatrix} \\right)\n",
        "\\times\n",
        "\\begin{bmatrix}\n",
        "    2 & 0 & 3\\\\\n",
        "    0 & 3  & 1\\\\\n",
        "\\end{bmatrix}$$"
      ]
    },
    {
      "cell_type": "code",
      "metadata": {
        "id": "N2c3acU4SJfp",
        "colab_type": "code",
        "colab": {}
      },
      "source": [
        "import numpy as np\n",
        "\n",
        "\n",
        "class CustomException(Exception):\n",
        "    pass\n",
        "\n",
        "\n",
        "class Incompatible(Exception):\n",
        "    def __init__(self, msg):\n",
        "        # Error message is stored in msg\n",
        "        self.msg = msg\n",
        "\n",
        "\n",
        "def multiply_matrices(matrix_list):\n",
        "    a = matrix_list[0]\n",
        "    try:\n",
        "        for i in range(len(matrix_list)-1):\n",
        "            if len(matrix_list[i+1].shape) != len(a.shape):\n",
        "                raise Incompatible(\"\"\"Incompatible matrix sizes,\n",
        "                 possibly empty matrix provided\"\"\")\n",
        "            if a.shape[1] != matrix_list[i+1].shape[0]:\n",
        "                raise Incompatible(\"\"\"Encountered a pair of incompatible\n",
        "                matrices, so unable to compute the product\"\"\")\n",
        "            a = np.matmul(a, matrix_list[i+1])\n",
        "        print(a)\n",
        "    except Incompatible as error:\n",
        "        print(\"Error occured: \" + str(error.msg))\n",
        "    except Exception as e:\n",
        "        print(\"\"\"An unknown error occured while calculating\n",
        "        the matrix: \"\"\" + str(e))\n"
      ],
      "execution_count": 0,
      "outputs": []
    },
    {
      "cell_type": "markdown",
      "metadata": {
        "id": "5gnui8b3bW7r",
        "colab_type": "text"
      },
      "source": [
        "The following code will output:\n",
        "\\begin{bmatrix}\n",
        "2 & 0 & 3\\\\\n",
        "0 & 3  & 1\\\\\n",
        "\\end{bmatrix} as identity matrix multiplied with a matrix is the matrix\n"
      ]
    },
    {
      "cell_type": "code",
      "metadata": {
        "id": "7Fhehitabg3x",
        "colab_type": "code",
        "colab": {
          "base_uri": "https://localhost:8080/",
          "height": 54
        },
        "outputId": "6ff5821b-ef34-469a-a0f7-adbe87910c84"
      },
      "source": [
        "multiply_matrices((np.array([[1, 0], [0, 1]]), np.array([[1, 0], [0, 1]]), np.array([[2, 0, 3], [0, 3, 1]])))\n"
      ],
      "execution_count": 157,
      "outputs": [
        {
          "output_type": "stream",
          "text": [
            "[[2 0 3]\n",
            " [0 3 1]]\n"
          ],
          "name": "stdout"
        }
      ]
    },
    {
      "cell_type": "markdown",
      "metadata": {
        "id": "v_4POHmBrP-6",
        "colab_type": "text"
      },
      "source": [
        "##Where it Encounters a Problem"
      ]
    },
    {
      "cell_type": "markdown",
      "metadata": {
        "id": "4T3vQEY0jioF",
        "colab_type": "text"
      },
      "source": [
        "To multiply matrices, the number of columns in the first matrix should be same the number of rows in the second matrix.\n",
        "The matrices:\n",
        "$$\\begin{bmatrix}\n",
        "    1  &  0      \\\\\n",
        "    0  &  1\n",
        "\\end{bmatrix}$$\n",
        "has the shape/size 2 x 2 (two rows and two columns) and this matrix:\n",
        "$$\\begin{bmatrix}\n",
        "    1  &  0      \\\\\n",
        "    0  &  1      \\\\\n",
        "    2  &  5\n",
        "\\end{bmatrix}$$ has the size 3 x 2 (three rows and two columns). Since the column size of the first matrix is not the same the row size of the second matrix, these matrices cannot be multiplied together."
      ]
    },
    {
      "cell_type": "code",
      "metadata": {
        "id": "VFL5AMJro8k6",
        "colab_type": "code",
        "colab": {
          "base_uri": "https://localhost:8080/",
          "height": 54
        },
        "outputId": "a0adf4fc-f890-4c91-b2d6-41b43307d999"
      },
      "source": [
        "multiply_matrices((np.array([[1, 0], [0, 1]]), np.array([[1, 0], [0, 1], [2, 5]])))\n"
      ],
      "execution_count": 158,
      "outputs": [
        {
          "output_type": "stream",
          "text": [
            "Error occured: Encountered a pair of incompatible\n",
            "                matrices, so unable to compute the product\n"
          ],
          "name": "stdout"
        }
      ]
    },
    {
      "cell_type": "markdown",
      "metadata": {
        "id": "ofbJbtWu2O1z",
        "colab_type": "text"
      },
      "source": [
        "This fails as the last matrix is empty"
      ]
    },
    {
      "cell_type": "code",
      "metadata": {
        "id": "YQzZRlgs2Pdg",
        "colab_type": "code",
        "outputId": "6e5aa5c1-c22b-46e7-f8cf-0d6e2c01e015",
        "colab": {
          "base_uri": "https://localhost:8080/",
          "height": 54
        }
      },
      "source": [
        "multiply_matrices((np.array([1, 2, 3]), np.array([[1, 2], [2, 3], [3, 4]]), np.array([])))\n"
      ],
      "execution_count": 159,
      "outputs": [
        {
          "output_type": "stream",
          "text": [
            "Error occured: Incompatible matrix sizes,\n",
            "                 possibly empty matrix provided\n"
          ],
          "name": "stdout"
        }
      ]
    }
  ]
}
